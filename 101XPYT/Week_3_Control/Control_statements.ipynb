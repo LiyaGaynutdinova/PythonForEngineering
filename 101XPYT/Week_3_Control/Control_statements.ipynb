{
 "cells": [
  {
   "attachments": {},
   "cell_type": "markdown",
   "metadata": {},
   "source": [
    "# Týden 3. Řídící příkazy.\n",
    "## Příkazy If/else\n",
    "Příkazy `if` umožňují spustit blok kódu, pokud je splněna určitá podmínka. Například následující kód používá příkaz if ke kontrole, zda je číslo kladné:"
   ]
  },
  {
   "cell_type": "code",
   "execution_count": 1,
   "metadata": {},
   "outputs": [
    {
     "name": "stdout",
     "output_type": "stream",
     "text": [
      "The number is positive.\n"
     ]
    }
   ],
   "source": [
    "num = 10\n",
    "\n",
    "if num > 0:\n",
    "    print(\"The number is positive.\")"
   ]
  },
  {
   "attachments": {},
   "cell_type": "markdown",
   "metadata": {},
   "source": [
    "Pokud je podmínka `číslo > 0` pravdivá, provede se kód uvnitř bloku if a na obrazovku se vypíše řetězec `\"Číslo je kladné.\"`.\n",
    "\n",
    "Příkazy `else` a `elif` můžete použít také pro zpracování různých případů. Zde je příklad, který používá příkaz `if`-`else` ke kontrole, zda je číslo kladné nebo záporné:"
   ]
  },
  {
   "cell_type": "code",
   "execution_count": 2,
   "metadata": {},
   "outputs": [
    {
     "name": "stdout",
     "output_type": "stream",
     "text": [
      "The number is negative.\n"
     ]
    }
   ],
   "source": [
    "num = -5\n",
    "\n",
    "if num > 0:\n",
    "    print(\"The number is positive.\")\n",
    "else:\n",
    "    print(\"The number is negative.\")"
   ]
  },
  {
   "attachments": {},
   "cell_type": "markdown",
   "metadata": {},
   "source": [
    "Když případu je několíik, můžete použít příkaz `elif`. Provede se pouze kód pod prvním příkazem splňujícím podmínku."
   ]
  },
  {
   "cell_type": "code",
   "execution_count": 3,
   "metadata": {},
   "outputs": [
    {
     "name": "stdout",
     "output_type": "stream",
     "text": [
      "The number is zero.\n"
     ]
    }
   ],
   "source": [
    "num = 0\n",
    "\n",
    "if num > 0:\n",
    "    print(\"The number is positive.\")\n",
    "elif num < 0:\n",
    "    print(\"The number is negative.\")\n",
    "else:\n",
    "    print(\"The number is zero.\")"
   ]
  },
  {
   "attachments": {},
   "cell_type": "markdown",
   "metadata": {},
   "source": [
    "## For smyčky\n",
    "Smyčky `for` umožňují iterovat přes posloupnost hodnot, například seznam nebo řetězec. Následující kód například používá smyčku `for` k iteraci seznamu čísel a vypisuje každé číslo na obrazovku:"
   ]
  },
  {
   "cell_type": "code",
   "execution_count": 4,
   "metadata": {},
   "outputs": [
    {
     "name": "stdout",
     "output_type": "stream",
     "text": [
      "1\n",
      "2\n",
      "3\n",
      "4\n",
      "5\n"
     ]
    }
   ],
   "source": [
    "numbers = [1, 2, 3, 4, 5]\n",
    "\n",
    "for num in numbers:\n",
    "    print(num)"
   ]
  },
  {
   "attachments": {},
   "cell_type": "markdown",
   "metadata": {},
   "source": [
    "Podobně lze iterovat nad řetězcem:"
   ]
  },
  {
   "cell_type": "code",
   "execution_count": 5,
   "metadata": {},
   "outputs": [
    {
     "name": "stdout",
     "output_type": "stream",
     "text": [
      "H\n",
      "e\n",
      "l\n",
      "l\n",
      "o\n",
      " \n",
      "W\n",
      "o\n",
      "r\n",
      "l\n",
      "d\n",
      "!\n"
     ]
    }
   ],
   "source": [
    "string = \"Hello World!\"\n",
    "\n",
    "for char in string:\n",
    "    print(char)"
   ]
  },
  {
   "attachments": {},
   "cell_type": "markdown",
   "metadata": {},
   "source": [
    "Pomocí objektu `range()` můžete provést blok kódu zadaný početkrát:"
   ]
  },
  {
   "cell_type": "code",
   "execution_count": 8,
   "metadata": {},
   "outputs": [
    {
     "name": "stdout",
     "output_type": "stream",
     "text": [
      "This is iteration 0\n",
      "This is iteration 1\n",
      "This is iteration 2\n",
      "This is iteration 3\n",
      "This is iteration 4\n"
     ]
    }
   ],
   "source": [
    "for i in range(5):\n",
    "    print(f\"This is iteration {i}\")"
   ]
  },
  {
   "attachments": {},
   "cell_type": "markdown",
   "metadata": {},
   "source": [
    "## While smyčky\n",
    "Smyčky `while` umožňují opakovaně provádět blok kódu, dokud platí určitá podmínka. Například následující kód používá smyčku `while` k vypsání čísel od 1 do 5:"
   ]
  },
  {
   "cell_type": "code",
   "execution_count": 9,
   "metadata": {},
   "outputs": [
    {
     "name": "stdout",
     "output_type": "stream",
     "text": [
      "1\n",
      "2\n",
      "3\n",
      "4\n",
      "5\n"
     ]
    }
   ],
   "source": [
    "num = 1\n",
    "\n",
    "while num <= 5:\n",
    "    print(num)\n",
    "    num += 1"
   ]
  },
  {
   "attachments": {},
   "cell_type": "markdown",
   "metadata": {},
   "source": [
    "Smyčka `while` se provádí tak dlouho, dokud je podmínka `číslo <= 5` pravdivá. Uvnitř smyčky vypíšeme hodnotu `číslo` a poté ji pomocí operátoru `+=` zvýšíme o 1. Můžete také použít příkaz `break` s příkazem `if` pro předčasné ukončení cyklu, pokud je splněna určitá podmínka."
   ]
  },
  {
   "cell_type": "code",
   "execution_count": 13,
   "metadata": {},
   "outputs": [
    {
     "name": "stdout",
     "output_type": "stream",
     "text": [
      "5\n",
      "4\n",
      "3\n",
      "2\n",
      "1\n"
     ]
    }
   ],
   "source": [
    "num = 5\n",
    "\n",
    "while True: \n",
    "    print(num) \n",
    "    num -= 1\n",
    "    if num <= 0:\n",
    "        break"
   ]
  },
  {
   "attachments": {},
   "cell_type": "markdown",
   "metadata": {},
   "source": [
    "### Cvičení\n",
    "Napište program, který vyzve uživatele k zadání kladného celého čísla a poté vypočítá a zobrazí součet prvních `n` lichých čísel, kde `n` je celé číslo zadané uživatelem.\n",
    "\n",
    "Zde jsou uvedeny kroky, které je třeba provést:\n",
    "\n",
    "1. Pomocí funkce `input()` vyzvěte uživatele k zadání kladného celého čísla. 2. Použijte funkci `int()` k převodu vstupu na celé číslo a uložte jej do proměnné n.\n",
    "\n",
    "2. Pomocí smyčky `while` zkontrolujte, zda je `n` kladné. Pokud `n` není kladné, znovu vyzvěte uživatele, aby zadal kladné celé číslo.\n",
    "\n",
    "3. Pomocí smyčky `for` iterujte přes první `n` lichých čísel. Pro generování lichých čísel použijte funkci `range()`.\n",
    "\n",
    "4. Pomocí příkazu `if` zkontrolujte, zda je aktuální číslo liché. Pokud je liché, přičtěte ho k proměnné součet.\n",
    "\n",
    "5. Zobrazte konečnou hodnotu součtu pomocí funkce `print()`."
   ]
  },
  {
   "cell_type": "code",
   "execution_count": 17,
   "metadata": {},
   "outputs": [
    {
     "name": "stdout",
     "output_type": "stream",
     "text": [
      "The sum of the first 4 odd numbers is 16\n"
     ]
    }
   ],
   "source": [
    "# Prompt the user to enter a positive integer\n",
    "n = int(input(\"Enter a positive integer: \"))\n",
    "\n",
    "# Check if n is positive\n",
    "\n",
    "\n",
    "# Compute the sum of the first n odd numbers\n",
    "sum = 0\n",
    "\n",
    "\n",
    "# Display the result\n",
    "print(\"The sum of the first\", n, \"odd numbers is\", sum)"
   ]
  }
 ],
 "metadata": {
  "kernelspec": {
   "display_name": "base",
   "language": "python",
   "name": "python3"
  },
  "language_info": {
   "codemirror_mode": {
    "name": "ipython",
    "version": 3
   },
   "file_extension": ".py",
   "mimetype": "text/x-python",
   "name": "python",
   "nbconvert_exporter": "python",
   "pygments_lexer": "ipython3",
   "version": "3.9.13"
  },
  "orig_nbformat": 4
 },
 "nbformat": 4,
 "nbformat_minor": 2
}
