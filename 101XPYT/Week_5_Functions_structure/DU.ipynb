{
 "cells": [
  {
   "attachments": {},
   "cell_type": "markdown",
   "metadata": {},
   "source": [
    "# Domácí úkol\n",
    "\n",
    "Napiště verzi Newtonova algoritmu pro nalezení kořene polynomu. V kódu k definici polynomu použijtě funkci lambda. Postupujte podle následujících kroků:\n",
    "\n",
    "1. Vytvořte funkci s názvem `newton_root`, která bude mít následující parametry:\n",
    "   - `f`: lambda funkce reprezentující polynom.\n",
    "   - `f_prime`: lambda funkce představující derivaci polynomu.\n",
    "   - `x0`: Počáteční odhad kořene.\n",
    "   - `tolerance`: Malá hodnota udávající požadovanou úroveň přesnosti.\n",
    "   - `max_iterations`: Maximální počet povolených iterací.\n",
    "2. Uvnitř funkce `newton_root` implementujte Newtonův algoritmus:\n",
    "   - Inicializujte proměnnou `x` pro uložení aktuální aproximace kořene, počínaje `x0`.\n",
    "   - Pomocí smyčky iterujte, dokud není dosaženo požadované přesnosti nebo dokud není dosaženo maximálního počtu iterací.\n",
    "   - V každé iteraci:\n",
    "     - Vypočítejte `fx` vyhodnocením polynomu `f(x)` pomocí zadané funkce lambda.\n",
    "     - Vypočítejte `fpx` vyhodnocením derivace `f_prime(x)` pomocí zadané funkce lambda.\n",
    "     - Aktualizujte `x` pomocí vzorce Newtonova algoritmu: `x = x - (fx / fpx)`.\n",
    "     - Zkontrolujte, zda je absolutní rozdíl mezi aktuálním `x` a předchozí aproximací menší než tolerance. Pokud ano, ukončete cyklus.\n",
    "   - Po ukončení smyčky vraťte konečnou aproximaci kořene uloženou v `x`.\n",
    "3. Zadejte polynom a jeho derivaci pomocí lambda funkcí.\n",
    "4. Volání funkce `newton_root` s příslušnými lambda funkcemi a uživatelem zadanými parametry.\n",
    "5. Vypište aproximaci kořene."
   ]
  },
  {
   "cell_type": "code",
   "execution_count": 4,
   "metadata": {},
   "outputs": [
    {
     "name": "stdout",
     "output_type": "stream",
     "text": [
      "Enter the coefficients and exponent of the polynomial:\n",
      "Approximation of the root: 0.0\n"
     ]
    }
   ],
   "source": [
    "def newton_root():\n",
    "    return \n",
    "\n",
    "# Define the lambda functions for the polynomial and its derivative\n",
    "polynomial = lambda x: None\n",
    "derivative = lambda x: None\n",
    "\n",
    "# Call the newton_root function and print the root approximation\n",
    "root_approximation = newton_root(polynomial, derivative, x0, tolerance, max_iterations)\n",
    "print(\"Approximation of the root:\", root_approximation)"
   ]
  }
 ],
 "metadata": {
  "kernelspec": {
   "display_name": "base",
   "language": "python",
   "name": "python3"
  },
  "language_info": {
   "codemirror_mode": {
    "name": "ipython",
    "version": 3
   },
   "file_extension": ".py",
   "mimetype": "text/x-python",
   "name": "python",
   "nbconvert_exporter": "python",
   "pygments_lexer": "ipython3",
   "version": "3.10.9"
  },
  "orig_nbformat": 4
 },
 "nbformat": 4,
 "nbformat_minor": 2
}
