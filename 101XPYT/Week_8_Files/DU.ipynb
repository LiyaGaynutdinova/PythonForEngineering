{
 "cells": [
  {
   "attachments": {},
   "cell_type": "markdown",
   "metadata": {},
   "source": [
    "# Domácí úkol: Počet slov\n",
    "\n",
    "Vytvořte program, který načte textový soubor, spočítá výskyt jednotlivých slov v souboru a zobrazí počet slov pro každé jedinečné slovo. \n",
    "\n",
    "1. Vytvořte textový soubor s názvem `sample.txt` a vložte do něj text. \n",
    "\n",
    "2. Implementujte funkci `count_words(file_path)`, která jako argument přijme cestu k souboru a vrátí slovník obsahující počet jednotlivých unikátních slov.\n",
    "\n",
    "3. Funkce by měla ignorovat interpunkci a nerozlišovat velká a malá písmena. Například \"Hello\" a \"hello\" by měly být považovány za stejné slovo.\n",
    "\n",
    "4. Vypište počet slov pro každé jedinečné slovo ve formátovaném tvaru \"slovo: počet\"."
   ]
  },
  {
   "cell_type": "code",
   "execution_count": null,
   "metadata": {},
   "outputs": [],
   "source": [
    "from count_words import *\n",
    "\n",
    "# Test the solution\n",
    "file_path = \"sample.txt\"\n",
    "word_count = count_words(file_path)\n",
    "print_word_count(word_count)"
   ]
  }
 ],
 "metadata": {
  "kernelspec": {
   "display_name": "base",
   "language": "python",
   "name": "python3"
  },
  "language_info": {
   "codemirror_mode": {
    "name": "ipython",
    "version": 3
   },
   "file_extension": ".py",
   "mimetype": "text/x-python",
   "name": "python",
   "nbconvert_exporter": "python",
   "pygments_lexer": "ipython3",
   "version": "3.10.9"
  },
  "orig_nbformat": 4
 },
 "nbformat": 4,
 "nbformat_minor": 2
}
