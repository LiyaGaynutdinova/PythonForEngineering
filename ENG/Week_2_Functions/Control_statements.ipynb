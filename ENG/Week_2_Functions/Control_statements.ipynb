{
 "cells": [
  {
   "attachments": {},
   "cell_type": "markdown",
   "metadata": {},
   "source": [
    "# Week 2. Control statements, functions.\n",
    "## If/else statements\n",
    "If statements allow you to execute a block of code if a certain condition is true. For example, the following code uses an if statement to check if a number is positive:"
   ]
  },
  {
   "cell_type": "code",
   "execution_count": 1,
   "metadata": {},
   "outputs": [
    {
     "name": "stdout",
     "output_type": "stream",
     "text": [
      "The number is positive.\n"
     ]
    }
   ],
   "source": [
    "num = 10\n",
    "\n",
    "if num > 0:\n",
    "    print(\"The number is positive.\")"
   ]
  },
  {
   "attachments": {},
   "cell_type": "markdown",
   "metadata": {},
   "source": [
    "If the condition `num > 0` is true, the code inside the if block is executed, and the string `\"The number is positive.\"` is printed to the screen.\n",
    "\n",
    "You can also use `else` and `elif` statements to handle different cases. Here's an example that uses an if-else statement to check if a number is positive or negative:"
   ]
  },
  {
   "cell_type": "code",
   "execution_count": 2,
   "metadata": {},
   "outputs": [
    {
     "name": "stdout",
     "output_type": "stream",
     "text": [
      "The number is negative.\n"
     ]
    }
   ],
   "source": [
    "num = -5\n",
    "\n",
    "if num > 0:\n",
    "    print(\"The number is positive.\")\n",
    "else:\n",
    "    print(\"The number is negative.\")"
   ]
  },
  {
   "attachments": {},
   "cell_type": "markdown",
   "metadata": {},
   "source": [
    "For many cases you can use the `elif` statement. Only the code under the first true statement will execute."
   ]
  },
  {
   "cell_type": "code",
   "execution_count": 3,
   "metadata": {},
   "outputs": [
    {
     "name": "stdout",
     "output_type": "stream",
     "text": [
      "The number is zero.\n"
     ]
    }
   ],
   "source": [
    "num = 0\n",
    "\n",
    "if num > 0:\n",
    "    print(\"The number is positive.\")\n",
    "elif num < 0:\n",
    "    print(\"The number is negative.\")\n",
    "else:\n",
    "    print(\"The number is zero.\")"
   ]
  },
  {
   "attachments": {},
   "cell_type": "markdown",
   "metadata": {},
   "source": [
    "## For loops\n",
    "`For` loops allow you to iterate over a sequence of values, such as a list or a string. For example, the following code uses a `for` loop to iterate over a list of numbers and print each number to the screen:"
   ]
  },
  {
   "cell_type": "code",
   "execution_count": 4,
   "metadata": {},
   "outputs": [
    {
     "name": "stdout",
     "output_type": "stream",
     "text": [
      "1\n",
      "2\n",
      "3\n",
      "4\n",
      "5\n"
     ]
    }
   ],
   "source": [
    "numbers = [1, 2, 3, 4, 5]\n",
    "\n",
    "for num in numbers:\n",
    "    print(num)"
   ]
  },
  {
   "attachments": {},
   "cell_type": "markdown",
   "metadata": {},
   "source": [
    "Similarly, you can iterate over a string:"
   ]
  },
  {
   "cell_type": "code",
   "execution_count": 5,
   "metadata": {},
   "outputs": [
    {
     "name": "stdout",
     "output_type": "stream",
     "text": [
      "H\n",
      "e\n",
      "l\n",
      "l\n",
      "o\n",
      " \n",
      "W\n",
      "o\n",
      "r\n",
      "l\n",
      "d\n",
      "!\n"
     ]
    }
   ],
   "source": [
    "string = \"Hello World!\"\n",
    "\n",
    "for char in string:\n",
    "    print(char)"
   ]
  },
  {
   "attachments": {},
   "cell_type": "markdown",
   "metadata": {},
   "source": [
    "Using the object `range()`, you can execute a block of code the given number of times:"
   ]
  },
  {
   "cell_type": "code",
   "execution_count": 8,
   "metadata": {},
   "outputs": [
    {
     "name": "stdout",
     "output_type": "stream",
     "text": [
      "This is iteration 0\n",
      "This is iteration 1\n",
      "This is iteration 2\n",
      "This is iteration 3\n",
      "This is iteration 4\n"
     ]
    }
   ],
   "source": [
    "for i in range(5):\n",
    "    print(f\"This is iteration {i}\")"
   ]
  },
  {
   "attachments": {},
   "cell_type": "markdown",
   "metadata": {},
   "source": [
    "## While loops\n",
    "`While` loops allow you to execute a block of code repeatedly while a certain condition is true. For example, the following code uses a `while` loop to print the numbers from 1 to 5:"
   ]
  },
  {
   "cell_type": "code",
   "execution_count": 9,
   "metadata": {},
   "outputs": [
    {
     "name": "stdout",
     "output_type": "stream",
     "text": [
      "1\n",
      "2\n",
      "3\n",
      "4\n",
      "5\n"
     ]
    }
   ],
   "source": [
    "num = 1\n",
    "\n",
    "while num <= 5:\n",
    "    print(num)\n",
    "    num += 1"
   ]
  },
  {
   "attachments": {},
   "cell_type": "markdown",
   "metadata": {},
   "source": [
    "The while loop continues to execute as long as the condition `num <= 5` is true. Inside the loop, we print the value of `num` and then increment it by 1 using the `+=` operator. You can also use a `break` statement with `if` to end the loop prematurely if a certain condition is met.​"
   ]
  },
  {
   "cell_type": "code",
   "execution_count": 13,
   "metadata": {},
   "outputs": [
    {
     "name": "stdout",
     "output_type": "stream",
     "text": [
      "5\n",
      "4\n",
      "3\n",
      "2\n",
      "1\n"
     ]
    }
   ],
   "source": [
    "num = 5\n",
    "\n",
    "while True: \n",
    "    print(num) \n",
    "    num -= 1\n",
    "    if num <= 0:\n",
    "        break"
   ]
  },
  {
   "attachments": {},
   "cell_type": "markdown",
   "metadata": {},
   "source": [
    "### Excercise\n",
    "Write a program that prompts the user to enter a positive integer, and then computes and displays the sum of the first `n` odd numbers, where `n` is the integer entered by the user.\n",
    "\n",
    "Here are the steps to follow:\n",
    "\n",
    "1. Use the `input()` function to prompt the user to enter a positive integer. Use the `int()` function to convert the input to an integer and store it in a variable n.\n",
    "\n",
    "2. Use a `while` loop to check if `n` is positive. If `n` is not positive, prompt the user again to enter a positive integer.\n",
    "\n",
    "3. Use a `for` loop to iterate over the first `n` odd numbers. Use the `range()` function to generate the odd numbers.\n",
    "\n",
    "4. Use an `if` statement to check if the current number is odd. If it is odd, add it to a variable sum.\n",
    "\n",
    "5. Display the final value of sum using the `print()` function."
   ]
  },
  {
   "cell_type": "code",
   "execution_count": 17,
   "metadata": {},
   "outputs": [
    {
     "name": "stdout",
     "output_type": "stream",
     "text": [
      "The sum of the first 4 odd numbers is 16\n"
     ]
    }
   ],
   "source": [
    "# Prompt the user to enter a positive integer\n",
    "n = int(input(\"Enter a positive integer: \"))\n",
    "\n",
    "# Check if n is positive\n",
    "\n",
    "\n",
    "# Compute the sum of the first n odd numbers\n",
    "sum = 0\n",
    "\n",
    "\n",
    "# Display the result\n",
    "print(\"The sum of the first\", n, \"odd numbers is\", sum)"
   ]
  },
  {
   "attachments": {},
   "cell_type": "markdown",
   "metadata": {},
   "source": [
    "## Functions\n",
    "### Defining a function\n",
    "You define a function in Python using the `def` keyword followed by the function name and a set of parentheses. The parentheses can include parameters that the function takes as input. Functions return a value using the `return` keyword. This value can be used in your code, assigned to a variable, or passed to another function. For example, here's a function that takes two numbers as input and returns their sum:"
   ]
  },
  {
   "cell_type": "code",
   "execution_count": 1,
   "metadata": {},
   "outputs": [],
   "source": [
    "def add_numbers(x, y):\n",
    "    sum = x + y\n",
    "    return sum"
   ]
  },
  {
   "attachments": {},
   "cell_type": "markdown",
   "metadata": {},
   "source": [
    "### Calling a function\n",
    "Once you've defined a function, you can call it from your code using its name and passing in any required arguments. For example, to call the `add_numbers()` function and pass in the arguments `3` and `4`, you would use the following code:"
   ]
  },
  {
   "cell_type": "code",
   "execution_count": 2,
   "metadata": {},
   "outputs": [
    {
     "name": "stdout",
     "output_type": "stream",
     "text": [
      "7\n"
     ]
    }
   ],
   "source": [
    "result = add_numbers(3, 4)\n",
    "print(result)"
   ]
  },
  {
   "attachments": {},
   "cell_type": "markdown",
   "metadata": {},
   "source": [
    "### Local and global variables\n",
    "It is important to distinguish between local and global variables. **Local** variables are variables that are defined inside a function and can only be accessed within that function. They are created when the function is called and destroyed when the function returns. Here's an example of a function that defines a local variable:\n"
   ]
  },
  {
   "cell_type": "code",
   "execution_count": 4,
   "metadata": {},
   "outputs": [
    {
     "name": "stdout",
     "output_type": "stream",
     "text": [
      "The value of x inside the function is 10\n"
     ]
    }
   ],
   "source": [
    "def my_function():\n",
    "    x = 10\n",
    "    print(\"The value of x inside the function is\", x)\n",
    "\n",
    "my_function()"
   ]
  },
  {
   "attachments": {},
   "cell_type": "markdown",
   "metadata": {},
   "source": [
    "In this example, the variable `x` is a local variable that is defined inside the `my_function()` function. When the function is called, the value of `x` is set to `10`, and then the function prints the value of `x` to the screen.\n",
    "\n",
    "**Global** variables are variables that are defined outside of any function and can be accessed by any function in the program. They are created when the program starts and destroyed when the program ends. Here's an example of a global variable:"
   ]
  },
  {
   "cell_type": "code",
   "execution_count": 7,
   "metadata": {},
   "outputs": [
    {
     "name": "stdout",
     "output_type": "stream",
     "text": [
      "The value of x outside the function is 5\n"
     ]
    }
   ],
   "source": [
    "x = 5\n",
    "\n",
    "def my_function():\n",
    "    print(\"The value of x outside the function is\", x)\n",
    "\n",
    "my_function()"
   ]
  },
  {
   "attachments": {},
   "cell_type": "markdown",
   "metadata": {},
   "source": [
    "In this example, the variable x is a global variable that is defined outside the my_function() function. When the function is called, it prints the value of x to the screen. Because x is a global variable, it can be accessed by any function in the program. If you want to change the value of a global variable inside a function, you need to use the `global` keyword to tell Python that you want to use the global variable, rather than a local variable with the same name. Here's an example:"
   ]
  },
  {
   "cell_type": "code",
   "execution_count": 6,
   "metadata": {},
   "outputs": [
    {
     "name": "stdout",
     "output_type": "stream",
     "text": [
      "The value of x inside the function is 10\n",
      "The value of x outside the function is 10\n"
     ]
    }
   ],
   "source": [
    "x = 5\n",
    "\n",
    "def my_function():\n",
    "    global x\n",
    "    x = 10\n",
    "    print(\"The value of x inside the function is\", x)\n",
    "\n",
    "my_function()\n",
    "print(\"The value of x outside the function is\", x)"
   ]
  },
  {
   "attachments": {},
   "cell_type": "markdown",
   "metadata": {},
   "source": [
    "In general, it is not considered good practice to change the value of global variables inside a function. This is because global variables are accessible from anywhere in the program, so changing their value inside a function can make it harder to understand and maintain the code.\n",
    "\n",
    "Instead, it is generally better to pass variables as arguments to functions and return values from functions, rather than relying on global variables. This makes the code more modular and easier to understand, since it makes it clear which variables are used by each function."
   ]
  },
  {
   "attachments": {},
   "cell_type": "markdown",
   "metadata": {},
   "source": [
    "### Excercise\n",
    "\n",
    "Write a Python program that defines two functions: `calculate_area()` and `calculate_perimeter()`. The `calculate_area()` function should take two arguments, length and width, and return the area of a rectangle with the given length and width. The `calculate_perimeter()` function should take the same arguments and return the perimeter of the rectangle.\n",
    "\n",
    "Here are the steps to follow:\n",
    "\n",
    "1. Define the `calculate_area()` function. This function should take two arguments, length and width, and return the product of length and width.\n",
    "\n",
    "2. Define the `calculate_perimeter()` function. This function should take two arguments, length and width, and return the sum of length and width, multiplied by 2.\n",
    "\n",
    "3. Use the `input()` function to prompt the user to enter the length and width of a rectangle.\n",
    "\n",
    "4. Use the `float()` function to convert the user input to floating-point numbers.\n",
    "\n",
    "5. Call the `calculate_area()` and `calculate_perimeter()` functions with the user input as arguments.\n",
    "\n",
    "6. Display the results using the `print()` function."
   ]
  },
  {
   "cell_type": "code",
   "execution_count": 8,
   "metadata": {},
   "outputs": [
    {
     "name": "stdout",
     "output_type": "stream",
     "text": [
      "The area of the rectangle is: 30.0\n",
      "The perimeter of the rectangle is: 22.0\n"
     ]
    }
   ],
   "source": [
    "#Define the functions\n",
    "\n",
    "\n",
    "\n",
    "\n",
    "length = float(input(\"Enter the length of the rectangle: \"))\n",
    "width = float(input(\"Enter the width of the rectangle: \"))\n",
    "\n",
    "#Call the functions\n",
    "\n",
    "\n",
    "\n",
    "\n",
    "print(\"The area of the rectangle is:\", area)\n",
    "print(\"The perimeter of the rectangle is:\", perimeter)"
   ]
  }
 ],
 "metadata": {
  "kernelspec": {
   "display_name": "base",
   "language": "python",
   "name": "python3"
  },
  "language_info": {
   "codemirror_mode": {
    "name": "ipython",
    "version": 3
   },
   "file_extension": ".py",
   "mimetype": "text/x-python",
   "name": "python",
   "nbconvert_exporter": "python",
   "pygments_lexer": "ipython3",
   "version": "3.9.13"
  },
  "orig_nbformat": 4
 },
 "nbformat": 4,
 "nbformat_minor": 2
}
