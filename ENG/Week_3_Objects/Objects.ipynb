{
 "cells": [
  {
   "attachments": {},
   "cell_type": "markdown",
   "metadata": {},
   "source": [
    "# Week 3. OOP in Python.\n",
    "## Defining a class\n",
    "In Python, objects are created from classes, which define the data and methods (functions) that are associated with the object. To define a class in Python, you use the class keyword followed by the name of the class. For example, to create an object of the class `Rectangle` with `length 4` and `width 5`, you would use the following code:"
   ]
  },
  {
   "cell_type": "code",
   "execution_count": 1,
   "metadata": {},
   "outputs": [],
   "source": [
    "class Rectangle:\n",
    "    def __init__(self, length, width):\n",
    "        self.length = length\n",
    "        self.width = width"
   ]
  },
  {
   "attachments": {},
   "cell_type": "markdown",
   "metadata": {},
   "source": [
    "The `__init__()` method is a special method that is called when the object is created. It is used to initialize the object's attributes (data). The self parameter refers to the object itself, and is used to access the object's attributes and methods. \n",
    "\n",
    "## Creating an object\n",
    "\n",
    "The following code would create an object `rect` of the `Rectangle` class with length `4` and width `5`."
   ]
  },
  {
   "cell_type": "code",
   "execution_count": 2,
   "metadata": {},
   "outputs": [],
   "source": [
    "rect = Rectangle(4, 5)"
   ]
  },
  {
   "attachments": {},
   "cell_type": "markdown",
   "metadata": {},
   "source": [
    "## Accessing object attributes\n",
    "Once you've created an object, you can access its attributes using the `.` operator. For example, to access the `length` attribute of the `rect` object, you would use the following code:"
   ]
  },
  {
   "cell_type": "code",
   "execution_count": 3,
   "metadata": {},
   "outputs": [
    {
     "name": "stdout",
     "output_type": "stream",
     "text": [
      "4\n"
     ]
    }
   ],
   "source": [
    "print(rect.length)"
   ]
  },
  {
   "attachments": {},
   "cell_type": "markdown",
   "metadata": {},
   "source": [
    "## Calling object methods\n",
    "Objects in Python can also have methods, which are functions that operate on the object's data. To call an object's method, you use the `.` operator followed by the method name and any required arguments. For example, here's a `Rectangle` class with a method `calculate_area()` that calculates the area of the rectangle:"
   ]
  },
  {
   "cell_type": "code",
   "execution_count": 4,
   "metadata": {},
   "outputs": [
    {
     "name": "stdout",
     "output_type": "stream",
     "text": [
      "20\n"
     ]
    }
   ],
   "source": [
    "class Rectangle:\n",
    "    def __init__(self, length, width):\n",
    "        self.length = length\n",
    "        self.width = width\n",
    "\n",
    "    def calculate_area(self):\n",
    "        area = self.length * self.width\n",
    "        return area\n",
    "\n",
    "rect = Rectangle(4, 5)\n",
    "area = rect.calculate_area()\n",
    "print(area)"
   ]
  },
  {
   "attachments": {},
   "cell_type": "markdown",
   "metadata": {},
   "source": [
    "This would create an object `rect` of the `Rectangle` class with length `4` and width `5`. We would then call the `calculate_area()` method of the `rect` object, which would calculate the area of the rectangle (`20`) and return it to the variable `area`. Finally, we would print the value of `area`, which would output `20`."
   ]
  },
  {
   "attachments": {},
   "cell_type": "markdown",
   "metadata": {},
   "source": [
    "## Inheritance\n",
    "\n",
    "Class inheritance allows us to create specialized classes that inherit attributes and methods from a base class, while also adding their own unique attributes and methods. This makes it easier to write and maintain complex programs by organizing code into modular, reusable components. In this example, we define a base class `Animal` that has a constructor method `__init__()` that takes a name and species parameter and initializes the corresponding attributes. We have also defined a method `make_sound()` that prints a generic message about the animal making a sound."
   ]
  },
  {
   "cell_type": "code",
   "execution_count": 5,
   "metadata": {},
   "outputs": [],
   "source": [
    "class Animal:\n",
    "    def __init__(self, name, species):\n",
    "        self.name = name\n",
    "        self.species = species\n",
    "\n",
    "    def make_sound(self):\n",
    "        print(\"This animal makes a sound.\")"
   ]
  },
  {
   "attachments": {},
   "cell_type": "markdown",
   "metadata": {},
   "source": [
    "Now we can define two subclasses, `Dog` and `Cat`, that inherit from the `Animal` class. These subclasses have their own constructor methods that call the parent constructor using the `super()` function, and add additional attributes (`breed`) specific to dogs and cats. Each subclass also overrides the `make_sound()` method to provide a specific sound for that type of animal."
   ]
  },
  {
   "cell_type": "code",
   "execution_count": 6,
   "metadata": {},
   "outputs": [],
   "source": [
    "class Dog(Animal):\n",
    "    def __init__(self, name, breed):\n",
    "        super().__init__(name, \"Canine\")\n",
    "        self.breed = breed\n",
    "\n",
    "    def make_sound(self):\n",
    "        print(\"Woof!\")\n",
    "\n",
    "class Cat(Animal):\n",
    "    def __init__(self, name, breed):\n",
    "        super().__init__(name, \"Feline\")\n",
    "        self.breed = breed\n",
    "\n",
    "    def make_sound(self):\n",
    "        print(\"Meow!\")"
   ]
  },
  {
   "attachments": {},
   "cell_type": "markdown",
   "metadata": {},
   "source": [
    "Finally, we create instances of the Dog and Cat classes and printed their attributes and called their `make_sound()` method. When the `make_sound()` method is called on the `Dog` and `Cat` objects, it will print the specific sound associated with that type of animal."
   ]
  },
  {
   "cell_type": "code",
   "execution_count": 7,
   "metadata": {},
   "outputs": [
    {
     "name": "stdout",
     "output_type": "stream",
     "text": [
      "Fido Canine Labrador\n",
      "Woof!\n",
      "Whiskers Feline Persian\n",
      "Meow!\n"
     ]
    }
   ],
   "source": [
    "dog = Dog(\"Fido\", \"Labrador\")\n",
    "cat = Cat(\"Whiskers\", \"Persian\")\n",
    "\n",
    "print(dog.name, dog.species, dog.breed)\n",
    "dog.make_sound()\n",
    "\n",
    "print(cat.name, cat.species, cat.breed)\n",
    "cat.make_sound()"
   ]
  },
  {
   "attachments": {},
   "cell_type": "markdown",
   "metadata": {},
   "source": [
    "### Excercise\n",
    "\n",
    "Write a Python program that defines a class `Person` with attributes `name` and `age`. The `Person` class should also have a method `introduction()` that prints the person's name and age.\n",
    "\n",
    "Here are the steps to follow:\n",
    "\n",
    "1. Define the Person class. This class should have two attributes, name and age, and a method `introduction()` that prints the person's name and age.\n",
    "\n",
    "2. Use the `input()` function to prompt the user to enter a person's name and age.\n",
    "\n",
    "3. Create an instance of the `Person` class using the user input as arguments.\n",
    "\n",
    "4. Call the `introduction()` method of the `Person` object."
   ]
  }
 ],
 "metadata": {
  "kernelspec": {
   "display_name": "base",
   "language": "python",
   "name": "python3"
  },
  "language_info": {
   "codemirror_mode": {
    "name": "ipython",
    "version": 3
   },
   "file_extension": ".py",
   "mimetype": "text/x-python",
   "name": "python",
   "nbconvert_exporter": "python",
   "pygments_lexer": "ipython3",
   "version": "3.9.13"
  },
  "orig_nbformat": 4
 },
 "nbformat": 4,
 "nbformat_minor": 2
}
