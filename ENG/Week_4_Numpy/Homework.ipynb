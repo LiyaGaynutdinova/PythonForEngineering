{
 "cells": [
  {
   "cell_type": "code",
   "execution_count": 1,
   "metadata": {},
   "outputs": [],
   "source": [
    "import numpy as np"
   ]
  },
  {
   "cell_type": "code",
   "execution_count": 2,
   "metadata": {},
   "outputs": [],
   "source": [
    "# Define the nodal coordinates and element connectivity\n",
    "coordinates = np.array([[0, 0], [1, 0], [0, 1], [1, 1]])\n",
    "elements = np.array([[0, 1], [0, 2], [0, 3], [1, 3], [2, 3]])"
   ]
  },
  {
   "cell_type": "code",
   "execution_count": 3,
   "metadata": {},
   "outputs": [],
   "source": [
    "# Define the material properties and cross-sectional area\n",
    "E = 100e9\n",
    "A = 0.01"
   ]
  },
  {
   "cell_type": "code",
   "execution_count": 4,
   "metadata": {},
   "outputs": [],
   "source": [
    "def local_stiffness(A, E, x, y):\n",
    "    L = np.sqrt((x[1] - x[0]) ** 2 + (y[1] - y[0]) ** 2)\n",
    "    c = (x[1] - x[0]) / L\n",
    "    s = (y[1] - y[0]) / L\n",
    "    K_loc = (A * E / L) * np.array([[c**2,  c*s,   -c**2, -c*s], \n",
    "                                    [c*s,   s**2,  -c*s,  -s**2], \n",
    "                                    [-c**2, -c*s,  c**2,   c*s], \n",
    "                                    [-c*s,  -s**2, c*s,    s**2]])\n",
    "    return K_loc"
   ]
  },
  {
   "cell_type": "code",
   "execution_count": 14,
   "metadata": {},
   "outputs": [],
   "source": [
    "def stress(E, x0, y0, x, y):\n",
    "    L = np.sqrt((x0[1] - x0[0]) ** 2 + (y0[1] - y0[0]) ** 2)\n",
    "    c = (x0[1] - x0[0]) / L\n",
    "    s = (y0[1] - y0[0]) / L\n",
    "    sigma = E / L * (np.array([-c, -s, c, s]) @ np.array([x[0], y[0], x[1], y[1]]))\n",
    "    return sigma"
   ]
  },
  {
   "cell_type": "code",
   "execution_count": 5,
   "metadata": {},
   "outputs": [],
   "source": [
    "# Define the global stiffness matrix\n",
    "n_nodes = len(coordinates)\n",
    "n_elements = len(elements)\n",
    "K_global = np.zeros((2 * n_nodes, 2 * n_nodes))\n",
    "for i in range(n_elements):\n",
    "    element = elements[i]\n",
    "    x1, y1 = coordinates[element[0]]\n",
    "    x2, y2 = coordinates[element[1]]\n",
    "    K_e = local_stiffness(A, E, (x1, x2), (y1, y2))\n",
    "    dof = np.array([2 * element[0], 2 * element[0] + 1, 2 * element[1], 2 * element[1] + 1])\n",
    "    K_global[np.ix_(dof, dof)] += K_e"
   ]
  },
  {
   "cell_type": "code",
   "execution_count": 9,
   "metadata": {},
   "outputs": [],
   "source": [
    "# Apply boundary conditions\n",
    "fixed_dofs = np.array([0, 1, 4])     # dofs  1, 2 are fixed\n",
    "free_dofs = np.setdiff1d(np.arange(2 * n_nodes), fixed_dofs)  # the rest of the dofs are free\n",
    "K_ff = K_global[np.ix_(free_dofs, free_dofs)]\n",
    "K_fe = K_global[np.ix_(free_dofs, fixed_dofs)]\n",
    "K_ef = K_global[np.ix_(fixed_dofs, free_dofs)]\n",
    "F = np.zeros(2 * n_nodes)\n",
    "F[7] = -1000  # apply a downward force at dof 7\n",
    "F_f = F[free_dofs]\n",
    "F_e = F[fixed_dofs]"
   ]
  },
  {
   "cell_type": "code",
   "execution_count": 10,
   "metadata": {},
   "outputs": [],
   "source": [
    "# Solve the resulting system of linear equations\n",
    "U_f = np.linalg.solve(K_ff, F_f)\n",
    "U = np.zeros(2 * n_nodes)\n",
    "U[free_dofs] = U_f"
   ]
  },
  {
   "cell_type": "code",
   "execution_count": 11,
   "metadata": {},
   "outputs": [],
   "source": [
    "# Calculate reactions\n",
    "R_e = K_ef @ U_f\n",
    "R_global = np.zeros(2 * n_nodes)\n",
    "R_global[fixed_dofs] += R_e"
   ]
  },
  {
   "cell_type": "code",
   "execution_count": 26,
   "metadata": {},
   "outputs": [],
   "source": [
    "# Calculate the element stresses and forces\n",
    "sigma_e = np.zeros(n_elements)\n",
    "N_e = np.zeros(n_elements)\n",
    "for i in range(n_elements):\n",
    "    element = elements[i]\n",
    "    dof = np.array([2 * element[0], 2 * element[0] + 1, 2 * element[1], 2 * element[1] + 1])\n",
    "    U_e = U[dof]    \n",
    "    x01, y01 = coordinates[element[0]]\n",
    "    x02, y02 = coordinates[element[1]]\n",
    "    x1, y1 = U_e[:2]\n",
    "    x2, y2 = U_e[2:]\n",
    "    sigma_e[i] = stress(E, (x01, x02), (y01, y02), (x1, x2), (y1, y2))\n",
    "    N_e[i] = A * sigma_e[i]"
   ]
  },
  {
   "cell_type": "code",
   "execution_count": 28,
   "metadata": {},
   "outputs": [
    {
     "name": "stdout",
     "output_type": "stream",
     "text": [
      "Displacements:\n",
      "[[ 0.00000000e+00  0.00000000e+00]\n",
      " [ 0.00000000e+00 -3.82842712e-06]\n",
      " [ 0.00000000e+00  0.00000000e+00]\n",
      " [ 1.00000000e-06 -3.82842712e-06]]\n",
      "Reactions:\n",
      "[ 1000.  1000. -1000.]\n",
      "Element stress:\n",
      "[      0.               0.         -141421.35623731       0.\n",
      "  100000.        ]\n",
      "Element forces:\n",
      "[    0.             0.         -1414.21356237     0.\n",
      "  1000.        ]\n"
     ]
    }
   ],
   "source": [
    "# Print the results\n",
    "print(\"Displacements:\")\n",
    "print(U.reshape(-1, 2))\n",
    "print(\"Reactions:\")\n",
    "print(R_e)\n",
    "print(\"Element stress:\")\n",
    "print(sigma_e)\n",
    "print(\"Element forces:\")\n",
    "print(N_e)"
   ]
  }
 ],
 "metadata": {
  "kernelspec": {
   "display_name": "base",
   "language": "python",
   "name": "python3"
  },
  "language_info": {
   "codemirror_mode": {
    "name": "ipython",
    "version": 3
   },
   "file_extension": ".py",
   "mimetype": "text/x-python",
   "name": "python",
   "nbconvert_exporter": "python",
   "pygments_lexer": "ipython3",
   "version": "3.9.16"
  },
  "orig_nbformat": 4
 },
 "nbformat": 4,
 "nbformat_minor": 2
}
