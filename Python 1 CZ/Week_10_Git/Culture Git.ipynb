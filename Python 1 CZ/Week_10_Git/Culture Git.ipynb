{
 "cells": [
  {
   "attachments": {},
   "cell_type": "markdown",
   "metadata": {},
   "source": [
    "# Týden 10. Programovací kultura. Git"
   ]
  },
  {
   "attachments": {},
   "cell_type": "markdown",
   "metadata": {},
   "source": [
    "## Stylová příručka PEP-8\n",
    "### Odsazení\n",
    "\n",
    "Pro každou úroveň odsazení použijte 4 mezery. Tabulátory by se měly používat výhradně proto, aby zůstaly konzistentní s kódem, který je již odsazen pomocí tabulátorů. Python nedovoluje míchat tabulátory a mezery pro odsazení. \n",
    "\n",
    "Je však třeba zmínit, že \"tabulátorem\" rozumíme skutečný znak `\\t`. Obvykle je reprezentován jako mezera o délce 4, ale stále se jedná o samostatný znak. Málokdo ale skutečně píše pokaždé 4 mezery, všechna IDE kromě těch nejzákladnějších mají nastavení pro převod tabulátoru na 4 nebo 8 mezer.\n",
    "\n",
    "Proto nasledující kód, kde první odsazení bylo vytvořeno pomocí mezer a druhé odsazení pomocí stisknutí tabulátoru, pravděpodobně bude funkční třeba ve VS Code:"
   ]
  },
  {
   "cell_type": "code",
   "execution_count": 4,
   "metadata": {},
   "outputs": [
    {
     "name": "stdout",
     "output_type": "stream",
     "text": [
      "0\n",
      "1\n",
      "2\n",
      "3\n",
      "4\n"
     ]
    }
   ],
   "source": [
    "def function():\n",
    "    for i in range(5):\n",
    "        print(i)\n",
    "\n",
    "function()"
   ]
  },
  {
   "attachments": {},
   "cell_type": "markdown",
   "metadata": {},
   "source": [
    "Když analogický kód napsány v Notepad vyhlasí chybu:"
   ]
  },
  {
   "cell_type": "code",
   "execution_count": 3,
   "metadata": {},
   "outputs": [
    {
     "ename": "TabError",
     "evalue": "inconsistent use of tabs and spaces in indentation (wrong_ident.py, line 3)",
     "output_type": "error",
     "traceback": [
      "\u001b[1;36m  File \u001b[1;32m~\\Documents\\GitHub\\PythonForEngineering\\Python 1 CZ\\Week_10_Git\\wrong_ident.py:3\u001b[1;36m\u001b[0m\n\u001b[1;33m    print(i)\u001b[0m\n\u001b[1;37m    ^\u001b[0m\n\u001b[1;31mTabError\u001b[0m\u001b[1;31m:\u001b[0m inconsistent use of tabs and spaces in indentation\n"
     ]
    }
   ],
   "source": [
    "%run wrong_ident.py"
   ]
  },
  {
   "attachments": {},
   "cell_type": "markdown",
   "metadata": {},
   "source": [
    "### Maximální délka řádku\n",
    "\n",
    "Omezte všechny řádky na maximálně 79 znaků."
   ]
  },
  {
   "cell_type": "code",
   "execution_count": null,
   "metadata": {},
   "outputs": [],
   "source": [
    "'This string has the maximum recommended length of 79 chars for a Python line.'"
   ]
  },
  {
   "attachments": {},
   "cell_type": "markdown",
   "metadata": {},
   "source": [
    "Omezení požadované šířky okna editoru umožňuje mít otevřeno několik souborů vedle sebe a dobře funguje při použití nástrojů pro kontrolu kódu, které zobrazují dvě verze v sousedních sloupcích.\n",
    "\n",
    "Pokračující řádky by měly být zarovnány vertikálně pomocí implicitního spojování řádků v závorkách:\n",
    "\n",
    "```python\n",
    "foo = long_function_name(var_one, var_two,\n",
    "                         var_three, var_four)\n",
    "```\n",
    "\n",
    "Alternativně, lze použít tzv. visící odsazení:\n",
    "\n",
    "```python\n",
    "def long_function_name(\n",
    "        var_one, var_two, var_three,\n",
    "        var_four):\n",
    "    print(var_one)\n",
    "```\n",
    "\n",
    "### Prázdné řádky\n",
    " - Definice funkcí a tříd nejvyšší úrovně obklopte dvěma prázdnými řádky.\n",
    "\n",
    " - Definice metod uvnitř třídy jsou obklopeny jedním prázdným řádkem.\n",
    "\n",
    " - Další prázdné řádky lze použít (střídmě) k oddělení skupin souvisejících funkcí. \n",
    "\n",
    " - Prázdné řádky ve funkcích používejte střídmě k označení logických úseků.\n",
    "\n",
    "### Komentáře\n",
    "Komentáře, které jsou v rozporu s kódem, jsou horší než žádné komentáře. Při změnách kódu vždy dbejte na aktuálnost komentářů!\n",
    "\n",
    "Komentáře by měly tvořit celé věty. První slovo by mělo být psáno s velkým písmenem, pokud se nejedná o identifikátor, který začíná malým písmenem (nikdy neměňte velikost písmen identifikátorů!).\n",
    "\n",
    "Pište své komentáře v angličtině, pokud si nejste na 120% jisti, že kód nikdy nebudou číst lidé, kteří nemluví vaším jazykem.\n",
    "\n",
    "Řádkový komentář je komentář na stejném řádku jako příkaz. Řádkové komentáře by měly být od příkazu odděleny alespoň dvěma mezerami. Měly by začínat znakem # a jednou mezerou. Řádkové komentáře jsou zbytečné a ve skutečnosti odvádějí pozornost, pokud uvádějí zřejmé věci. Nedělejte tohle:\n",
    "\n",
    "```python\n",
    "x = x + 1   # Increment x\n",
    "```\n",
    "\n",
    "### Konvence dokumentačních řetězců (docstrings)\n",
    "\n",
    "Dokumentační řetězec (docstring) je řetězec, který se vyskytuje jako první příkaz v definici modulu, funkce, třídy nebo metody. Takový řetězec doc se stává speciálním atributem `__doc__` daného objektu.\n",
    "\n",
    "Všechny moduly by normálně měly mít dokuřetězce a všechny funkce a třídy exportované modulem by měly mít také dokuřetězce.\n",
    "\n",
    "Kvůli konzistenci vždy používejte `\"\"\"trojité dvojité uvozovky\"\"\"` kolem dokuřetězců. Pokud v dokuřetězcích používáte zpětná lomítka, použijte `r\"\"\"neupravené trojité dvojité uvozovky\"\"\"`. Pro dokuřetězce Unicode použijte `u\"\"\"řetězce Unicode s trojitými uvozovkami\"\"\"`.\n",
    "\n",
    "Existují dvě formy dokuřetězců: jednořádkové a víceřádkové dokuřetězce. Jednořádkové výrazy jsou určeny pro opravdu očividné případy. Například:"
   ]
  },
  {
   "cell_type": "code",
   "execution_count": 6,
   "metadata": {},
   "outputs": [
    {
     "name": "stdout",
     "output_type": "stream",
     "text": [
      "Add both arguments and returns their sum.\n"
     ]
    }
   ],
   "source": [
    "def add(x, y):\n",
    "    \"\"\"Add both arguments and returns their sum.\"\"\"\n",
    "    return x + y\n",
    "\n",
    "print(add.__doc__)"
   ]
  },
  {
   "attachments": {},
   "cell_type": "markdown",
   "metadata": {},
   "source": [
    "Víceřádkové dokuřetězce se skládají ze shrnujícího řádku stejně jako jednořádkové řetězce dokumentů, po kterém následuje prázdný řádek a po něm podrobnější popis. Souhrnný řádek mohou používat automatické indexovací nástroje; je důležité, aby se vešel na jeden řádek a byl od zbytku řetězce dokumentů oddělen prázdným řádkem. Souhrnný řádek může být na stejném řádku jako úvodní uvozovky nebo na dalším řádku. Celý řetězec dokumentů je na svém prvním řádku odsazen stejně jako uvozovky:\n",
    "\n",
    "```python\n",
    "def complex(real=0.0, imag=0.0):\n",
    "    \"\"\"Form a complex number.\n",
    "\n",
    "    Keyword arguments:\n",
    "    real -- the real part (default 0.0)\n",
    "    imag -- the imaginary part (default 0.0)\n",
    "    \"\"\"\n",
    "    if imag == 0.0 and real == 0.0:\n",
    "        return complex_zero\n",
    "    ...\n",
    "```\n",
    "\n",
    "### Mezery ve výrazech a příkazech\n",
    "Vyhněte se nadbytečným mezeram v následujících situacích:\n",
    " - Bezprostředně uvnitř závorek, závorek nebo složených závorek. Správně:"
   ]
  },
  {
   "attachments": {},
   "cell_type": "markdown",
   "metadata": {},
   "source": [
    "spam = [{'ham': [1], 'eggs': 2}]"
   ]
  },
  {
   "attachments": {},
   "cell_type": "markdown",
   "metadata": {},
   "source": [
    "Špatně:"
   ]
  },
  {
   "cell_type": "code",
   "execution_count": null,
   "metadata": {},
   "outputs": [],
   "source": [
    "spam = [ {'ham': [ 1 ], 'eggs': 2} ]"
   ]
  },
  {
   "attachments": {},
   "cell_type": "markdown",
   "metadata": {},
   "source": [
    "- Mezi koncovou čárkou a následující uzavřenou závorkou. Správně:"
   ]
  },
  {
   "cell_type": "code",
   "execution_count": null,
   "metadata": {},
   "outputs": [],
   "source": [
    "foo = (0,)"
   ]
  },
  {
   "attachments": {},
   "cell_type": "markdown",
   "metadata": {},
   "source": [
    "Špatně:"
   ]
  },
  {
   "cell_type": "code",
   "execution_count": null,
   "metadata": {},
   "outputs": [],
   "source": [
    "bar = (0, )"
   ]
  },
  {
   "attachments": {},
   "cell_type": "markdown",
   "metadata": {},
   "source": [
    "- Bezprostředně před čárkou, středníkem nebo dvojtečkou. Správně:\n",
    "```python\n",
    "if x == 4: print(x, y); x, y = y, x\n",
    "```"
   ]
  },
  {
   "cell_type": "code",
   "execution_count": 5,
   "metadata": {},
   "outputs": [
    {
     "ename": "ModuleNotFoundError",
     "evalue": "No module named 'module'",
     "output_type": "error",
     "traceback": [
      "\u001b[1;31m---------------------------------------------------------------------------\u001b[0m",
      "\u001b[1;31mModuleNotFoundError\u001b[0m                       Traceback (most recent call last)",
      "Cell \u001b[1;32mIn[5], line 1\u001b[0m\n\u001b[1;32m----> 1\u001b[0m \u001b[39mimport\u001b[39;00m \u001b[39mmodule\u001b[39;00m\n",
      "\u001b[1;31mModuleNotFoundError\u001b[0m: No module named 'module'"
     ]
    }
   ],
   "source": []
  },
  {
   "attachments": {},
   "cell_type": "markdown",
   "metadata": {},
   "source": [
    "\n",
    "Mezi nejčastější příčiny chyby `ModuleNotFoundError` patří:\n",
    "\n",
    "1. Chybně napsaný název modulu: Pokud při pokusu o import modulu chybně napíšete jeho název, Python vyvolá chybu `ModuleNotFoundError`. Pokud se například pokusíte importovat modul se jménem \"math\" jako \"mathh\" (`import mathh`), dojde k chybě `ModuleNotFoundError`.\n",
    "\n",
    "2. Nesprávná cesta k modulu: Pokud se modul, který se snažíte importovat, nachází v jiném adresáři, než ze kterého spouštíte skript, může být nutné zadat správnou cestu k modulu. Neuvedete-li správnou cestu k modulu, dojde k chybě `ModuleNotFoundError`.\n",
    "\n",
    "3. Chybějící nebo odinstalovaný modul: Pokud modul, který se pokoušíte importovat, není v prostředí Pythonu nainstalován, protože není součástí standardní knihovny nebo protože jste jej nenainstalovali samostatně, zobrazí se chyba `ModuleNotFoundError`. V takovém případě musíte chybějící modul nainstalovat pomocí správce balíčků, jako je například `pip`, a teprve potom jej můžete importovat.\n",
    "\n",
    "### Ostatní typy chyb\n",
    "\n",
    "Zde je několik významných typů chyb:\n",
    "\n",
    "1. `ValueError`: Tato chyba nastane, když funkce obdrží argument správného typu, ale nevhodné hodnoty. Signalizuje, že předávaná hodnota je neplatná nebo mimo přijatelný rozsah.\n",
    "\n",
    "2. `IndexError`: Tato chyba nastane při pokusu o přístup k seznamu, tuple nebo řetězci pomocí indexu, který je mimo rozsah. Signalizuje, že zadaný index je příliš velký.\n",
    "\n",
    "3. `KeyError`: Tato chyba nastane, když se pokusíte přistoupit ke slovníku pomocí klíče, který ve slovníku neexistuje. Signalizuje, že zadaný klíč se ve slovníku nenachází.\n",
    "\n",
    "4. `AttributeError`: Tato chyba nastane, když se pokusíte přistoupit nebo použít atribut nebo metodu, která u objektu neexistuje. Označuje, že objekt nemá zadaný atribut nebo metodu.\n",
    "\n",
    "5. `FileNotFoundError`: Tato chyba nastane, když se pokusíte přistoupit k souboru, který neexistuje nebo jej nelze nalézt na zadané cestě. Označuje, že soubor, ke kterému se pokoušíte přistupovat, není k dispozici.\n",
    "\n",
    "6. `IndentationError`: Tato chyba nastane, když je problém s odsazením kódu. Znamená, že kód není správně odsazen nebo že existují nekonzistentní úrovně odsazení.\n",
    "\n",
    "## Testování\n",
    "\n",
    "V modulu `my_module.py` vytvořte funkci `sum_function(string)`, která vrátí součet všech číslic v řetězci.\n",
    "\n",
    "### Ruční testování"
   ]
  },
  {
   "cell_type": "code",
   "execution_count": 4,
   "metadata": {},
   "outputs": [
    {
     "data": {
      "text/plain": [
       "10"
      ]
     },
     "execution_count": 4,
     "metadata": {},
     "output_type": "execute_result"
    }
   ],
   "source": [
    "from my_module import sum_digits\n",
    "sum_digits('Hello World! 1, 2, 3, 4')"
   ]
  },
  {
   "attachments": {},
   "cell_type": "markdown",
   "metadata": {},
   "source": [
    "### Automaticke spuštění testu\n",
    "\n",
    "Pokud přidáme na konec souboru `my_module.py`\n",
    "\n",
    "```python\n",
    "if __name__ == '__main__':\n",
    "    print(sum_digits('Hello World! 1, 2, 3, 4'))\n",
    "```\n",
    "\n",
    "testovací kód se spustí, když spustíme skript `my_module.py` přímo:"
   ]
  },
  {
   "cell_type": "code",
   "execution_count": 1,
   "metadata": {},
   "outputs": [
    {
     "name": "stdout",
     "output_type": "stream",
     "text": [
      "10\n"
     ]
    }
   ],
   "source": [
    "%run my_module.py"
   ]
  },
  {
   "attachments": {},
   "cell_type": "markdown",
   "metadata": {},
   "source": [
    "### Testování pomocí modulu `doctest`\n",
    "\n",
    "Modul `doctest` je testovací framework, který umožňuje psát testy přímo v dokumentačních řetězcích kódu (docstrings). Poskytuje způsob, jak vytvářet testy, které jsou vloženy do dokumentace kódu a mohou být automaticky prováděny a ověřovány.\n",
    "\n",
    "Modul `doctest` funguje následovně:\n",
    "\n",
    "1. Psaní testů: Testy píšete ve formě interaktivních příkladů v rámci docstringů vašich funkcí, modulů nebo tříd. Každý testovací příklad se skládá z výrazu nebo příkazu jazyka Python, za kterým následuje očekávaný výstup. \n",
    "\n",
    "2. Spouštění testů: Pro spuštění testů můžete použít funkci `doctest.testmod()`, která automaticky objeví a provede testy v docstrings. Tato funkce vyhledá docstringy, které obsahují příklady testů, a provede úryvky kódu, přičemž porovná skutečný výstup s očekávaným výstupem.\n",
    "\n",
    "3. Zpráva o testech: Modul `doctest` informuje o výsledcích testů, včetně počtu provedených testů, počtu selhání a všech výjimek vyvolaných během provádění testu. \n",
    "\n",
    "Hlavní výhodou použití modulu `doctest` je, že testy jsou umístěny v dokumentaci kódu, což usnadňuje údržbu testů společně s kódem. Podporuje samostatnou a aktuální dokumentaci, která zároveň slouží jako spustitelné testy.\n",
    "\n",
    "Zde je příklad, který ilustruje použití `doctest`:\n",
    "\n",
    "```python\n",
    "def add(a, b):\n",
    "    \"\"\"\n",
    "    Function to add two numbers.\n",
    "    Examples:\n",
    "    >>> add(2, 3)\n",
    "    5\n",
    "    >>> add(5, -2)\n",
    "    3\n",
    "    \"\"\"\n",
    "    return a + b\n",
    "\n",
    "if __name__ == \"__main__\":\n",
    "    import doctest\n",
    "    doctest.testmod()\n",
    "```\n",
    "\n",
    "V tomto příkladu má funkce `add()` doctecstringy, které obsahují příklady testů. Funkce `doctest.testmod()` slouží ke spuštění testů. Po spuštění funkce `doctest` objeví testy v docstrings, provede úryvky kódu a porovná výsledky s očekávaným výstupem.\n",
    "\n",
    "Spuštěním skriptu modul `doctest` provede testy a poskytne souhrn výsledků testů. Pokud všechny testy projdou, není generován žádný výstup. Pokud některý test selže, modul `doctest` vyvolá výjimku a zobrazí podrobnosti o selhání.\n",
    "\n",
    "Modul `doctest` je odlehčený testovací rámec vhodný pro jednoduché a samostatné testy vložené do řetězců dokumentů. Pro složitější testovací scénáře můžete zvážit použití specializovaných testovacích frameworků, jako je `unittest`."
   ]
  },
  {
   "cell_type": "code",
   "execution_count": 2,
   "metadata": {},
   "outputs": [
    {
     "name": "stdout",
     "output_type": "stream",
     "text": [
      "Trying:\n",
      "    sum_digits('Hello World! 1, 2, 3, 4')\n",
      "Expecting:\n",
      "    10\n",
      "ok\n",
      "1 items had no tests:\n",
      "    __main__\n",
      "1 items passed all tests:\n",
      "   1 tests in __main__.sum_digits\n",
      "1 tests in 2 items.\n",
      "1 passed and 0 failed.\n",
      "Test passed.\n"
     ]
    }
   ],
   "source": [
    "%run my_module_with_doctest.py"
   ]
  },
  {
   "attachments": {},
   "cell_type": "markdown",
   "metadata": {},
   "source": [
    "## Výjimky (Exceptions)\n",
    "\n",
    "Výjimky jsou v jazyce Python mechanismem pro zpracování a hlášení chyb, které se vyskytnou během provádění programu. Když nastane výjimečný stav, je vyvolán objekt výjimky, který lze následně zachytit a zpracovat příslušným kódem. Výjimky jsou reprezentovány třídami a každý typ chyby má svou vlastní odpovídající třídu výjimek. Už jsme posali řádu vestavěných typů výjimek jako `ZeroDivisionError`, `TypeError`, `ValueError`, atd. Můžete si také vytvořit vlastní třídy výjimek pro zpracování specifických typů chyb v kódu.\n",
    "\n",
    "**Vyvolání výjimek**: Výjimky lze vyvolat explicitně pomocí příkazu `raise`. Když nastane výjimečný stav, můžete vyvoláním výjimky přerušit normální průběh provádění a předat řízení obsluze výjimky."
   ]
  },
  {
   "cell_type": "code",
   "execution_count": 5,
   "metadata": {},
   "outputs": [
    {
     "ename": "ValueError",
     "evalue": "The input value is not a digit.",
     "output_type": "error",
     "traceback": [
      "\u001b[1;31m---------------------------------------------------------------------------\u001b[0m",
      "\u001b[1;31mValueError\u001b[0m                                Traceback (most recent call last)",
      "Cell \u001b[1;32mIn[5], line 3\u001b[0m\n\u001b[0;32m      1\u001b[0m a \u001b[39m=\u001b[39m \u001b[39minput\u001b[39m(\u001b[39m'\u001b[39m\u001b[39mInput a digit from 0-9: \u001b[39m\u001b[39m'\u001b[39m)\n\u001b[0;32m      2\u001b[0m \u001b[39mif\u001b[39;00m a \u001b[39mnot\u001b[39;00m \u001b[39min\u001b[39;00m \u001b[39m'\u001b[39m\u001b[39m012345679\u001b[39m\u001b[39m'\u001b[39m:\n\u001b[1;32m----> 3\u001b[0m     \u001b[39mraise\u001b[39;00m \u001b[39mValueError\u001b[39;00m(\u001b[39m'\u001b[39m\u001b[39mThe input value is not a digit.\u001b[39m\u001b[39m'\u001b[39m)\n",
      "\u001b[1;31mValueError\u001b[0m: The input value is not a digit."
     ]
    }
   ],
   "source": [
    "a = input('Input a digit from 0-9: ')\n",
    "if a not in '012345679':\n",
    "    raise ValueError('The input value is not a digit.')"
   ]
  },
  {
   "attachments": {},
   "cell_type": "markdown",
   "metadata": {},
   "source": [
    "**Obsluha výjimek**: Obsluha výjimek umožňuje řízeně zachytávat a zpracovávat výjimky. Můžete použít blok `try-except` pro zachycení konkrétních výjimek nebo obecnější blok `except` pro zachycení jakékoli výjimky. Uvnitř bloku `except` můžete zadat kód pro zpracování výjimky, například protokolování chybové zprávy, opakování operace nebo provedení jiné vhodné akce."
   ]
  },
  {
   "cell_type": "code",
   "execution_count": 3,
   "metadata": {},
   "outputs": [
    {
     "name": "stdout",
     "output_type": "stream",
     "text": [
      "Result: 5.0\n",
      "Error: Division by zero is not allowed.\n"
     ]
    }
   ],
   "source": [
    "def divide(a, b):\n",
    "    try:\n",
    "        result = a / b\n",
    "        print(\"Result:\", result)\n",
    "    except ZeroDivisionError:\n",
    "        print(\"Error: Division by zero is not allowed.\")\n",
    "\n",
    "divide(10, 2)   # Result: 5.0\n",
    "divide(10, 0)   # Error: Division by zero is not allowed."
   ]
  },
  {
   "attachments": {},
   "cell_type": "markdown",
   "metadata": {},
   "source": [
    "**Obsluha více výjimek**: Výjimky můžete zpracovávat vícekrát, a to zadáním více bloků `except`, z nichž každý odpovídá určitému typu výjimky. To vám umožní zajistit různou logiku obsluhy pro různé typy výjimek.\n"
   ]
  },
  {
   "cell_type": "code",
   "execution_count": 7,
   "metadata": {},
   "outputs": [
    {
     "name": "stdout",
     "output_type": "stream",
     "text": [
      "Error: Only division of numerical values is allowed.\n"
     ]
    }
   ],
   "source": [
    "def divide(a, b):\n",
    "    try:\n",
    "        result = a / b\n",
    "        print(\"Result:\", result)\n",
    "    except ZeroDivisionError:\n",
    "        print(\"Error: Division by zero is not allowed.\")\n",
    "    except TypeError:\n",
    "        print(\"Error: Only division of numerical values is allowed.\")\n",
    "\n",
    "divide(10, 'Hello World!')   # Error: Only division of numerical values is allowed."
   ]
  },
  {
   "attachments": {},
   "cell_type": "markdown",
   "metadata": {},
   "source": [
    "**Úklid pomocí funkce `finally`**: Blok `finally` je volitelný blok, který lze použít ve spojení s blokem `try-except`. Kód uvnitř bloku `finally` se provede bez ohledu na to, zda došlo k výjimce, nebo ne. Běžně se používá pro úklidové operace, jako je zavírání souborů nebo uvolňování prostředků."
   ]
  },
  {
   "cell_type": "code",
   "execution_count": 8,
   "metadata": {},
   "outputs": [
    {
     "name": "stdout",
     "output_type": "stream",
     "text": [
      "Result: 5.0\n",
      "Finally block executed.\n",
      "Error: Division by zero is not allowed.\n",
      "Finally block executed.\n"
     ]
    }
   ],
   "source": [
    "def divide(a, b):\n",
    "    try:\n",
    "        result = a / b\n",
    "        print(\"Result:\", result)\n",
    "    except ZeroDivisionError:\n",
    "        print(\"Error: Division by zero is not allowed.\")\n",
    "    finally:\n",
    "        print(\"Finally block executed.\")\n",
    "\n",
    "divide(10, 2)   # Result: 5.0, Finally block executed.\n",
    "divide(10, 0)   # Error: Division by zero is not allowed., Finally block executed."
   ]
  },
  {
   "attachments": {},
   "cell_type": "markdown",
   "metadata": {},
   "source": [
    "## Modul `pdb`"
   ]
  },
  {
   "attachments": {},
   "cell_type": "markdown",
   "metadata": {},
   "source": [
    "Modul `pdb` poskytuje vestavěný ladicí program, který umožňuje interaktivní ladění kódu. Umožňuje pozastavit provádění programu, kontrolovat proměnné a výrazy, procházet kód řádek po řádku a identifikovat a opravovat problémy.\n",
    "\n",
    "Zde je základní přehled použití modulu `pdb`:\n",
    "\n",
    "1. Import modulu `pdb`: Začněte importem modulu `pdb` na začátku skriptu.\n",
    "\n",
    "```python\n",
    "import pdb\n",
    "```\n",
    "\n",
    "2. Nastavte bod přerušení: Pro pozastavení provádění kódu na určitém místě můžete vložit příkaz `pdb.set_trace()` na požadované místo v kódu.\n",
    "\n",
    "```python\n",
    "pdb.set_trace()\n",
    "```\n",
    "\n",
    "3. Spusťte svůj program: Spusťte svůj program jako obvykle. Jakmile se objeví příkaz `pdb.set_trace()`, provádění programu se pozastaví a zobrazí se výzva ladicího programu.\n",
    "\n",
    "4. Příkazy pro ladění: Jakmile se zobrazí výzva ladicího programu, můžete použít různé příkazy pro interakci s ladicím programem. Mezi běžné příkazy patří např:\n",
    "\n",
    "   - `n` nebo `next`: Provede aktuální řádek a přejde na další řádek.\n",
    "   - `s` nebo `step`: Krok do volání funkce nebo metody.\n",
    "   - `c` nebo `continue`: Pokračuje ve vykonávání až do dalšího bodu přerušení nebo do konce programu.\n",
    "   - `p <výraz>` nebo `print <výraz>`: Vypíše hodnotu zadaného výrazu.\n",
    "   - `l` nebo `list`: Zobrazí aktuální řádek a okolní kód.\n",
    "   - `q` nebo `quit`: Ukončí ladění a ukončí program.\n",
    "\n",
    "5. Kontrola proměnných: V okně debuggeru můžete zkoumat hodnoty proměnných zadáním jejich názvů nebo příkazem `p` následovaným názvem proměnné.\n",
    "\n",
    "6. Pokračovat v ladění: Můžete pokračovat v procházení kódu, kontrole proměnných a provádění změn, dokud problém neidentifikujete a nevyřešíte. Po ukončení ladění můžete nechat program běžet až do konce nebo jej ručně ukončit."
   ]
  }
 ],
 "metadata": {
  "kernelspec": {
   "display_name": "base",
   "language": "python",
   "name": "python3"
  },
  "language_info": {
   "codemirror_mode": {
    "name": "ipython",
    "version": 3
   },
   "file_extension": ".py",
   "mimetype": "text/x-python",
   "name": "python",
   "nbconvert_exporter": "python",
   "pygments_lexer": "ipython3",
   "version": "3.9.16"
  },
  "orig_nbformat": 4
 },
 "nbformat": 4,
 "nbformat_minor": 2
}
