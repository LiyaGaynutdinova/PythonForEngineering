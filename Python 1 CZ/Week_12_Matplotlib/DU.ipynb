{
 "cells": [
  {
   "attachments": {},
   "cell_type": "markdown",
   "metadata": {},
   "source": [
    "# Domácí úkol: Olympijské medaile\n",
    "\n",
    "V tomto domácím úkolu analyzujeme data o olympijských medailích pomocí numpy. Úkoly jsou následující:\n",
    "\n",
    "1. Vytvořte dvourozměrné pole numpy, které bude reprezentovat údaje o olympijských medailích.\n",
    "\n",
    "    |  Country  |  Gold  |  Silver  |  Bronze  |\n",
    "    |-----------|:-------|---------:|---------:|\n",
    "    |USA        |46      |37        |38        |\n",
    "    |China      |38      |32        |18        |\n",
    "    |Japan      |27      |14        |17        |\n",
    "    |Australia  |17      |7         |22        |\n",
    "    |Germany    |10      |11        |16        |"
   ]
  },
  {
   "cell_type": "code",
   "execution_count": null,
   "metadata": {},
   "outputs": [],
   "source": []
  },
  {
   "attachments": {},
   "cell_type": "markdown",
   "metadata": {},
   "source": [
    "2. Vypište údaje o medailích.\n"
   ]
  },
  {
   "cell_type": "code",
   "execution_count": null,
   "metadata": {},
   "outputs": [],
   "source": [
    "print(\"Medal Data:\")\n"
   ]
  },
  {
   "attachments": {},
   "cell_type": "markdown",
   "metadata": {},
   "source": [
    "3. Vypočítejte celkový počet medailí získaných jednotlivými zeměmi."
   ]
  },
  {
   "cell_type": "code",
   "execution_count": null,
   "metadata": {},
   "outputs": [],
   "source": []
  },
  {
   "attachments": {},
   "cell_type": "markdown",
   "metadata": {},
   "source": [
    "4. Vypište celkový počet medailí pro každou zemi."
   ]
  },
  {
   "cell_type": "code",
   "execution_count": 1,
   "metadata": {},
   "outputs": [
    {
     "name": "stdout",
     "output_type": "stream",
     "text": [
      "Total Medals:\n",
      "USA :\n",
      "China :\n",
      "Japan :\n",
      "Australia :\n",
      "Germany :\n"
     ]
    }
   ],
   "source": [
    "countries = [\"USA\", \"China\", \"Japan\", \"Australia\", \"Germany\"]\n",
    "print(\"Total Medals:\")\n",
    "for i in range(len(countries)):\n",
    "    print(countries[i], \":\", )"
   ]
  },
  {
   "attachments": {},
   "cell_type": "markdown",
   "metadata": {},
   "source": [
    "5. Určete zemi s největším počtem zlatých medailí."
   ]
  },
  {
   "cell_type": "code",
   "execution_count": 2,
   "metadata": {},
   "outputs": [
    {
     "name": "stdout",
     "output_type": "stream",
     "text": [
      "Country with the Most Gold Medals:\n"
     ]
    }
   ],
   "source": [
    "print(\"Country with the Most Gold Medals:\",  )"
   ]
  },
  {
   "attachments": {},
   "cell_type": "markdown",
   "metadata": {},
   "source": [
    "6. Vypočítejte průměrný počet stříbrných medailí ve všech zemích."
   ]
  },
  {
   "cell_type": "code",
   "execution_count": 3,
   "metadata": {},
   "outputs": [
    {
     "name": "stdout",
     "output_type": "stream",
     "text": [
      "Average Number of Silver Medals:\n"
     ]
    }
   ],
   "source": [
    "print(\"Average Number of Silver Medals:\",  )"
   ]
  },
  {
   "attachments": {},
   "cell_type": "markdown",
   "metadata": {},
   "source": [
    "7. Určete zemi s nejvyšším celkovým počtem medailí."
   ]
  },
  {
   "cell_type": "code",
   "execution_count": 4,
   "metadata": {},
   "outputs": [
    {
     "name": "stdout",
     "output_type": "stream",
     "text": [
      "Country with the Most Medals:\n"
     ]
    }
   ],
   "source": [
    "print(\"Country with the Most Medals:\",  )"
   ]
  }
 ],
 "metadata": {
  "kernelspec": {
   "display_name": "base",
   "language": "python",
   "name": "python3"
  },
  "language_info": {
   "codemirror_mode": {
    "name": "ipython",
    "version": 3
   },
   "file_extension": ".py",
   "mimetype": "text/x-python",
   "name": "python",
   "nbconvert_exporter": "python",
   "pygments_lexer": "ipython3",
   "version": "3.9.16"
  },
  "orig_nbformat": 4
 },
 "nbformat": 4,
 "nbformat_minor": 2
}
