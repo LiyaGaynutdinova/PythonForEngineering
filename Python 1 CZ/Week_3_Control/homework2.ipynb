{
 "cells": [
  {
   "attachments": {},
   "cell_type": "markdown",
   "metadata": {},
   "source": [
    "### Cvičení\n",
    "\n",
    "Napište program v jazyce Python, který přijme od uživatele jako vstup seznam čísel a poté vytvoří slovník, který každé číslo přiřadí k jeho čtverci. Zde jsou kroky, které je třeba provést:\n",
    "\n",
    "1. Pomocí funkce `input()` vyzvěte uživatele k zadání seznamu čísel oddělených čárkami. Vstupní údaje uložte jako řetězec.\n",
    "\n",
    "2. Pomocí metody `split()` převeďte řetězec čísel na seznam jednotlivých řetězců.\n",
    "\n",
    "3. Pomocí cyklu `for` převeďte každý řetězec v seznamu na celé číslo pomocí funkce `int()`. Výsledný seznam čísel uložte do proměnné.\n",
    "\n",
    "4. Vytvořte prázdný slovník.\n",
    "\n",
    "5. Použijte cyklus `for` k iteraci čísel v seznamu. Pro každé číslo přidejte do slovníku novou dvojici klíč-hodnota, kde klíčem je číslo a hodnotou je kvadrát čísla.\n",
    "\n",
    "6. Výsledný slovník zobrazte na obrazovce pomocí funkce `print()`."
   ]
  },
  {
   "attachments": {},
   "cell_type": "markdown",
   "metadata": {},
   "source": [
    "# Input the list of numbers from the user\n",
    "\n",
    "\n",
    "# Convert the string to a list of numbers\n",
    "\n",
    "\n",
    "# Create an empty dictionary\n",
    " \n",
    "\n",
    "# Map each number to its square\n",
    " \n",
    "\n",
    "# Display the result"
   ]
  }
 ],
 "metadata": {
  "language_info": {
   "name": "python"
  },
  "orig_nbformat": 4
 },
 "nbformat": 4,
 "nbformat_minor": 2
}
