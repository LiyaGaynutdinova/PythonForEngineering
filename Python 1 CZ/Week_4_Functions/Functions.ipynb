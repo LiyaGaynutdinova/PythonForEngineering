{
 "cells": [
  {
   "attachments": {},
   "cell_type": "markdown",
   "metadata": {},
   "source": [
    "# Týden 4. Funkce."
   ]
  },
  {
   "attachments": {},
   "cell_type": "markdown",
   "metadata": {},
   "source": [
    "## Definice funkce\n",
    "Funkci definujeme pomocí klíčového slova `def`, za kterým následuje název funkce a sada závorek. Závorky mohou obsahovat parametry, které funkce přijímá jako vstup. Funkce vrací hodnotu pomocí klíčového slova `return`. Tuto hodnotu můžete použít ve svém kódu, přiřadit ji proměnné nebo ji předat jiné funkci. Například zde je funkce, která na vstupu přijímá dvě čísla a vrací jejich součet:"
   ]
  },
  {
   "cell_type": "code",
   "execution_count": 1,
   "metadata": {},
   "outputs": [],
   "source": [
    "def add_numbers(x, y):\n",
    "    sum = x + y\n",
    "    return sum"
   ]
  },
  {
   "attachments": {},
   "cell_type": "markdown",
   "metadata": {},
   "source": [
    "### Volání funkce\n",
    "Jakmile jste definovali funkci, můžete ji zavolat z kódu pomocí jejího názvu a předáním požadovaných argumentů. Chcete-li například zavolat funkci `add_numbers()` a předat argumenty `3` a `4`, použijte následující kód:"
   ]
  },
  {
   "cell_type": "code",
   "execution_count": 2,
   "metadata": {},
   "outputs": [
    {
     "name": "stdout",
     "output_type": "stream",
     "text": [
      "7\n"
     ]
    }
   ],
   "source": [
    "result = add_numbers(3, 4)\n",
    "print(result)"
   ]
  },
  {
   "attachments": {},
   "cell_type": "markdown",
   "metadata": {},
   "source": [
    "### Lokální a globální proměnné\n",
    "Je důležité rozlišovat mezi lokálními a globálními proměnnými. **Lokální** proměnné jsou proměnné definované uvnitř funkce a přístupné pouze v rámci této funkce. Jsou vytvořeny při volání funkce a zničeny při jejím návratu. Zde je příklad funkce, která definuje lokální proměnnou:"
   ]
  },
  {
   "cell_type": "code",
   "execution_count": 4,
   "metadata": {},
   "outputs": [
    {
     "name": "stdout",
     "output_type": "stream",
     "text": [
      "The value of x inside the function is 10\n"
     ]
    }
   ],
   "source": [
    "def my_function():\n",
    "    x = 10\n",
    "    print(\"The value of x inside the function is\", x)\n",
    "\n",
    "my_function()"
   ]
  },
  {
   "attachments": {},
   "cell_type": "markdown",
   "metadata": {},
   "source": [
    "V tomto příkladu je proměnná `x` lokální proměnnou definovanou uvnitř funkce `my_function()`. Při volání funkce se hodnota `x` nastaví na `10` a funkce pak vypíše hodnotu `x` na obrazovku.\n",
    "\n",
    "**Globální** proměnné jsou proměnné, které jsou definovány mimo jakoukoli funkci a mohou být přístupné libovolné funkci v programu. Jsou vytvořeny při spuštění programu a zničeny při jeho ukončení. Zde je příklad globální proměnné:"
   ]
  },
  {
   "cell_type": "code",
   "execution_count": 7,
   "metadata": {},
   "outputs": [
    {
     "name": "stdout",
     "output_type": "stream",
     "text": [
      "The value of x outside the function is 5\n"
     ]
    }
   ],
   "source": [
    "x = 5\n",
    "\n",
    "def my_function():\n",
    "    print(\"The value of x outside the function is\", x)\n",
    "\n",
    "my_function()"
   ]
  },
  {
   "attachments": {},
   "cell_type": "markdown",
   "metadata": {},
   "source": [
    "V tomto příkladu je proměnná x globální proměnnou, která je definována mimo funkci my_function(). Když je funkce zavolána, vypíše na obrazovku hodnotu x. Protože x je globální proměnná, může k ní přistupovat jakákoli funkce v programu. Pokud chcete změnit hodnotu globální proměnné uvnitř funkce, musíte použít klíčové slovo `global`, abyste Pythonu sdělili, že chcete použít globální proměnnou, a ne lokální proměnnou se stejným názvem. Zde je příklad:"
   ]
  },
  {
   "cell_type": "code",
   "execution_count": 6,
   "metadata": {},
   "outputs": [
    {
     "name": "stdout",
     "output_type": "stream",
     "text": [
      "The value of x inside the function is 10\n",
      "The value of x outside the function is 10\n"
     ]
    }
   ],
   "source": [
    "x = 5\n",
    "\n",
    "def my_function():\n",
    "    global x\n",
    "    x = 10\n",
    "    print(\"The value of x inside the function is\", x)\n",
    "\n",
    "my_function()\n",
    "print(\"The value of x outside the function is\", x)"
   ]
  },
  {
   "attachments": {},
   "cell_type": "markdown",
   "metadata": {},
   "source": [
    "Obecně se nepovažuje za vhodné měnit hodnotu globálních proměnných uvnitř funkce. Globální proměnné jsou totiž přístupné odkudkoli z programu, takže změna jejich hodnoty uvnitř funkce může ztížit pochopení a údržbu kódu.\n",
    "\n",
    "Místo toho je obecně lepší předávat proměnné jako argumenty funkcím a návratové hodnoty z funkcí, než se spoléhat na globální proměnné. Tím je kód modulárnější a přehlednější, protože je z něj zřejmé, které proměnné jsou jednotlivými funkcemi používány."
   ]
  },
  {
   "attachments": {},
   "cell_type": "markdown",
   "metadata": {},
   "source": [
    "### Předdefinováné funkce\n",
    "\n",
    "Python nabízí širokou škálu předdefinovánéných funkcí, které jsou snadno dostupné k použití, aniž by bylo nutné je dodatečně instalovat nebo importovat. Zde však uvádíme některé běžně používané a důležité funkce v Pythonu:\n",
    "\n",
    " - `print()`: Vypíše zadané hodnoty nebo výrazy na standardní výstup.\n",
    "\n",
    " - `len()`: Vrací délku (počet položek) objektu, například řetězce, seznamu nebo trojice.\n",
    "\n",
    " - `input()`: Vyzve uživatele k zadání vstupu z klávesnice a vrátí jej jako řetězec.\n",
    "\n",
    " - `type()`: Vrací typ objektu, což umožňuje určit datový typ proměnné nebo hodnoty.\n",
    "\n",
    " - `range()`: Generuje posloupnost čísel v zadaném rozsahu.\n",
    "\n",
    " - `int()`, `float()`, `str()`, `bool()`: Převede hodnoty na zadaný datový typ.\n",
    "\n",
    " - `sum()`: Vrátí součet všech prvků iterovatelné tabulky, například seznamu nebo tuple.\n",
    "\n",
    " - `max()`, `min()`: Vrací maximální nebo minimální hodnotu z posloupnosti nebo sady argumentů.\n",
    "\n",
    " - `sorted()`: Vrátí nový setříděný seznam z prvků iterovatelné tabulky nebo sady argumentů.\n",
    "\n",
    " - `abs()`: Vrátí absolutní hodnotu čísla.\n",
    "\n",
    " - `round()`: Zaokrouhlí číslo na zadaný počet desetinných míst.\n",
    "\n",
    " - `enumerate()`: Vrací iterátor, který poskytuje index i hodnotu prvků v iterovatelné tabulce.\n",
    "\n",
    " - `any(), all()`: Zkontroluje, zda se některý nebo všechny prvky iterable vyhodnotí jako True.\n",
    "\n",
    " - `format()`: Formátuje hodnoty do řetězce pomocí zástupných znaků a specifikátorů formátu."
   ]
  },
  {
   "attachments": {},
   "cell_type": "markdown",
   "metadata": {},
   "source": [
    "### Cvičení\n",
    "\n",
    "Napište program v jazyce Python, který definuje dvě funkce: `vypočítej_plochu()` a `vypočítej_obvod()`. Funkce `calculate_area()` by měla přijmout dva argumenty, délku a šířku, a vrátit plochu obdélníku o dané délce a šířce. Funkce `calculate_perimeter()` by měla přijmout stejné argumenty a vrátit obvod obdélníku.\n",
    "\n",
    "Zde jsou uvedeny kroky, které je třeba provést:\n",
    "\n",
    "1. Definujte funkci `calculate_area()`. Tato funkce by měla přijmout dva argumenty, délku a šířku, a vrátit součin délky a šířky.\n",
    "\n",
    "2. Definujte funkci `calculate_perimeter()`. Tato funkce by měla přijmout dva argumenty, délku a šířku, a vrátit součet délky a šířky vynásobený dvěma.\n",
    "\n",
    "3. Pomocí funkce `input()` vyzvěte uživatele k zadání délky a šířky obdélníku.\n",
    "\n",
    "4. Použijte funkci `float()` k převodu uživatelského vstupu na čísla s pohyblivou řádovou čárkou.\n",
    "\n",
    "5. Vyvolejte funkce `vypočítej_plochu()` a `vypočítej_obvod()` s uživatelským vstupem jako argumentem.\n",
    "\n",
    "6. Zobrazte výsledky pomocí funkce `print()`."
   ]
  },
  {
   "cell_type": "code",
   "execution_count": 8,
   "metadata": {},
   "outputs": [
    {
     "name": "stdout",
     "output_type": "stream",
     "text": [
      "The area of the rectangle is: 30.0\n",
      "The perimeter of the rectangle is: 22.0\n"
     ]
    }
   ],
   "source": [
    "#Define the functions\n",
    "\n",
    "\n",
    "\n",
    "\n",
    "length = float(input(\"Enter the length of the rectangle: \"))\n",
    "width = float(input(\"Enter the width of the rectangle: \"))\n",
    "\n",
    "#Call the functions\n",
    "\n",
    "\n",
    "\n",
    "\n",
    "print(\"The area of the rectangle is:\", area)\n",
    "print(\"The perimeter of the rectangle is:\", perimeter)"
   ]
  }
 ],
 "metadata": {
  "kernelspec": {
   "display_name": "base",
   "language": "python",
   "name": "python3"
  },
  "language_info": {
   "codemirror_mode": {
    "name": "ipython",
    "version": 3
   },
   "file_extension": ".py",
   "mimetype": "text/x-python",
   "name": "python",
   "nbconvert_exporter": "python",
   "pygments_lexer": "ipython3",
   "version": "3.9.13"
  },
  "orig_nbformat": 4
 },
 "nbformat": 4,
 "nbformat_minor": 2
}
