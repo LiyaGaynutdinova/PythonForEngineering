{
 "cells": [
  {
   "attachments": {},
   "cell_type": "markdown",
   "metadata": {},
   "source": [
    "### Domácí úkol: Kalkulátor známek pro studenty\n",
    "\n",
    "Vaším úkolem je vytvořit program pro výpočet studentských známek pomocí funkcí a řídicích příkazů. Postupujte podle následujících kroků:\n",
    "\n",
    "1. Definujte tři funkce:\n",
    "     - `get_student_details()`: Tato funkce vyzve uživatele k zadání jména studenta a vrátí ho jako řetězec.\n",
    "     - `get_scores()`: Tato funkce vyzve uživatele k zadání skóre ze tří předmětů (matematika, geometrie a mechanika) a vrátí je jako trojici tří proměnných.\n",
    "     - `calculate_average(score1, score2, score3)`: Tato funkce přijme jako parametry tři skóre a vrátí průměrné skóre jako float.\n",
    "\n",
    "\n",
    "2. V hlavním programu zavolejte funkci `get_student_details()`, abyste získali jméno studenta.\n",
    "\n",
    "3. Zavoláním funkce `get_scores()` získáte skóre z matematiky, angličtiny a přírodních věd. Přiřaďte vrácené hodnoty příslušným proměnným.\n",
    "\n",
    "4. Vyvolejte funkci `calculate_average()` a jako argumenty předejte skóre. Přiřaďte vrácené průměrné skóre proměnné.\n",
    "\n",
    "5. Pomocí příkazu if-elif-else určete známku žáka na základě průměrného skóre:\n",
    "     - Pokud je průměrný výsledek 90 nebo vyšší, přiřaďte známku \"A\".\n",
    "     - Pokud je průměrný výsledek mezi 80 a 89, přiřaďte známku \"B\".\n",
    "     - Pokud je průměrný výsledek mezi 70 a 79 body, přiřaďte známku \"C\".\n",
    "     - Pokud je průměrný výsledek mezi 60 a 69 body, přiřaďte známku \"D\".\n",
    "     - Pokud je průměrný výsledek mezi 50 a 59 body, přiřaďte známku \"E\".\n",
    "     - Pokud je průměrný počet bodů nižší než 50, udělte známku \"F\".\n",
    "\n",
    "6. Vypište jméno studenta, průměrný výsledek a známku."
   ]
  },
  {
   "cell_type": "code",
   "execution_count": null,
   "metadata": {},
   "outputs": [],
   "source": [
    "# Define functions\n",
    "\n",
    "\n",
    "# Main program\n",
    "\n",
    "\n",
    "# Get student details\n",
    "\n",
    "\n",
    "# Get scores for Math, English, and Science\n",
    "\n",
    "\n",
    "# Calculate average score\n",
    "\n",
    "\n",
    "# Determine grade\n",
    "\n",
    "\n",
    "# Print results"
   ]
  }
 ],
 "metadata": {
  "language_info": {
   "name": "python"
  },
  "orig_nbformat": 4
 },
 "nbformat": 4,
 "nbformat_minor": 2
}
