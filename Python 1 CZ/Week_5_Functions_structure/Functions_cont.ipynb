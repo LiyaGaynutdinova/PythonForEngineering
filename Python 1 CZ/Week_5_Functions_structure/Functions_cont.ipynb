{
 "cells": [
  {
   "attachments": {},
   "cell_type": "markdown",
   "metadata": {},
   "source": [
    "# Týden 4. Funkce - pokračování. Struktura programu"
   ]
  },
  {
   "attachments": {},
   "cell_type": "markdown",
   "metadata": {},
   "source": [
    "## Argumenty funkce\n",
    "V jazyce Python existuje několik typů argumentů funkcí, které lze použít při definování funkcí. Tyto různé typy umožňují flexibilitu a přizpůsobení způsobu volání a používání funkcí. Zde jsou uvedeny hlavní typy argumentů funkcí:\n",
    "\n",
    "### Poziční argumenty:\n",
    "\n",
    "- Poziční argumenty jsou nejzákladnějším typem argumentů v jazyce Python.\n",
    "- V signatuře funkce jsou definovány svou pozicí a pořadím.\n",
    "- Při volání funkce musí být hodnoty pozičních argumentů zadány ve stejném pořadí, v jakém jsou definovány v signatuře funkce."
   ]
  },
  {
   "cell_type": "code",
   "execution_count": 1,
   "metadata": {},
   "outputs": [
    {
     "name": "stdout",
     "output_type": "stream",
     "text": [
      "Hello, Alice! You are 25 years old.\n"
     ]
    }
   ],
   "source": [
    "def greet(name, age):\n",
    "    print(\"Hello, {}! You are {} years old.\".format(name, age))\n",
    "\n",
    "# Call the function with positional arguments\n",
    "greet(\"Alice\", 25)"
   ]
  },
  {
   "attachments": {},
   "cell_type": "markdown",
   "metadata": {},
   "source": [
    "### Klíčová slova\n",
    "- Klíčové argumenty jsou identifikovány jménem parametru, za kterým následuje symbol `=` a hodnota.\n",
    "- Umožňují předávání argumentů funkci uvedením jména parametru bez ohledu na jejich pozici v signatuře funkce.\n",
    "- Argumenty klíčových slov lze předávat v libovolném pořadí, pokud jsou jména parametrů správně zadána."
   ]
  },
  {
   "cell_type": "code",
   "execution_count": 2,
   "metadata": {},
   "outputs": [
    {
     "name": "stdout",
     "output_type": "stream",
     "text": [
      "Hello, Bob! You are 30 years old.\n"
     ]
    }
   ],
   "source": [
    "def greet(name, age):\n",
    "    print(\"Hello, {}! You are {} years old.\".format(name, age))\n",
    "\n",
    "# Call the function with keyword arguments\n",
    "greet(name=\"Bob\", age=30)"
   ]
  },
  {
   "attachments": {},
   "cell_type": "markdown",
   "metadata": {},
   "source": [
    "### Výchozí argumenty \n",
    "- Výchozí argumenty jsou parametry funkce s předdefinovanými hodnotami.\n",
    "- Není-li při volání funkce uvedena žádná hodnota výchozího argumentu, použije se výchozí hodnota uvedená v signatuře funkce.\n",
    "- Výchozí argumenty umožňují při volání funkce vynechat některé argumenty."
   ]
  },
  {
   "cell_type": "code",
   "execution_count": 3,
   "metadata": {},
   "outputs": [
    {
     "name": "stdout",
     "output_type": "stream",
     "text": [
      "Hello, Alice! You are 30 years old.\n",
      "Hello, Bob! You are 25 years old.\n"
     ]
    }
   ],
   "source": [
    "def greet(name, age=30):\n",
    "    print(\"Hello, {}! You are {} years old.\".format(name, age))\n",
    "\n",
    "# Call the function without specifying the age\n",
    "greet(\"Alice\")\n",
    "\n",
    "# Call the function with a specific age\n",
    "greet(\"Bob\", 25)"
   ]
  },
  {
   "attachments": {},
   "cell_type": "markdown",
   "metadata": {},
   "source": [
    "### Argumenty proměnné délky \n",
    "- Argumenty proměnné délky umožňují funkci přijmout libovolný počet argumentů.\n",
    "- V Pythonu existují dva typy argumentů proměnné délky: `*args` a `**kwargs`.\n",
    "    - `*args` umožňuje předat funkci proměnný počet pozičních argumentů jako tuple.\n",
    "    - `**kwargs` umožňuje předat funkci proměnný počet argumentů klíčových slov ve formě slovníku."
   ]
  },
  {
   "cell_type": "code",
   "execution_count": 5,
   "metadata": {},
   "outputs": [
    {
     "name": "stdout",
     "output_type": "stream",
     "text": [
      "The sum is: 15\n"
     ]
    }
   ],
   "source": [
    "def calculate_sum(*args):\n",
    "    total = sum(args)\n",
    "    print(\"The sum is:\", total)\n",
    "\n",
    "# Call the function with multiple arguments\n",
    "calculate_sum(1, 2, 3, 4, 5)"
   ]
  },
  {
   "cell_type": "code",
   "execution_count": 6,
   "metadata": {},
   "outputs": [
    {
     "name": "stdout",
     "output_type": "stream",
     "text": [
      "name: Alice\n",
      "age: 25\n",
      "city: London\n"
     ]
    }
   ],
   "source": [
    "def print_details(**kwargs):\n",
    "    for key, value in kwargs.items():\n",
    "        print(key + \": \" + value)\n",
    "\n",
    "# Call the function with keyword arguments\n",
    "print_details(name=\"Alice\", age=\"25\", city=\"London\")"
   ]
  },
  {
   "attachments": {},
   "cell_type": "markdown",
   "metadata": {},
   "source": [
    "## Lambda funkce\n",
    "Lambda funkce, známé také jako anonymní funkce, jsou malé jednořádkové funkce, které nevyžadují příkaz `def` ani pojmenovanou funkci. Obvykle se používají, když je potřeba malá funkce na krátkou dobu nebo jako parametr jiné funkce. Podívejme se na jednotlivé složky:\n",
    "\n",
    "- `lambda`: Klíčové slovo, které označuje vytvoření funkce lambda.\n",
    "- argumenty: Vstupní parametry nebo argumenty funkce.\n",
    "- výraz: Výraz nebo výpočet, který funkce provede a vrátí jako výsledek.\n",
    "\n",
    "V tomto příkladu definujeme lambda funkci add, která přijímá dva argumenty `x` a `y`. Výraz `x + y` sečte obě čísla. Poté zavoláme funkci lambda a výsledek přiřadíme do proměnné `result`:"
   ]
  },
  {
   "cell_type": "code",
   "execution_count": 7,
   "metadata": {},
   "outputs": [
    {
     "name": "stdout",
     "output_type": "stream",
     "text": [
      "7\n"
     ]
    }
   ],
   "source": [
    "add = lambda x, y: x + y\n",
    "result = add(3, 4)\n",
    "print(result)"
   ]
  },
  {
   "attachments": {},
   "cell_type": "markdown",
   "metadata": {},
   "source": [
    "Jako argument funkce `map()` zde použijeme funkci lambda. Funkce lambda vezme každý prvek `x` ze seznamu čísel a odmocní jej `(x ** 2)`. Funkce `map()` aplikuje funkci lambda na každý prvek seznamu a výsledek uloží do seznamu `squared`. Výstupem bude seznam čtverců."
   ]
  },
  {
   "cell_type": "code",
   "execution_count": 8,
   "metadata": {},
   "outputs": [
    {
     "name": "stdout",
     "output_type": "stream",
     "text": [
      "[1, 4, 9, 16, 25]\n"
     ]
    }
   ],
   "source": [
    "numbers = [1, 2, 3, 4, 5]\n",
    "squared = list(map(lambda x: x ** 2, numbers))\n",
    "print(squared)"
   ]
  },
  {
   "attachments": {},
   "cell_type": "markdown",
   "metadata": {},
   "source": [
    "### Cvičení\n",
    "\n",
    "Dostanete seznam jmen a musíte je seřadit podle abecedy. Postupujte podle následujících kroků:\n",
    "\n",
    "1. Vytvořte funkci `sort_names`, která přijímá argumenty proměnné délky (`*args`).\n",
    "2. Uvnitř funkce `sort_names` převeďte argumenty proměnné délky na seznam.\n",
    "3. Pomocí funkce `sorted()` seřaďte jména podle abecedy.\n",
    "    - Jako parametr `key` použijte funkci lambda pro zadání kritéria řazení.\n",
    "    - Funkce lambda by měla jako argument přijmout jméno a vrátit samotné jméno.\n",
    "4. Vraťte setříděný seznam jmen z funkce `sort_names`.\n",
    "5. Volání funkce `sort_names` s více argumenty jmen.\n",
    "6. Vypište setříděný seznam jmen."
   ]
  },
  {
   "cell_type": "code",
   "execution_count": null,
   "metadata": {},
   "outputs": [],
   "source": [
    "\n",
    "\n",
    "\n",
    "\n",
    "\n",
    "\n",
    "\n",
    "\n",
    "\n",
    "\n",
    "\n",
    "\n"
   ]
  },
  {
   "attachments": {},
   "cell_type": "markdown",
   "metadata": {},
   "source": [
    "### Řěšění"
   ]
  },
  {
   "cell_type": "code",
   "execution_count": 10,
   "metadata": {},
   "outputs": [
    {
     "name": "stdout",
     "output_type": "stream",
     "text": [
      "['Alice', 'Bob', 'Charlie', 'David', 'Eve']\n"
     ]
    }
   ],
   "source": [
    "def sort_names(*args):\n",
    "    names = list(args)\n",
    "    sorted_names = sorted(names, key=lambda name: name)\n",
    "    return sorted_names\n",
    "\n",
    "# Call the function with multiple name arguments\n",
    "sorted_names = sort_names(\"Alice\", \"Bob\", \"Charlie\", \"David\", \"Eve\")\n",
    "\n",
    "# Print the sorted list of names\n",
    "print(sorted_names)"
   ]
  },
  {
   "attachments": {},
   "cell_type": "markdown",
   "metadata": {},
   "source": [
    "## Funkce `main()`\n",
    "Ve větších programech a knihovnách se můžete setkat s tímto kódem:"
   ]
  },
  {
   "cell_type": "code",
   "execution_count": 12,
   "metadata": {},
   "outputs": [],
   "source": [
    "def main():\n",
    "    # Main logic of the program\n",
    "    return\n",
    "\n",
    "# Execute the main function if the script is run directly\n",
    "if __name__ == \"__main__\":\n",
    "    main()"
   ]
  },
  {
   "attachments": {},
   "cell_type": "markdown",
   "metadata": {},
   "source": [
    "Podle konvence se funkce `main()` často volá na konci skriptu uvnitř `if __name__ == \"__main__\": condition`. Tím je zajištěno, že se funkce `main()` vykoná pouze při přímém spuštění skriptu (ne jako modulu - o tom příště). Když je skript Pythonu importován jako modul, funkce `main()` se automaticky nespustí. To umožňuje importovat funkce a třídy definované ve skriptu a používat je v jiných modulech, aniž by se spustila hlavní logika. Když je však skript spuštěn přímo (jako hlavní skript), je vyvolána funkce `main()` a provádění programu začíná od ní. Umístění hlavní logiky programu do funkce `main()` pomáhá uspořádat strukturu kódu. Ostatní funkce a třídy lze definovat mimo funkci `main()`, čímž se hlavní logika udržuje stručná a soustředěná."
   ]
  }
 ],
 "metadata": {
  "kernelspec": {
   "display_name": "base",
   "language": "python",
   "name": "python3"
  },
  "language_info": {
   "codemirror_mode": {
    "name": "ipython",
    "version": 3
   },
   "file_extension": ".py",
   "mimetype": "text/x-python",
   "name": "python",
   "nbconvert_exporter": "python",
   "pygments_lexer": "ipython3",
   "version": "3.10.9"
  },
  "orig_nbformat": 4
 },
 "nbformat": 4,
 "nbformat_minor": 2
}
