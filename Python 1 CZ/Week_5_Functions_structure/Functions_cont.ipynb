{
 "cells": [
  {
   "attachments": {},
   "cell_type": "markdown",
   "metadata": {},
   "source": [
    "# Týden 6. Moduly, knihovny"
   ]
  },
  {
   "attachments": {},
   "cell_type": "markdown",
   "metadata": {},
   "source": [
    "## Moduly:\n",
    "\n",
    "- Modul je soubor obsahující definice a příkazy jazyka Python. Umožňuje logicky uspořádat kód jazyka Python.\n",
    "- Moduly umožňují opakované použití kódu ve více programech nebo projektech Pythonu.\n",
    "- Moduly mohou obsahovat funkce, třídy, proměnné a další definice.\n",
    "- Vlastní moduly můžete vytvářet tak, že kód jazyka Python napíšete do samostatných souborů `.py`.\n",
    "- Chcete-li modul použít ve svém kódu, musíte jej importovat pomocí příkazu `import`. Po importu můžete přistupovat k funkcím, třídám nebo proměnným definovaným v modulu pomocí názvu modulu následovaného tečkovou notací.\n",
    "\n",
    "Tady naimportujeme základní modul Pythonu `math`:"
   ]
  },
  {
   "cell_type": "code",
   "execution_count": 1,
   "metadata": {},
   "outputs": [
    {
     "name": "stdout",
     "output_type": "stream",
     "text": [
      "Area of the circle: 78.53981633974483\n"
     ]
    }
   ],
   "source": [
    "# Importing the math module\n",
    "import math\n",
    "\n",
    "# Using functions from the math module\n",
    "radius = 5\n",
    "area = math.pi * math.pow(radius, 2)\n",
    "print(\"Area of the circle:\", area)"
   ]
  },
  {
   "attachments": {},
   "cell_type": "markdown",
   "metadata": {},
   "source": [
    "Zde je další běžný modul Pythonu `random`:"
   ]
  },
  {
   "cell_type": "code",
   "execution_count": 2,
   "metadata": {},
   "outputs": [
    {
     "name": "stdout",
     "output_type": "stream",
     "text": [
      "Random number: 1\n"
     ]
    }
   ],
   "source": [
    "# Importing the random module from the random library\n",
    "import random\n",
    "\n",
    "# Using functions from the random module\n",
    "random_number = random.randint(1, 10)\n",
    "print(\"Random number:\", random_number)"
   ]
  },
  {
   "attachments": {},
   "cell_type": "markdown",
   "metadata": {},
   "source": [
    "Python obsahuje bohatou sadu modulů ve své standardní knihovně, která poskytuje širokou škálu funkcí. Zde jsou některé základní moduly, které se v Pythonu běžně používají:\n",
    "\n",
    "1. `math`: Poskytuje matematické funkce a konstanty.\n",
    "2. `random`: Nabízí funkce pro generování náhodných čísel, výběr náhodných prvků a další.\n",
    "3. `datetime`: Umožňuje práci s daty, časy a časovými intervaly.\n",
    "4. `os`: Poskytuje funkce pro interakci s operačním systémem, například operace se soubory a adresáři.\n",
    "5. `sys`: Nabízí přístup k parametrům a funkcím specifickým pro systém.\n",
    "6. `csv`: Poskytuje funkce pro práci se soubory CSV (Comma-Separated Values)."
   ]
  },
  {
   "attachments": {},
   "cell_type": "markdown",
   "metadata": {},
   "source": [
    "### Cvičení\n",
    "\n",
    "Máte za úkol vytvořit program, který aproximuje integrál dané funkce metodou Monte Carlo. Postupujte podle následujících kroků:\n",
    "\n",
    "1. Definujte funkci $f(x)$, která představuje funkci, pro kterou chcete vypočítat integrál. Můžete si zvolit libovolnou funkci dle vlastního výběru. Použijme například funkci $f(x) = \\sqrt{x}\\sin(x)$.\n",
    "\n",
    "2. Vytvořte funkci s názvem `monte_carlo_integration`, která přijímá následující argumenty:\n",
    "   - `f`: Funkce, která se má integrovat.\n",
    "   - `a` a `b`: hranice integračního intervalu.\n",
    "   - `num_samples`: Počet náhodných vzorků, které se použijí pro aproximaci.\n",
    "\n",
    "3. Uvnitř funkce `monte_carlo_integration` inicializujte proměnnou `sum` na hodnotu 0.\n",
    "\n",
    "4. Pomocí smyčky generujte náhodné hodnoty `num_samples` `x` v intervalu `[a, b]` pomocí funkce `random.uniform()`.\n",
    "\n",
    "5. Pro každou náhodnou hodnotu `x` vyhodnoťte funkci `f(x)` a výsledek přičtěte k proměnné `sum`.\n",
    "\n",
    "6. Po ukončení cyklu vypočítejte přibližný integrál vynásobením průměru vyhodnocení funkce (`sum / num_samples`) šířkou intervalu (`b - a`).\n",
    "\n",
    "7. Vraťte přibližný integrál z funkce `monte_carlo_integration`.\n",
    "\n",
    "8. Vyzvěte uživatele k zadání integračních mezí `a` a `b` a počtu vzorků `num_samples`.\n",
    "\n",
    "9. Zavolá funkci `monte_carlo_integration` se vstupy zadanými uživatelem a uloží přibližný integrál.\n",
    "\n",
    "10. Vypište přibližnou hodnotu integrálu."
   ]
  },
  {
   "cell_type": "code",
   "execution_count": null,
   "metadata": {},
   "outputs": [],
   "source": [
    "\n",
    "\n",
    "\n",
    "\n",
    "\n",
    "\n",
    "\n",
    "\n",
    "\n",
    "\n",
    "\n",
    "\n",
    "\n",
    "\n",
    "\n",
    "\n",
    "\n",
    "\n"
   ]
  },
  {
   "attachments": {},
   "cell_type": "markdown",
   "metadata": {},
   "source": [
    "### Řešení"
   ]
  },
  {
   "cell_type": "code",
   "execution_count": 11,
   "metadata": {},
   "outputs": [
    {
     "name": "stdout",
     "output_type": "stream",
     "text": [
      "Approximate Integral: 0.3688398587604966\n"
     ]
    }
   ],
   "source": [
    "import math\n",
    "import random\n",
    "\n",
    "f = lambda x: math.sqrt(x) * math.sin(x)\n",
    "\n",
    "def monte_carlo_integration(f, a, b, num_samples):\n",
    "    total_sum = 0\n",
    "\n",
    "    for _ in range(num_samples):\n",
    "        x = random.uniform(a, b)\n",
    "        total_sum += f(x)\n",
    "\n",
    "    approximate_integral = ((b - a) / num_samples) * total_sum\n",
    "    return approximate_integral\n",
    "\n",
    "# Prompt the user to input integration limits and number of samples\n",
    "a = float(input(\"Enter the lower limit (a): \"))\n",
    "b = float(input(\"Enter the upper limit (b): \"))\n",
    "num_samples = int(input(\"Enter the number of samples: \"))\n",
    "\n",
    "# Call the monte_carlo_integration function and store the approximate integral\n",
    "approx_integral = monte_carlo_integration(f, a, b, num_samples)\n",
    "\n",
    "# Print the approximate value of the integral\n",
    "print(\"Approximate Integral:\", approx_integral)"
   ]
  },
  {
   "attachments": {},
   "cell_type": "markdown",
   "metadata": {},
   "source": [
    "## Knihovny:\n",
    "\n",
    "- Knihovna, známá také jako knihovna balíčků nebo modulů, je soubor modulů nebo balíčků, které poskytují předem napsané funkce pro řešení konkrétních problémů nebo provádění konkrétních úkolů.\n",
    "- Knihovny rozšiřují funkčnost jazyka Python tím, že poskytují hotový kód pro různé účely.\n",
    "- Knihovny jsou obvykle vyvíjeny a udržovány komunitou Pythonu nebo vývojáři třetích stran.\n",
    "- Standardní knihovna jazyka Python je kolekce modulů, které jsou součástí instalace jazyka Python a pokrývají širokou škálu funkcí, například matematiku, operace s řetězci, práci se soubory a další.\n",
    "- Další knihovny lze nainstalovat z externích zdrojů pomocí správců balíčků, jako je `pip`. Chcete-li knihovnu používat, musíte z ní importovat požadované moduly."
   ]
  },
  {
   "attachments": {},
   "cell_type": "markdown",
   "metadata": {},
   "source": [
    "Python má živý ekosystém s mnoha knihovnami pro různé oblasti a účely. Zde jsou některé z nejoblíbenějších a nejpoužívanějších knihoven Pythonu:\n",
    "\n",
    "1. **NumPy**: Základní knihovna pro numerické výpočty v jazyce Python. Poskytuje výkonné objekty N-rozměrných polí, funkce lineární algebry, Fourierovy transformace a další.\n",
    "\n",
    "2. **Pandas**: Pandas je knihovna, která se používá pro zpracování dat: Pandas: knihovna pro manipulaci s daty a jejich analýzu. Nabízí datové struktury (například DataFrame) a funkce pro efektivní práci se strukturovanými daty, provádění čištění dat, transformace a analytické úlohy.\n",
    "\n",
    "3. **matplotlib**: Knihovna pro tvorbu grafů a obrázků, tzv: Knihovna pro vykreslování a vizualizaci. Poskytuje flexibilní a komplexní sadu funkcí pro vytváření statických, animovaných a interaktivních vizualizací v jazyce Python.\n",
    "\n",
    "4. **scikit-learn**: Nástroj pro tvorbu grafů, který je určen pro práci s knihovnami, a který je určen pro tvorbu grafů: Knihovna pro strojové učení, která nabízí řadu algoritmů učení pod dohledem i bez dohledu, vyhodnocovací metriky a nástroje pro předzpracování dat a výběr modelu. Je široce používána pro úlohy, jako je klasifikace, regrese, shlukování a redukce dimenzionality.\n",
    "\n",
    "5. **TensorFlow**: Open-source framework pro strojové učení vyvinutý společností Google. Používá se k vytváření a trénování modelů hlubokého učení, včetně neuronových sítí, a podporuje výpočty na CPU i GPU.\n",
    "\n",
    "6. **PyTorch**: Další populární framework pro hluboké učení, který poskytuje flexibilní a efektivní platformu pro budování a trénování neuronových sítí. Nabízí dynamické výpočetní grafy, takže je vhodný pro výzkumné prototypování i produkční nasazení."
   ]
  }
 ],
 "metadata": {
  "kernelspec": {
   "display_name": "base",
   "language": "python",
   "name": "python3"
  },
  "language_info": {
   "codemirror_mode": {
    "name": "ipython",
    "version": 3
   },
   "file_extension": ".py",
   "mimetype": "text/x-python",
   "name": "python",
   "nbconvert_exporter": "python",
   "pygments_lexer": "ipython3",
   "version": "3.10.9"
  },
  "orig_nbformat": 4
 },
 "nbformat": 4,
 "nbformat_minor": 2
}
