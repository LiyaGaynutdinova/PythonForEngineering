{
 "cells": [
  {
   "attachments": {},
   "cell_type": "markdown",
   "metadata": {},
   "source": [
    "### Domácí úkol: Jednoduchý šifrovací modul\n",
    "\n",
    "Vaším úkolem je vytvořit jednoduchý šifrovací modul, který umožní uživatelům šifrovat a dešifrovat zprávy pomocí základní substituční šifry. Postupujte podle následujících kroků:\n",
    "\n",
    "1. Vytvořte modul Pythonu s názvem `encryption.py`, který bude obsahovat vaše šifrovací funkce.\n",
    "\n",
    "2. Definujte funkci s názvem `encrypt`, která jako argumenty přijímá řetězec `message` a celé číslo `shift`.\n",
    "\n",
    "3. Uvnitř funkce `encrypt` implementujte základní substituční šifru posunutím každého písmene ve zprávě `message` o pozici `shift` doprava v anglické abecedě. Ignorujte nealfabetické znaky. K tomu můžete použit vestavenou funkce `ord()` a `chr()`, které resp. převádí řetězec znáku Unicode na celé číslo a celé číslo na znak Unicodu.\n",
    "\n",
    "4. Ošetřete případy, kdy posunuté písmeno přesahuje rozsah abecedy (např. posunutí písmene `z` o 1 by se mělo zabalit do písmene `a`). Toho lze dosáhnout použitím modula (%).\n",
    "\n",
    "5. Vraťte zašifrovanou zprávu jako řetězec z funkce `encrypt`.\n",
    "\n",
    "6. Definujte funkci `decrypt`, která jako argumenty přijímá zašifrovaný řetězec `zpráva` a celé číslo `shift`.\n",
    "\n",
    "7. Uvnitř funkce `decrypt` implementujte opačný proces substituční šifry pro dešifrování zprávy. Posuňte každé písmeno ve zprávě `message` o `shift` pozic doleva.\n",
    "\n",
    "8. Pomocí modulární aritmetiky ošetřete případy, kdy posunuté písmeno přesahuje rozsah abecedy (např. posunutí písmene `a` o 1 by se mělo zabalit do písmene `z`).\n",
    "\n",
    "9. Vrátit dešifrovanou zprávu jako řetězec z funkce `decrypt`.\n",
    "\n",
    "10. Ve stejném modulu `encryption.py` napište jednoduchý testovací kód, který demonstruje použití vašich šifrovacích funkcí."
   ]
  },
  {
   "cell_type": "code",
   "execution_count": 8,
   "metadata": {},
   "outputs": [
    {
     "name": "stdout",
     "output_type": "stream",
     "text": [
      "Encrypted Message: N qtaj Udymts\n",
      "Decrypted Message: I love Python\n"
     ]
    }
   ],
   "source": [
    "import encryption\n",
    "\n",
    "message = \"I love Python\"\n",
    "shift = 5\n",
    "\n",
    "encrypted_message = encryption.encrypt(message, shift)\n",
    "print(\"Encrypted Message:\", encrypted_message)\n",
    "\n",
    "decrypted_message = encryption.decrypt(encrypted_message, shift)\n",
    "print(\"Decrypted Message:\", decrypted_message)"
   ]
  }
 ],
 "metadata": {
  "kernelspec": {
   "display_name": "base",
   "language": "python",
   "name": "python3"
  },
  "language_info": {
   "codemirror_mode": {
    "name": "ipython",
    "version": 3
   },
   "file_extension": ".py",
   "mimetype": "text/x-python",
   "name": "python",
   "nbconvert_exporter": "python",
   "pygments_lexer": "ipython3",
   "version": "3.10.9"
  },
  "orig_nbformat": 4
 },
 "nbformat": 4,
 "nbformat_minor": 2
}
