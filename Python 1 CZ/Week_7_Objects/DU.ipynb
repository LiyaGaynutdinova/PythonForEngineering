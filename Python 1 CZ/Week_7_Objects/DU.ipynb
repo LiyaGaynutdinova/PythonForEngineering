{
 "cells": [
  {
   "attachments": {},
   "cell_type": "markdown",
   "metadata": {},
   "source": [
    "# Domácí úkol: Nákupní košík\n",
    "\n",
    "V tomto úkolu budeme simulovat virtuální nákupní košík. \n",
    "\n",
    "1. Vytvořte třídu `Product`, která bude mít atributy `name`, `price` a `quantity`. Metoda `__init__()` třídy `Product` by měla tyto tři atributy přijmout jako argumenty a inicializovat příslušné atributy.\n",
    "\n",
    "2. Vytvořte třídu `Cart`, která má jako atribut seznam objektů `Product`. Třída `Cart` by měla mít metody `add_product()` a `remove_product()`, které umožní uživateli přidávat, resp. odebírat produkty z košíku. Třída `Cart` by měla mít také metodu `total_price()`, která vypočítá celkovou cenu všech produktů v košíku.\n",
    "\n",
    "3. Vytvořte třídu `Supermarket`, která využívá třídu `Košík`. Třída `Supermarket` by měla mít metodu `buy_products()`, která umožní uživateli vybrat produkty ke koupi a přidat je do košíku. Jakmile uživatel dokončí výběr produktů, metoda `buy_products()` by měla zavolat metodu `total_price()` objektu `Cart`, aby se vypočítala celková cena všech produktů v košíku."
   ]
  },
  {
   "cell_type": "code",
   "execution_count": 1,
   "metadata": {},
   "outputs": [
    {
     "name": "stdout",
     "output_type": "stream",
     "text": [
      "Product List:\n",
      "1 - Apple - $ 1.0 - Quantity: 10\n",
      "2 - Banana - $ 0.5 - Quantity: 20\n",
      "3 - Orange - $ 1.5 - Quantity: 15\n",
      "4 - Mango - $ 2.5 - Quantity: 5\n",
      "5 - Pineapple - $ 3.0 - Quantity: 3\n",
      "Added 2 Apple to cart.\n",
      "Added 5 Orange to cart.\n",
      "Your total is: $ 9.5\n"
     ]
    }
   ],
   "source": [
    "\n",
    "\n",
    "\n",
    "\n",
    "\n",
    "\n",
    "\n",
    "\n",
    "\n",
    "\n",
    "\n"
   ]
  }
 ],
 "metadata": {
  "kernelspec": {
   "display_name": "base",
   "language": "python",
   "name": "python3"
  },
  "language_info": {
   "codemirror_mode": {
    "name": "ipython",
    "version": 3
   },
   "file_extension": ".py",
   "mimetype": "text/x-python",
   "name": "python",
   "nbconvert_exporter": "python",
   "pygments_lexer": "ipython3",
   "version": "3.9.13"
  },
  "orig_nbformat": 4
 },
 "nbformat": 4,
 "nbformat_minor": 2
}
