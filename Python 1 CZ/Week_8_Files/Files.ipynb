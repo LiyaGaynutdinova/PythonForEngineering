{
 "cells": [
  {
   "attachments": {},
   "cell_type": "markdown",
   "metadata": {},
   "source": [
    "# Týden 8. Zápis a čtení souborů"
   ]
  },
  {
   "attachments": {},
   "cell_type": "markdown",
   "metadata": {},
   "source": [
    "## Otevření souborů\n",
    "\n",
    "Chcete-li otevřít soubor, musíte použít vestavěnou funkci `open()`. Ta přijímá dva argumenty: jméno souboru (včetně cesty, je-li to nutné) a režim, ve kterém chcete soubor otevřít (např. `'r'` pro čtení, `'w'` pro zápis, `'a'` pro připojování atd.)."
   ]
  },
  {
   "cell_type": "code",
   "execution_count": 4,
   "metadata": {},
   "outputs": [],
   "source": [
    "file = open('example.txt', 'r')"
   ]
  },
  {
   "attachments": {},
   "cell_type": "markdown",
   "metadata": {},
   "source": [
    "Volání funkce `open()` vrací objekt Soubor. Objekt Soubor představuje soubor v počítači; je to prostě další typ hodnoty v jazyce Python, podobně jako seznamy a slovníky. V předchozím příkladu jste objekt Soubor uložili do proměnné `file`. Kdykoli nyní budete chtít ze souboru číst nebo do něj zapisovat, můžete tak učinit voláním metod objektu Soubor v proměnné `file`.\n",
    "\n",
    "## Čtení ze souboru \n",
    "\n",
    "Jakmile je soubor otevřen, můžete jeho obsah číst různými metodami. Nejběžnější metodou je `read()`, která přečte celý obsah souboru jako řetězec."
   ]
  },
  {
   "cell_type": "code",
   "execution_count": 2,
   "metadata": {},
   "outputs": [
    {
     "name": "stdout",
     "output_type": "stream",
     "text": [
      "Hello, World!\n",
      "1, 2, 3, 4\n",
      "[[1, 0, 2],[1, 3, 6]]\n"
     ]
    }
   ],
   "source": [
    "content = file.read()\n",
    "print(content)"
   ]
  },
  {
   "attachments": {},
   "cell_type": "markdown",
   "metadata": {},
   "source": [
    "Můžete také použít `readline()` pro čtení jednoho řádku po druhém nebo `readlines()` pro čtení všech řádků do seznamu."
   ]
  },
  {
   "cell_type": "code",
   "execution_count": 6,
   "metadata": {},
   "outputs": [
    {
     "data": {
      "text/plain": [
       "['Hello, World!\\n', '1, 2, 3, 4\\n', '[[1, 0, 2],[1, 3, 6]]']"
      ]
     },
     "execution_count": 6,
     "metadata": {},
     "output_type": "execute_result"
    }
   ],
   "source": [
    "file = open('example.txt', 'r')\n",
    "file.readlines()"
   ]
  },
  {
   "attachments": {},
   "cell_type": "markdown",
   "metadata": {},
   "source": [
    "Všimněte si, že kromě posledního řádku souboru je každá z hodnot řetězce ukončena znakem nového řádku `\\n`. Se seznamem řetězců se často pracuje lépe než s jedním velkým řetězcem.\n",
    "\n",
    "## Psání do souboru\n",
    "\n",
    "Chcete-li zapsat data do souboru, otevřete jej v režimu zápisu (\"w\"), použijte metodu `write()` pro zápis dat a poté soubor zavřete. Pokud soubor neexistuje, bude vytvořen. Buďte opatrní, protože otevření souboru v režimu zápisu přepíše jeho stávající obsah."
   ]
  },
  {
   "cell_type": "code",
   "execution_count": 13,
   "metadata": {},
   "outputs": [],
   "source": [
    "file = open('myfile.txt', 'w')\n",
    "file.write('Hello, World!')\n",
    "file.close()"
   ]
  },
  {
   "attachments": {},
   "cell_type": "markdown",
   "metadata": {},
   "source": [
    "Pokud chcete přidat obsah do existujícího souboru, aniž byste přepsali jeho aktuální obsah, otevřete soubor v režimu připojování (\"a\"). To vám umožní zapsat data na konec souboru."
   ]
  },
  {
   "cell_type": "code",
   "execution_count": 14,
   "metadata": {},
   "outputs": [],
   "source": [
    "file = open('myfile.txt', 'a')\n",
    "file.write('\\nThis is a new line.')\n",
    "file.close()"
   ]
  },
  {
   "attachments": {},
   "cell_type": "markdown",
   "metadata": {},
   "source": [
    "## Zavření souboru \n",
    "Po ukončení práce se souborem je důležité jej zavřít, aby se uvolnily systémové zdroje. Soubor zavřete pomocí metody `close()`. Případně můžete použít příkaz `with`, který soubor po dokončení automaticky uzavře. To je považováno za osvědčený postup:"
   ]
  },
  {
   "cell_type": "code",
   "execution_count": 15,
   "metadata": {},
   "outputs": [
    {
     "name": "stdout",
     "output_type": "stream",
     "text": [
      "Hello, World!\n",
      "This is a new line.\n"
     ]
    }
   ],
   "source": [
    "with open('myfile.txt', 'r') as file:\n",
    "    content = file.read()\n",
    "    print(content)"
   ]
  },
  {
   "attachments": {},
   "cell_type": "markdown",
   "metadata": {},
   "source": [
    "## Práce s .csv soubory\n",
    "Práce se soubory CSV (Comma-Separated Values) v Pythonu je díky vestavěnému modulu `csv` poměrně jednoduchá. Modul `csv` poskytuje funkce pro čtení ze souborů CSV a zápis do nich. Začněte importem modulu `csv` do skriptu Python."
   ]
  },
  {
   "cell_type": "code",
   "execution_count": 16,
   "metadata": {},
   "outputs": [],
   "source": [
    "import csv"
   ]
  },
  {
   "attachments": {},
   "cell_type": "markdown",
   "metadata": {},
   "source": [
    "### Čtení ze souboru CSV\n",
    "\n",
    "Chcete-li číst data ze souboru CSV, otevřete soubor pomocí funkce `open()`, vytvořte ze souboru objekt `csv.reader` a procházejte řádky pomocí smyčky. Každý řádek bude vrácen jako seznam hodnot."
   ]
  },
  {
   "cell_type": "code",
   "execution_count": 18,
   "metadata": {},
   "outputs": [
    {
     "name": "stdout",
     "output_type": "stream",
     "text": [
      "['Name', 'Age', 'City']\n",
      "['John', '25', 'New York']\n",
      "['Emily', '30', 'London']\n",
      "['Michael', '35', 'Paris']\n"
     ]
    }
   ],
   "source": [
    "with open('data.csv', 'r') as file:\n",
    "    csv_reader = csv.reader(file)\n",
    "    for row in csv_reader:\n",
    "        print(row)"
   ]
  },
  {
   "attachments": {},
   "cell_type": "markdown",
   "metadata": {},
   "source": [
    "### Zápis do souboru CSV\n",
    "\n",
    "Chcete-li zapsat data do souboru CSV, otevřete soubor pomocí funkce `open()`, vytvořte ze souboru objekt `csv.writer` a použijte metody objektu `writer`, například funkci `writerow()`, k zápisu řádků dat."
   ]
  },
  {
   "cell_type": "code",
   "execution_count": 20,
   "metadata": {},
   "outputs": [],
   "source": [
    "with open('data.csv', 'a', newline='') as file:\n",
    "    csv_writer = csv.writer(file)\n",
    "    csv_writer.writerow(['Jan', 25, 'Prague'])"
   ]
  },
  {
   "attachments": {},
   "cell_type": "markdown",
   "metadata": {},
   "source": [
    "## Pickle\n",
    "\n",
    "Modul `pickle` slouží k serializaci a deserializaci objektů. Umožňuje převádět složité objekty jazyka Python na proud bajtů, který lze uložit do souboru nebo přenášet po síti. Proces převodu objektů do proudu bajtů se nazývá \"pickling\" a opačný proces rekonstrukce objektů z proudu bajtů se nazývá \"unpickling\".\n",
    "\n",
    "Modul `pickle` poskytuje následující hlavní funkce:\n",
    "\n",
    "- `pickle.dump(obj, file)`: Tato funkce serializuje objekt `obj` a zapíše serializovanou reprezentaci do souboru podobného objektu."
   ]
  },
  {
   "cell_type": "code",
   "execution_count": 21,
   "metadata": {},
   "outputs": [],
   "source": [
    "import pickle\n",
    "\n",
    "# Object to be serialized\n",
    "data = {'name': 'John', 'age': 30, 'city': 'New York'}\n",
    "\n",
    "# Pickling the object and writing to a file\n",
    "with open('data.pickle', 'wb') as file:\n",
    "    pickle.dump(data, file)"
   ]
  },
  {
   "attachments": {},
   "cell_type": "markdown",
   "metadata": {},
   "source": [
    "- `pickle.load(file)`: Tato funkce načte reprezentaci piklovaného objektu ze souboru podobného objektu a vrátí rekonstruovaný objekt."
   ]
  },
  {
   "cell_type": "code",
   "execution_count": 22,
   "metadata": {},
   "outputs": [
    {
     "name": "stdout",
     "output_type": "stream",
     "text": [
      "{'name': 'John', 'age': 30, 'city': 'New York'}\n"
     ]
    }
   ],
   "source": [
    "# Unpickling the object from the file\n",
    "with open('data.pickle', 'rb') as file:\n",
    "    loaded_data = pickle.load(file)\n",
    "\n",
    "print(loaded_data)"
   ]
  },
  {
   "attachments": {},
   "cell_type": "markdown",
   "metadata": {},
   "source": [
    "Modul pickle se běžně používá, když potřebujete ukládat nebo přenášet složité objekty jazyka Python, například slovníky, seznamy nebo instance vlastních tříd. Mějte však na paměti, že modul pickle je třeba používat opatrně, zejména při práci s nedůvěryhodnými daty nebo při přenosu dat mezi různými verzemi jazyka Python, protože během procesu rozbalování se provádí libovolný kód."
   ]
  },
  {
   "attachments": {},
   "cell_type": "markdown",
   "metadata": {},
   "source": [
    "## Cvičení: součet čísel\n",
    "\n",
    "Napište program v jazyce Python, který načte textový soubor a vypočítá součet čísel v něm obsažených.\n",
    "\n",
    "1. Vytvořte textový soubor s názvem \"numbers.txt\" a vyplňte jej několika čísly, každé na samostatném řádku.\n",
    "\n",
    "2. Napište program v jazyce Python, který přečte soubor \"numbers.txt\".\n",
    "\n",
    "3. Pomocí vestavěné funkce `open()` otevřete soubor a přečtěte jeho obsah.\n",
    "\n",
    "4. Vyjměte ze souboru čísla a vypočítejte jejich součet.\n",
    "\n",
    "5. Vypište součet čísel."
   ]
  },
  {
   "cell_type": "code",
   "execution_count": null,
   "metadata": {},
   "outputs": [],
   "source": [
    "\n",
    "\n",
    "\n",
    "\n",
    "\n",
    "\n",
    "\n",
    "\n",
    "\n",
    "\n"
   ]
  },
  {
   "attachments": {},
   "cell_type": "markdown",
   "metadata": {},
   "source": [
    "## Řešení"
   ]
  },
  {
   "cell_type": "code",
   "execution_count": null,
   "metadata": {},
   "outputs": [],
   "source": [
    "with open(\"numbers.txt\", \"r\") as file:\n",
    "    number_sum = sum(int(line) for line in file)\n",
    "    print(\"Sum of Numbers:\", number_sum)"
   ]
  }
 ],
 "metadata": {
  "kernelspec": {
   "display_name": "base",
   "language": "python",
   "name": "python3"
  },
  "language_info": {
   "codemirror_mode": {
    "name": "ipython",
    "version": 3
   },
   "file_extension": ".py",
   "mimetype": "text/x-python",
   "name": "python",
   "nbconvert_exporter": "python",
   "pygments_lexer": "ipython3",
   "version": "3.10.9"
  },
  "orig_nbformat": 4
 },
 "nbformat": 4,
 "nbformat_minor": 2
}
