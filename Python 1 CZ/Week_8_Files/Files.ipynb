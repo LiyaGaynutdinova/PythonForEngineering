{
 "cells": [
  {
   "attachments": {},
   "cell_type": "markdown",
   "metadata": {},
   "source": [
    "# Týden 8. Zápis a čtení souborů"
   ]
  },
  {
   "attachments": {},
   "cell_type": "markdown",
   "metadata": {},
   "source": [
    "## Otevření souborů\n",
    "\n",
    "Chcete-li otevřít soubor, musíte použít vestavěnou funkci `open()`. Ta přijímá dva argumenty: jméno souboru (včetně cesty, je-li to nutné) a režim, ve kterém chcete soubor otevřít (např. `'r'` pro čtení, `'w'` pro zápis, `'a'` pro připojování atd.)."
   ]
  },
  {
   "cell_type": "code",
   "execution_count": 4,
   "metadata": {},
   "outputs": [],
   "source": [
    "file = open('example.txt', 'r')"
   ]
  },
  {
   "attachments": {},
   "cell_type": "markdown",
   "metadata": {},
   "source": [
    "Volání funkce `open()` vrací objekt Soubor. Objekt Soubor představuje soubor v počítači; je to prostě další typ hodnoty v jazyce Python, podobně jako seznamy a slovníky. V předchozím příkladu jste objekt Soubor uložili do proměnné `file`. Kdykoli nyní budete chtít ze souboru číst nebo do něj zapisovat, můžete tak učinit voláním metod objektu Soubor v proměnné `file`.\n",
    "\n",
    "## Čtení ze souboru \n",
    "\n",
    "Jakmile je soubor otevřen, můžete jeho obsah číst různými metodami. Nejběžnější metodou je `read()`, která přečte celý obsah souboru jako řetězec."
   ]
  },
  {
   "cell_type": "code",
   "execution_count": 2,
   "metadata": {},
   "outputs": [
    {
     "name": "stdout",
     "output_type": "stream",
     "text": [
      "Hello, World!\n",
      "1, 2, 3, 4\n",
      "[[1, 0, 2],[1, 3, 6]]\n"
     ]
    }
   ],
   "source": [
    "content = file.read()\n",
    "print(content)"
   ]
  },
  {
   "attachments": {},
   "cell_type": "markdown",
   "metadata": {},
   "source": [
    "Můžete také použít `readline()` pro čtení jednoho řádku po druhém nebo `readlines()` pro čtení všech řádků do seznamu."
   ]
  },
  {
   "cell_type": "code",
   "execution_count": 6,
   "metadata": {},
   "outputs": [
    {
     "data": {
      "text/plain": [
       "['Hello, World!\\n', '1, 2, 3, 4\\n', '[[1, 0, 2],[1, 3, 6]]']"
      ]
     },
     "execution_count": 6,
     "metadata": {},
     "output_type": "execute_result"
    }
   ],
   "source": [
    "file = open('example.txt', 'r')\n",
    "file.readlines()"
   ]
  },
  {
   "attachments": {},
   "cell_type": "markdown",
   "metadata": {},
   "source": [
    "Všimněte si, že kromě posledního řádku souboru je každá z hodnot řetězce ukončena znakem nového řádku `\\n`. Se seznamem řetězců se často pracuje lépe než s jedním velkým řetězcem.\n",
    "\n",
    "## Psání do souboru\n",
    "\n",
    "Chcete-li zapsat data do souboru, otevřete jej v režimu zápisu (\"w\"), použijte metodu `write()` pro zápis dat a poté soubor zavřete. Pokud soubor neexistuje, bude vytvořen. Buďte opatrní, protože otevření souboru v režimu zápisu přepíše jeho stávající obsah."
   ]
  },
  {
   "cell_type": "code",
   "execution_count": 7,
   "metadata": {},
   "outputs": [],
   "source": [
    "file = open('myfile.txt', 'w')\n",
    "file.write('Hello, World!\\n')\n",
    "file.close()"
   ]
  },
  {
   "attachments": {},
   "cell_type": "markdown",
   "metadata": {},
   "source": [
    "Pokud chcete přidat obsah do existujícího souboru, aniž byste přepsali jeho aktuální obsah, otevřete soubor v režimu připojování (\"a\"). To vám umožní zapsat data na konec souboru."
   ]
  },
  {
   "cell_type": "code",
   "execution_count": 8,
   "metadata": {},
   "outputs": [],
   "source": [
    "file = open('myfile.txt', 'a')\n",
    "file.write('This is a new line.')\n",
    "file.close()"
   ]
  },
  {
   "attachments": {},
   "cell_type": "markdown",
   "metadata": {},
   "source": [
    "2. Metody: metody jsou funkce, které jsou přiřazeny k objektu a k nimž se přistupuje pomocí tečkové notace na objektu. Metody představují chování nebo akce, které může objekt provádět. V případě řetězcového objektu jsou k dispozici různé metody pro manipulaci s řetězci a práci s nimi."
   ]
  },
  {
   "cell_type": "code",
   "execution_count": 10,
   "metadata": {},
   "outputs": [
    {
     "name": "stdout",
     "output_type": "stream",
     "text": [
      "hello, world!\n",
      "HELLO, WORLD!\n",
      "False\n",
      "False\n"
     ]
    }
   ],
   "source": [
    "# String object methods\n",
    "print(my_string.lower())  # Output: hello, world!\n",
    "print(my_string.upper())  # Output: HELLO, WORLD!\n",
    "print(my_string.islower())  # Output: False\n",
    "print(my_string.isupper())  # Output: False\n"
   ]
  },
  {
   "attachments": {},
   "cell_type": "markdown",
   "metadata": {},
   "source": [
    "## Definování třídy\n",
    "V jazyce Python se objekty vytvářejí z tříd, které definují data a metody (funkce), které jsou s objektem spojeny. Chcete-li v jazyce Python definovat vlastní třídu, použijte klíčové slovo class následované názvem třídy. Chcete-li například vytvořit objekt třídy `Rectangle` s délkou `4` a šířkou `5`, použijte následující kód:"
   ]
  },
  {
   "cell_type": "code",
   "execution_count": 11,
   "metadata": {},
   "outputs": [],
   "source": [
    "class Rectangle:\n",
    "    def __init__(self, length, width):\n",
    "        self.length = length\n",
    "        self.width = width"
   ]
  },
  {
   "attachments": {},
   "cell_type": "markdown",
   "metadata": {},
   "source": [
    "Metoda `__init__()` je speciální metoda, která se volá při vytváření objektu. Slouží k inicializaci atributů (dat) objektu. Parametr `self` odkazuje na samotný objekt a slouží k přístupu k jeho atributům a metodám. \n",
    "\n",
    "### Vytvoření objektu\n",
    "\n",
    "Následující kód vytvoří instanci třídy (objekt) `rect` třídy `Rectangle` o délce `4` a šířce `5`."
   ]
  },
  {
   "cell_type": "code",
   "execution_count": 12,
   "metadata": {},
   "outputs": [],
   "source": [
    "rect = Rectangle(4, 5)"
   ]
  },
  {
   "attachments": {},
   "cell_type": "markdown",
   "metadata": {},
   "source": [
    "### Přístup k atributům objektu\n",
    "Po vytvoření objektu můžete přistupovat k jeho atributům pomocí operátoru `.` . Například pro přístup k atributu `length` objektu `rect` použijete následující kód:"
   ]
  },
  {
   "cell_type": "code",
   "execution_count": 13,
   "metadata": {},
   "outputs": [
    {
     "name": "stdout",
     "output_type": "stream",
     "text": [
      "4\n"
     ]
    }
   ],
   "source": [
    "print(rect.length)"
   ]
  },
  {
   "attachments": {},
   "cell_type": "markdown",
   "metadata": {},
   "source": [
    "### Volání metod objektu\n",
    "Objekty v jazyce Python mohou mít také metody, což jsou funkce, které pracují s daty objektu. Chcete-li zavolat metodu objektu, použijte operátor `.` následovaný názvem metody a případnými požadovanými argumenty. Například zde je třída `Rectangle` s metodou `calculate_area()`, která vypočítá plochu obdélníku:"
   ]
  },
  {
   "cell_type": "code",
   "execution_count": 20,
   "metadata": {},
   "outputs": [
    {
     "name": "stdout",
     "output_type": "stream",
     "text": [
      "20\n"
     ]
    }
   ],
   "source": [
    "class Rectangle:\n",
    "    def __init__(self, length, width):\n",
    "        self.length = length\n",
    "        self.width = width\n",
    "\n",
    "    def calculate_area(self):\n",
    "        area = self.length * self.width\n",
    "        return area\n",
    "\n",
    "rect = Rectangle(4, 5)\n",
    "area = rect.calculate_area()\n",
    "print(area)"
   ]
  },
  {
   "attachments": {},
   "cell_type": "markdown",
   "metadata": {},
   "source": [
    "Tím se vytvoří objekt `rect` třídy `Rectangle` o délce `4` a šířce `5`. Pak bychom zavolali metodu `calculate_area()` objektu `rect`, která by vypočítala plochu obdélníku (`20`) a vrátila ji do proměnné `area`. Nakonec vypíšeme hodnotu `area`, která by vypíše `20`.\n",
    " \n",
    "## Proměnné tříd a instancí\n",
    "\n",
    "Obecně, proměnné instance jsou určeny pro data jedinečná pro každou instanci a proměnné třídy jsou určeny pro atributy a metody sdílené všemi instancemi třídy. V následujícím příkladu je proměnná `kind` společná pro všechny instance třídy, zatímco proměnná `name` je jedinečná pro každou instanci."
   ]
  },
  {
   "cell_type": "code",
   "execution_count": 1,
   "metadata": {},
   "outputs": [
    {
     "name": "stdout",
     "output_type": "stream",
     "text": [
      "Feline\n",
      "Feline\n",
      "Luna\n",
      "Simba\n"
     ]
    }
   ],
   "source": [
    "class Cat:\n",
    "\n",
    "    kind = 'Feline'         # class variable shared by all instances\n",
    "\n",
    "    def __init__(self, name):\n",
    "        self.name = name    # instance variable unique to each instance\n",
    "\n",
    "a = Cat('Luna')\n",
    "b = Cat('Simba')\n",
    "\n",
    "print(a.kind)               # shared by all cats\n",
    "print(b.kind)               # shared by all cats\n",
    "print(a.name)               # unique to a\n",
    "print(b.name)               # unique to b"
   ]
  },
  {
   "attachments": {},
   "cell_type": "markdown",
   "metadata": {},
   "source": [
    "\n",
    "## Dědičnost\n",
    "\n",
    "Dědičnost tříd nám umožňuje vytvářet specializované třídy, které dědí atributy a metody ze základní třídy a zároveň přidávají své vlastní jedinečné atributy a metody. To usnadňuje psaní a údržbu složitých programů díky uspořádání kódu do modulárních, opakovaně použitelných komponent. V tomto příkladu definujeme základní třídu `Animal`, která má metodu konstruktoru `__init__()`, která přijímá parametr jméno a druh a inicializuje příslušné atributy. Definovali jsme také metodu `make_sound()`, která vypíše obecnou zprávu o tom, že zvíře vydává zvuk."
   ]
  },
  {
   "cell_type": "code",
   "execution_count": 15,
   "metadata": {},
   "outputs": [],
   "source": [
    "class Animal:\n",
    "    def __init__(self, name, species):\n",
    "        self.name = name\n",
    "        self.species = species\n",
    "\n",
    "    def make_sound(self):\n",
    "        print(\"This animal makes a sound.\")"
   ]
  },
  {
   "attachments": {},
   "cell_type": "markdown",
   "metadata": {},
   "source": [
    "Nyní můžeme definovat dvě podtřídy, `Dog` a `Cat`, které dědí od třídy `Animal`. Tyto podtřídy mají vlastní metody konstruktoru, které volají rodičovský konstruktor pomocí funkce `super()`, a přidávají další atributy (`breed`) specifické pro psy a kočky. Každá podtřída také přepisuje metodu `make_sound()`, aby poskytla specifický zvuk pro daný typ zvířete."
   ]
  },
  {
   "cell_type": "code",
   "execution_count": 16,
   "metadata": {},
   "outputs": [],
   "source": [
    "class Dog(Animal):\n",
    "    def __init__(self, name, breed):\n",
    "        super().__init__(name, \"Canine\")\n",
    "        self.breed = breed\n",
    "\n",
    "    def make_sound(self):\n",
    "        print(\"Woof!\")\n",
    "\n",
    "class Cat(Animal):\n",
    "    def __init__(self, name, breed):\n",
    "        super().__init__(name, \"Feline\")\n",
    "        self.breed = breed\n",
    "\n",
    "    def make_sound(self):\n",
    "        print(\"Meow!\")"
   ]
  },
  {
   "attachments": {},
   "cell_type": "markdown",
   "metadata": {},
   "source": [
    "Nakonec jsme vytvořili instance tříd Dog a Cat, vypsali jejich atributy a zavolali jejich metodu `make_sound()`. Po zavolání metody `make_sound()` na objektech `Dog` a `Cat` se vypíše konkrétní zvuk spojený s daným typem zvířete."
   ]
  },
  {
   "cell_type": "code",
   "execution_count": 18,
   "metadata": {},
   "outputs": [
    {
     "name": "stdout",
     "output_type": "stream",
     "text": [
      "Fido Canine Labrador\n",
      "Woof!\n",
      "Whiskers Feline Persian\n",
      "Meow!\n"
     ]
    }
   ],
   "source": [
    "dog = Dog(\"Fido\", \"Labrador\")\n",
    "cat = Cat(\"Whiskers\", \"Persian\")\n",
    "\n",
    "print(dog.name, dog.species, dog.breed)\n",
    "dog.make_sound()\n",
    "\n",
    "print(cat.name, cat.species, cat.breed)\n",
    "cat.make_sound()"
   ]
  },
  {
   "attachments": {},
   "cell_type": "markdown",
   "metadata": {},
   "source": [
    "### Cvičení\n",
    "\n",
    "Napište program v Pythonu, který definuje třídu `Person` s atributy `name` a `age`. Třída `Person` by měla mít také metodu `introduction()`, která vypíše jméno a věk osoby.\n",
    "\n",
    "Zde jsou uvedeny kroky, které je třeba provést:\n",
    "\n",
    "1. Definujte třídu Person. Tato třída by měla mít dva atributy, jméno a věk, a metodu `introduction()`, která vypíše jméno a věk osoby.\n",
    "\n",
    "2. Pomocí funkce `input()` vyzvěte uživatele k zadání jména a věku osoby.\n",
    "\n",
    "3. Vytvořte instanci třídy `Person` s použitím uživatelského vstupu jako argumentů.\n",
    "\n",
    "4. Volejte metodu `introduction()` objektu `Person`."
   ]
  },
  {
   "cell_type": "code",
   "execution_count": null,
   "metadata": {},
   "outputs": [],
   "source": [
    "\n",
    "\n",
    "\n",
    "\n",
    "\n",
    "\n",
    "\n",
    "\n",
    "\n",
    "\n",
    "\n",
    "\n"
   ]
  }
 ],
 "metadata": {
  "kernelspec": {
   "display_name": "base",
   "language": "python",
   "name": "python3"
  },
  "language_info": {
   "codemirror_mode": {
    "name": "ipython",
    "version": 3
   },
   "file_extension": ".py",
   "mimetype": "text/x-python",
   "name": "python",
   "nbconvert_exporter": "python",
   "pygments_lexer": "ipython3",
   "version": "3.10.9"
  },
  "orig_nbformat": 4
 },
 "nbformat": 4,
 "nbformat_minor": 2
}
