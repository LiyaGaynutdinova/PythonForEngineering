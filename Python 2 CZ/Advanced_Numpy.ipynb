{
 "cells": [
  {
   "cell_type": "markdown",
   "metadata": {},
   "source": [
    "# Týden 1. Pokročilá práce s balíčkem NumPy.\n",
    "V minulém semestru jsme se seznámili s výkonným balíkem Numpy. V tomto cvičení si ukážeme, jak Numpy používat ještě efektivněji.\n",
    "\n",
    "## Univerzální funkce\n",
    "Připomeňme si, že kdybychom chtěli například sečíst všechny prvky dvou seznamů, museli bychom pole procházet ve smyčce. Protože se jedná o opakované operace, čas potřebný k výpočtu se zvyšuje vzhledem k velikosti dat. "
   ]
  },
  {
   "cell_type": "code",
   "execution_count": 3,
   "metadata": {},
   "outputs": [],
   "source": [
    "multiplier = 10000000 # try a big number to make a long list\n",
    "a = [1, 2, 3, 4, 5] * multiplier \n",
    "b = [1, 3, 5, 7, 6] * multiplier\n",
    "c = []"
   ]
  },
  {
   "cell_type": "code",
   "execution_count": 13,
   "metadata": {},
   "outputs": [],
   "source": [
    "for i in range(len(a)):\n",
    "    c.append(a[i] + b[i])"
   ]
  },
  {
   "cell_type": "markdown",
   "metadata": {},
   "source": [
    "Naštěstí NumPy tuto činnost zrychluje pomocí vektorizovaných operací, které jsou implementovány prostřednictvím univerzálních funkcí NumPy (ufuncs)."
   ]
  },
  {
   "cell_type": "code",
   "execution_count": 4,
   "metadata": {},
   "outputs": [],
   "source": [
    "import numpy as np\n",
    "a = np.array(a)\n",
    "b = np.array(b)"
   ]
  },
  {
   "cell_type": "code",
   "execution_count": 15,
   "metadata": {},
   "outputs": [],
   "source": [
    "c = a + b"
   ]
  },
  {
   "cell_type": "markdown",
   "metadata": {},
   "source": [
    "Všechny aritmetické operace jsou obaly (wrappers) kolem vestavěných funkcí NumPy. Například operátor `+` je obal funkce `add`."
   ]
  },
  {
   "cell_type": "code",
   "execution_count": 16,
   "metadata": {},
   "outputs": [],
   "source": [
    "c = np.add(a, b)"
   ]
  },
  {
   "cell_type": "markdown",
   "metadata": {},
   "source": [
    "Mezi nejužitečnější funkce NumPy patří trigonometrické, logaritmické a exponenciální funkce."
   ]
  },
  {
   "cell_type": "code",
   "execution_count": 18,
   "metadata": {},
   "outputs": [
    {
     "name": "stdout",
     "output_type": "stream",
     "text": [
      "alpha =  [0.         0.8975979  1.7951958  2.6927937  3.5903916  4.48798951\n",
      " 5.38558741 6.28318531]\n",
      "sin(alpha) =  [ 0.00000000e+00  7.81831482e-01  9.74927912e-01  4.33883739e-01\n",
      " -4.33883739e-01 -9.74927912e-01 -7.81831482e-01 -2.44929360e-16]\n",
      "cos(alpha) =  [ 1.          0.6234898  -0.22252093 -0.90096887 -0.90096887 -0.22252093\n",
      "  0.6234898   1.        ]\n",
      "tan(alpha) =  [ 0.00000000e+00  1.25396034e+00 -4.38128627e+00 -4.81574619e-01\n",
      "  4.81574619e-01  4.38128627e+00 -1.25396034e+00 -2.44929360e-16]\n"
     ]
    }
   ],
   "source": [
    "alpha = np.linspace(0, 2 * np.pi, 8)\n",
    "print('alpha = ', alpha)\n",
    "print('sin(alpha) = ', np.sin(alpha))\n",
    "print('cos(alpha) = ', np.cos(alpha))\n",
    "print('tan(alpha) = ', np.tan(alpha))"
   ]
  },
  {
   "cell_type": "code",
   "execution_count": 19,
   "metadata": {},
   "outputs": [
    {
     "name": "stdout",
     "output_type": "stream",
     "text": [
      "x =  [0 1 2 3 4]\n",
      "e^x =  [ 1.          2.71828183  7.3890561  20.08553692 54.59815003]\n",
      "2^x =  [ 1.  2.  4.  8. 16.]\n",
      "3^x =  [ 1  3  9 27 81]\n"
     ]
    }
   ],
   "source": [
    "x = np.arange(0, 5)\n",
    "print('x = ', x)\n",
    "print('e^x = ', np.exp(x))\n",
    "print('2^x = ', np.exp2(x))\n",
    "print('3^x = ', np.power(3, x))"
   ]
  },
  {
   "cell_type": "code",
   "execution_count": 20,
   "metadata": {},
   "outputs": [
    {
     "name": "stdout",
     "output_type": "stream",
     "text": [
      "x =  [1 2 3 4 5]\n",
      "ln(x) =  [0.         0.69314718 1.09861229 1.38629436 1.60943791]\n",
      "log2(x) =  [0.         1.         1.5849625  2.         2.32192809]\n",
      "log10(x) =  [0.         0.30103    0.47712125 0.60205999 0.69897   ]\n"
     ]
    }
   ],
   "source": [
    "x = np.arange(1, 6)\n",
    "print('x = ', x)\n",
    "print('ln(x) = ', np.log(x))\n",
    "print('log2(x) = ', np.log2(x))\n",
    "print('log10(x) = ', np.log10(x))"
   ]
  },
  {
   "cell_type": "markdown",
   "metadata": {},
   "source": [
    "## Agregace\n",
    "\n",
    "Proč používat agregační funkce NumPy, když tyto funkce jsou již zabudovány v Pythonu (`sum()`, `min()`, `max()` atd.)? Funkce NumPy jsou mnohem rychlejší, ale hlavně funkce NumPy zohledňují dimenze. Funkce Pythonu se na vícerozměrných polích chovají jinak.\n",
    "\n",
    "Například chceme získat součet všech prvků v poli o velikosti 2x5."
   ]
  },
  {
   "cell_type": "code",
   "execution_count": 21,
   "metadata": {},
   "outputs": [
    {
     "name": "stdout",
     "output_type": "stream",
     "text": [
      "[[0 1 2 3 4]\n",
      " [5 6 7 8 9]]\n",
      "Sum: [ 5  7  9 11 13]\n"
     ]
    }
   ],
   "source": [
    "array = np.arange(10).reshape(2,5)\n",
    "print(array)\n",
    "print('Sum:', sum(array))"
   ]
  },
  {
   "cell_type": "markdown",
   "metadata": {},
   "source": [
    "Očekávali jsme, že výsledek bude 45 (0+1+2+3+4+5+6+7+8+9), ale výsledkem je součet sloupců. Pokud chceme v numpy získat součet (nebo jinou agregační funkci) všech prvků pole, stačí zavolat funkci:"
   ]
  },
  {
   "cell_type": "code",
   "execution_count": 22,
   "metadata": {},
   "outputs": [
    {
     "data": {
      "text/plain": [
       "45"
      ]
     },
     "execution_count": 22,
     "metadata": {},
     "output_type": "execute_result"
    }
   ],
   "source": [
    "np.sum(array)"
   ]
  },
  {
   "cell_type": "markdown",
   "metadata": {},
   "source": [
    "Pokud chceme zjistit součet v každém sloupci nebo v každém řádku, zadáme `axis = 0` pro operaci po sloupcích a `axis=1` pro operaci po řádcích. Výsledkem bude 1-d pole."
   ]
  },
  {
   "cell_type": "code",
   "execution_count": 25,
   "metadata": {},
   "outputs": [
    {
     "name": "stdout",
     "output_type": "stream",
     "text": [
      "[ 5  7  9 11 13]\n",
      "[10 35]\n"
     ]
    }
   ],
   "source": [
    "print(np.sum(array, axis=0))\n",
    "print(np.sum(array, axis=1))"
   ]
  },
  {
   "cell_type": "markdown",
   "metadata": {},
   "source": [
    "Další agregační funkce NumPy: \n",
    "\n",
    "- np.prod (součin prvků)\n",
    "- np.mean (střední hodnota)\n",
    "- np.std (směrodatná odchylka)\n",
    "- np.var (rozptyl)\n",
    "- np.argmin (zjištění indexu minimální hodnoty)\n",
    "- np.argmax (zjištění indexu maximální hodnoty)\n",
    "- np.median (medián)\n",
    "- np.percentile (výpočet pořadové statistiky prvků)."
   ]
  },
  {
   "cell_type": "markdown",
   "metadata": {},
   "source": [
    "## Vysílání (Broadcasting)\n",
    "\n",
    "Vysílání je dalším způsobem použití ufuncs, ale na polích různých velikostí. Broadcasting není nic jiného než soubor pravidel, která NumPy aplikuje pro provádění ufuncs na polích různých velikostí.\n",
    "\n",
    "Například, když uvažujme sčítání dvou polí o velikosti 3x3 a 1x3, tuto operaci si můžeme představit tak, že menší pole je roztaženo nebo vysíláno tak, aby odpovídalo velikosti většího pole. "
   ]
  },
  {
   "cell_type": "code",
   "execution_count": 27,
   "metadata": {},
   "outputs": [
    {
     "name": "stdout",
     "output_type": "stream",
     "text": [
      "matrix A:\n",
      " [[1. 1. 1.]\n",
      " [1. 1. 1.]\n",
      " [1. 1. 1.]]\n",
      "vector b: [1 2 3]\n"
     ]
    }
   ],
   "source": [
    "A = np.ones((3, 3))\n",
    "b = np.array([1, 2, 3])\n",
    " \n",
    "print('matrix A:\\n', A)\n",
    "print('vector b:', b)"
   ]
  },
  {
   "cell_type": "code",
   "execution_count": 28,
   "metadata": {},
   "outputs": [
    {
     "data": {
      "text/plain": [
       "array([[2., 3., 4.],\n",
       "       [2., 3., 4.],\n",
       "       [2., 3., 4.]])"
      ]
     },
     "execution_count": 28,
     "metadata": {},
     "output_type": "execute_result"
    }
   ],
   "source": [
    "A + b"
   ]
  },
  {
   "cell_type": "markdown",
   "metadata": {},
   "source": [
    "Pokud je třeba vysílat obě pole, měli bychom to dělat opatrně."
   ]
  },
  {
   "cell_type": "code",
   "execution_count": 34,
   "metadata": {},
   "outputs": [
    {
     "name": "stdout",
     "output_type": "stream",
     "text": [
      "[[0]\n",
      " [1]\n",
      " [2]]\n"
     ]
    }
   ],
   "source": [
    "c = np.arange(3).reshape(3, 1) # column vector\n",
    "print(c)"
   ]
  },
  {
   "cell_type": "code",
   "execution_count": 35,
   "metadata": {},
   "outputs": [
    {
     "data": {
      "text/plain": [
       "array([[1, 2, 3],\n",
       "       [2, 3, 4],\n",
       "       [3, 4, 5]])"
      ]
     },
     "execution_count": 35,
     "metadata": {},
     "output_type": "execute_result"
    }
   ],
   "source": [
    "b + c"
   ]
  },
  {
   "cell_type": "markdown",
   "metadata": {},
   "source": [
    "Můžeme pole roztáhnout pouze v případě, že hodnota jedné z jeho dimenzí je 1. Pro jinou hodnotu dimenze než 1 to udělat nemůžeme. Pokud se tvary obou polí neshodují anebo některý rozměr žádného z nich není 1, měla by být vyvolána chyba."
   ]
  },
  {
   "cell_type": "code",
   "execution_count": 36,
   "metadata": {},
   "outputs": [
    {
     "ename": "ValueError",
     "evalue": "operands could not be broadcast together with shapes (4,) (2,2) ",
     "output_type": "error",
     "traceback": [
      "\u001b[1;31m---------------------------------------------------------------------------\u001b[0m",
      "\u001b[1;31mValueError\u001b[0m                                Traceback (most recent call last)",
      "Cell \u001b[1;32mIn[36], line 3\u001b[0m\n\u001b[0;32m      1\u001b[0m m \u001b[39m=\u001b[39m np\u001b[39m.\u001b[39marange(\u001b[39m4\u001b[39m)\n\u001b[0;32m      2\u001b[0m n \u001b[39m=\u001b[39m np\u001b[39m.\u001b[39mones((\u001b[39m2\u001b[39m, \u001b[39m2\u001b[39m))\n\u001b[1;32m----> 3\u001b[0m m \u001b[39m+\u001b[39;49m n\n",
      "\u001b[1;31mValueError\u001b[0m: operands could not be broadcast together with shapes (4,) (2,2) "
     ]
    }
   ],
   "source": [
    "m = np.arange(4)\n",
    "n = np.ones((2, 2))\n",
    "m + n"
   ]
  },
  {
   "cell_type": "markdown",
   "metadata": {},
   "source": [
    "## Maskování (Masking)\n",
    "\n",
    "Maskování je metoda běžně používaná při zpracování dat. Umožňuje nám vybírat, počítat, upravovat nebo manipulovat s hodnotami v poli na základě určitých kritérií, přičemž tato kritéria jsou zadávána pomocí operátorů porovnávání a logických operátorů.\n",
    "\n",
    "Předpokládejme, že máme dvourozměrné pole o velikosti (3, 4), z něhož bychom chtěli získat podmnožinu, jejíž hodnoty jsou menší než pět."
   ]
  },
  {
   "cell_type": "code",
   "execution_count": 38,
   "metadata": {},
   "outputs": [
    {
     "name": "stdout",
     "output_type": "stream",
     "text": [
      "[5 8 9 5 0 0 1 7 6 9]\n",
      "[0 0 1]\n"
     ]
    }
   ],
   "source": [
    "np.random.seed(1)\n",
    "x = np.random.randint(10, size = (10,))\n",
    "print(x)\n",
    "print(x[x<5])"
   ]
  },
  {
   "cell_type": "markdown",
   "metadata": {},
   "source": [
    "Použili jsme operátor porovnání `<` na poli `x`. Výsledkem je pole logických operátorů: `True`, pokud je prvek na příslušné pozici menší než `5`, jinak `False`."
   ]
  },
  {
   "cell_type": "code",
   "execution_count": 39,
   "metadata": {},
   "outputs": [
    {
     "data": {
      "text/plain": [
       "[array([False, False, False, False,  True,  True,  True, False, False,\n",
       "        False])]"
      ]
     },
     "execution_count": 39,
     "metadata": {},
     "output_type": "execute_result"
    }
   ],
   "source": [
    "[x<5]"
   ]
  },
  {
   "cell_type": "markdown",
   "metadata": {},
   "source": [
    "Když zadáme `x[x<5]`, výše vrácené logické hodnoty se aplikují na původní pole `x` a vrátí se prvky pole, jejichž indexy jsou `True`, tedy hodnoty menší než `5`. Podobným způsobem můžeme použít všechny porovnávací nebo logické operátory, které jsou v Pythonu k dispozici. Můžeme dokonce kombinovat dvě operace, třeba `x[(x>3) & (x<6)]`, abychom získali hodnoty mezi `3` a `6`, akorát výsledek operací by měl být logický."
   ]
  },
  {
   "cell_type": "code",
   "execution_count": 40,
   "metadata": {},
   "outputs": [
    {
     "data": {
      "text/plain": [
       "array([5, 5])"
      ]
     },
     "execution_count": 40,
     "metadata": {},
     "output_type": "execute_result"
    }
   ],
   "source": [
    "x[(x>3) & (x<6)]"
   ]
  },
  {
   "cell_type": "markdown",
   "metadata": {},
   "source": [
    "Poznámka: klíčové slovo `and` a `or` provádí jednu logickou operaci na celém poli, zatímco bitové `&` a `|` provádí více logických operací na prvcích pole. Při maskování vždy používejte bitové operátory."
   ]
  },
  {
   "cell_type": "markdown",
   "metadata": {},
   "source": [
    "## Elegantní indexování\n",
    "\n",
    "Elegantní indexování je podobné normálnímu indexování, jak již víme. Jediným rozdílem je, že zde předáváme pole indexů. Tato pokročilá verze indexování umožňuje rychlý přístup a/nebo modifikaci složitých podmnožin pole.\n",
    "\n",
    "Předpokládejme, že chceme přistupovat k prvkům na indexech `1`, `3` a `7` pole, stará metoda by byla [x[1], x[3], x[7]]. To můžeme zjednodušit pomocí elegantního indexování."
   ]
  },
  {
   "cell_type": "code",
   "execution_count": 41,
   "metadata": {},
   "outputs": [
    {
     "name": "stdout",
     "output_type": "stream",
     "text": [
      "[18  5 18 11 10 14 18  4  9 17]\n",
      "[ 5 11  4]\n"
     ]
    }
   ],
   "source": [
    "x = np.random.randint(20, size=10)\n",
    "print(x)\n",
    "print(x[[1, 3, 7]])"
   ]
  },
  {
   "cell_type": "markdown",
   "metadata": {},
   "source": [
    "Stejně tak můžeme elegantně indexovat dvourozměrné pole. Podívejme se na ekvivalentní operace s `x[0, 2]`, `x[2, 1]` a `x[3, 3]` při elegantním indexování."
   ]
  },
  {
   "cell_type": "code",
   "execution_count": 48,
   "metadata": {},
   "outputs": [
    {
     "name": "stdout",
     "output_type": "stream",
     "text": [
      "[[44 47 64 67 67]\n",
      " [ 9 83 21 36 87]\n",
      " [70 88 88 12 58]\n",
      " [65 39 87 46 88]\n",
      " [81 37 25 77 72]]\n",
      "[64 88 46]\n"
     ]
    }
   ],
   "source": [
    "np.random.seed(0)\n",
    "x = np.random.randint(100, size=(5, 5))\n",
    "print(x)\n",
    "row = [0, 2, 3]\n",
    "col = [2, 1, 3]\n",
    "print(x[row, col])"
   ]
  },
  {
   "cell_type": "markdown",
   "metadata": {},
   "source": [
    "To lze dále zjednodušit, pokud je hodnota řádku nebo sloupce konstantní. Například chceme získat hodnoty s indexy x[2, 1], x[2, 3] a x[2, 4]."
   ]
  },
  {
   "cell_type": "code",
   "execution_count": 49,
   "metadata": {},
   "outputs": [
    {
     "name": "stdout",
     "output_type": "stream",
     "text": [
      "[88 12 58]\n"
     ]
    }
   ],
   "source": [
    "print(x[2, [1, 3, 4]])"
   ]
  },
  {
   "cell_type": "markdown",
   "metadata": {},
   "source": [
    "Pokud chceme získat dílčí matici z matice, můžeme použít funkci ix_():"
   ]
  },
  {
   "cell_type": "code",
   "execution_count": 50,
   "metadata": {},
   "outputs": [
    {
     "data": {
      "text/plain": [
       "array([[65, 87],\n",
       "       [ 9, 21],\n",
       "       [44, 64]])"
      ]
     },
     "execution_count": 50,
     "metadata": {},
     "output_type": "execute_result"
    }
   ],
   "source": [
    "x[np.ix_([3, 1, 0], [0, 2])]"
   ]
  },
  {
   "cell_type": "markdown",
   "metadata": {},
   "source": [
    "## Třídění pole\n",
    "\n",
    "Funkce `np.sort` je efektivnější třídicí funkce než vestavěná třídicí funkce jazyka Python. Kromě toho si `np.sort` uvědomuje dimenze. Podívejme se na několik variant třídicí funkce NumPy."
   ]
  },
  {
   "cell_type": "code",
   "execution_count": 52,
   "metadata": {},
   "outputs": [
    {
     "name": "stdout",
     "output_type": "stream",
     "text": [
      "[88 49 29 19 19 14 39 32 65  9]\n",
      "[ 9 14 19 19 29 32 39 49 65 88]\n"
     ]
    }
   ],
   "source": [
    "x = np.random.randint(100, size=10)\n",
    "print(x)\n",
    "print(np.sort(x))"
   ]
  },
  {
   "cell_type": "markdown",
   "metadata": {},
   "source": [
    "Někdy potřebujeme indexy setříděného pole:"
   ]
  },
  {
   "cell_type": "code",
   "execution_count": 53,
   "metadata": {},
   "outputs": [
    {
     "name": "stdout",
     "output_type": "stream",
     "text": [
      "[9 5 3 4 2 7 6 1 8 0]\n"
     ]
    }
   ],
   "source": [
    "print(np.argsort(x))"
   ]
  },
  {
   "cell_type": "markdown",
   "metadata": {},
   "source": [
    "Když použijeme metodu `sort()`, změní se hodnota samotného pole `x`. To znamená, že původní pořadí pole `x` se ztratí. Říká se tomu třídění na místě (in-place):"
   ]
  },
  {
   "cell_type": "code",
   "execution_count": 55,
   "metadata": {},
   "outputs": [
    {
     "name": "stdout",
     "output_type": "stream",
     "text": [
      "[ 9 14 19 19 29 32 39 49 65 88]\n"
     ]
    }
   ],
   "source": [
    "x.sort()\n",
    "print(x)"
   ]
  },
  {
   "cell_type": "markdown",
   "metadata": {},
   "source": [
    "## Lineární algebra\n",
    "\n",
    "NumPy nabízí rozsáhlou sadu funkcí lineární algebry pro provádění maticových operací, řešení lineárních soustav rovnic, výpočty vlastních hodnot a další.\n",
    "\n",
    "### Skalární součin\n",
    "Pomocí skalárního součinu a eklidovské normy můžeme najít úhel mezi dvěma vektory:"
   ]
  },
  {
   "cell_type": "code",
   "execution_count": 5,
   "metadata": {},
   "outputs": [
    {
     "data": {
      "text/plain": [
       "-0.07283570407292297"
      ]
     },
     "execution_count": 5,
     "metadata": {},
     "output_type": "execute_result"
    }
   ],
   "source": [
    "x = np.array([3, 4, 1])\n",
    "y = np.array([2, -3, 4])\n",
    "np.dot(x, y) / (np.linalg.norm(x) * np.linalg.norm(y))"
   ]
  },
  {
   "cell_type": "markdown",
   "metadata": {},
   "source": [
    "### Násobení matic"
   ]
  },
  {
   "cell_type": "code",
   "execution_count": 8,
   "metadata": {},
   "outputs": [
    {
     "name": "stdout",
     "output_type": "stream",
     "text": [
      "[[1. 1. 1.]\n",
      " [2. 2. 2.]\n",
      " [3. 3. 3.]]\n"
     ]
    }
   ],
   "source": [
    "A = np.diag([1, 2, 3])\n",
    "B = np.ones((3, 3))\n",
    "\n",
    "C = np.matmul(A, B)\n",
    "print(C)"
   ]
  },
  {
   "cell_type": "markdown",
   "metadata": {},
   "source": [
    "### Transpozice"
   ]
  },
  {
   "cell_type": "code",
   "execution_count": 9,
   "metadata": {},
   "outputs": [
    {
     "data": {
      "text/plain": [
       "array([[1., 2., 3.],\n",
       "       [1., 2., 3.],\n",
       "       [1., 2., 3.]])"
      ]
     },
     "execution_count": 9,
     "metadata": {},
     "output_type": "execute_result"
    }
   ],
   "source": [
    "C.T"
   ]
  },
  {
   "cell_type": "code",
   "execution_count": 10,
   "metadata": {},
   "outputs": [
    {
     "data": {
      "text/plain": [
       "array([[1., 2., 3.],\n",
       "       [1., 2., 3.],\n",
       "       [1., 2., 3.]])"
      ]
     },
     "execution_count": 10,
     "metadata": {},
     "output_type": "execute_result"
    }
   ],
   "source": [
    "C.transpose()"
   ]
  },
  {
   "cell_type": "markdown",
   "metadata": {},
   "source": [
    "### Determinant"
   ]
  },
  {
   "cell_type": "code",
   "execution_count": 11,
   "metadata": {},
   "outputs": [
    {
     "data": {
      "text/plain": [
       "33.000000000000014"
      ]
     },
     "execution_count": 11,
     "metadata": {},
     "output_type": "execute_result"
    }
   ],
   "source": [
    "A = np.array([[1, 2, 4], [-2, 0, 3], [5, -1, -2]])\n",
    "np.linalg.det(A)"
   ]
  },
  {
   "cell_type": "markdown",
   "metadata": {},
   "source": [
    "### Inverze"
   ]
  },
  {
   "cell_type": "code",
   "execution_count": 12,
   "metadata": {},
   "outputs": [
    {
     "data": {
      "text/plain": [
       "array([[ 0.09090909,  0.        ,  0.18181818],\n",
       "       [ 0.33333333, -0.66666667, -0.33333333],\n",
       "       [ 0.06060606,  0.33333333,  0.12121212]])"
      ]
     },
     "execution_count": 12,
     "metadata": {},
     "output_type": "execute_result"
    }
   ],
   "source": [
    "np.linalg.inv(A)"
   ]
  },
  {
   "cell_type": "markdown",
   "metadata": {},
   "source": [
    "### Soustava lineárních rovnic"
   ]
  },
  {
   "cell_type": "code",
   "execution_count": 13,
   "metadata": {},
   "outputs": [
    {
     "name": "stdout",
     "output_type": "stream",
     "text": [
      "[-1.  2.  1.]\n"
     ]
    }
   ],
   "source": [
    "A = np.array([[2, 1, 1], [6, 2, 1], [-2, 2, 1]])\n",
    "b = np.array([1, -1, 7])\n",
    "x = np.linalg.solve(A, b)\n",
    "print(x)"
   ]
  },
  {
   "cell_type": "markdown",
   "metadata": {},
   "source": [
    "### Vlastní čísla a vektory"
   ]
  },
  {
   "cell_type": "code",
   "execution_count": 17,
   "metadata": {},
   "outputs": [
    {
     "name": "stdout",
     "output_type": "stream",
     "text": [
      "Eigenvalues: lam [4.92379129+0.j         0.03810435+1.27409273j 0.03810435-1.27409273j]\n",
      "Eigenvectors: v [[-0.38942041+0.j          0.05658558+0.19868558j  0.05658558-0.19868558j]\n",
      " [-0.88565017+0.j          0.44644255-0.3177051j   0.44644255+0.3177051j ]\n",
      " [-0.25293382+0.j         -0.8106014 +0.j         -0.8106014 -0.j        ]]\n"
     ]
    }
   ],
   "source": [
    "lam, v = np.linalg.eig(A)\n",
    "print('Eigenvalues: lam', lam)\n",
    "print('Eigenvectors: v', v)"
   ]
  }
 ],
 "metadata": {
  "kernelspec": {
   "display_name": "base",
   "language": "python",
   "name": "python3"
  },
  "language_info": {
   "codemirror_mode": {
    "name": "ipython",
    "version": 3
   },
   "file_extension": ".py",
   "mimetype": "text/x-python",
   "name": "python",
   "nbconvert_exporter": "python",
   "pygments_lexer": "ipython3",
   "version": "3.10.9"
  },
  "orig_nbformat": 4
 },
 "nbformat": 4,
 "nbformat_minor": 2
}
