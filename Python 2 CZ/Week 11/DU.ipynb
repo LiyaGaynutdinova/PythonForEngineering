{
 "cells": [
  {
   "cell_type": "markdown",
   "metadata": {},
   "source": [
    "# Domácí úkol: různé architektůry neuronové sítě\n",
    "\n",
    "Zkuste si v příkladu cvičení pohrát s množstvím a šířkou skrytých vrstev. Celkový počet parametrů sítě můžete vypočítat pomocí tohoto fragmentu kódu."
   ]
  },
  {
   "cell_type": "code",
   "execution_count": null,
   "metadata": {
    "vscode": {
     "languageId": "plaintext"
    }
   },
   "outputs": [],
   "source": [
    "total_params = sum(p.numel() for p in net.parameters())\n",
    "total_params"
   ]
  },
  {
   "cell_type": "markdown",
   "metadata": {},
   "source": [
    "Jaké je minimální množství parametrů, které můžete použít, aby přesnost ověřovací datové sady byla stále nad 90%?"
   ]
  }
 ],
 "metadata": {
  "language_info": {
   "name": "python"
  },
  "orig_nbformat": 4
 },
 "nbformat": 4,
 "nbformat_minor": 2
}
