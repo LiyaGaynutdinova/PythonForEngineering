{
  "cells": [
    {
      "cell_type": "markdown",
      "metadata": {
        "colab_type": "text",
        "id": "view-in-github"
      },
      "source": [
        "<a href=\"https://colab.research.google.com/github/LiyaGaynutdinova/mlp_MNIST/blob/main/MLP_mnist.ipynb\" target=\"_parent\"><img src=\"https://colab.research.google.com/assets/colab-badge.svg\" alt=\"Open In Colab\"/></a>"
      ]
    },
    {
      "cell_type": "markdown",
      "metadata": {
        "id": "Fxxyof29zcW8"
      },
      "source": [
        "# Týden 11. Vícevrstvý perceptron v Pytorch.\n",
        "Dneska ukážeme jak vytvářet, trénovat a používat neuronových sítí v PyTorchu. Sestavíme jednoduchou plně propojenou neuronovou síť, která klasifikuje ručně psané číslice na známé datové sadě MNIST."
      ]
    },
    {
      "cell_type": "markdown",
      "metadata": {
        "id": "MLmdERsz2vFi"
      },
      "source": [
        "## Instalace\n",
        "\n",
        "Pokud používáte tento notebook na platformě Colab, nemusíte instalovat žádné knihovny. Pokud pracujete na lokálním počítači, máte doinstalot tyto knihovny:\n",
        "\n",
        "* Pytorch\n",
        "* Torchvision\n",
        "\n",
        "Je doporučeno, nikoli však nutné, aby váš systém Windows byl vybaven grafickým procesorem NVIDIA, abyste mohli plně využít podporu CUDA v PyTorch. Umožňuje to mnohem rychlejší výpočty.\n",
        "\n",
        "### Pip pro systémy s grafickým procesorem NVIDIA\n",
        "\n",
        "pip3 install torch torchvision torchaudio --index-url https://download.pytorch.org/whl/cu117\n",
        "\n",
        "### Pip pro ostatní systémy\n",
        "\n",
        "pip3 install torch torchvision torchaudio\n",
        "\n",
        "### Conda pro systémy s grafickým procesorem NVIDIA\n",
        "\n",
        "conda install pytorch torchvision torchaudio pytorch-cuda=11.7 -c pytorch -c nvidia\n",
        "\n",
        "### Conda pro ostatní systémy\n",
        "\n",
        "conda install pytorch torchvision torchaudio cpuonly -c pytorch"
      ]
    },
    {
      "cell_type": "markdown",
      "metadata": {
        "id": "GlyJhtiW2uEs"
      },
      "source": [
        "## Tensory\n",
        "\n",
        "Než se pustíme do budování neuronových sítí, měli bychom si vysvětlit základní stavební kámen Pytorchovy knihovny – objekt `Tensor`. Torch Tensor je základní datová struktura knihovny PyTorch, určená pro vícerozměrná pole a matice a také pro uchovávání skalárních hodnot. Tenzory v PyTorch jsou optimalizovány pro úlohy hlubokého učení akcelerované GPU a obsahují rozsáhlou sadu funkcí a operací určených pro tyto úlohy. Jak uvidíte, inicializace tenzoru, manipulace a matematické operace vypadají podobně jako v Numpy, i když s některými důležitými rozdíly:\n",
        "\n",
        "1. **Akcelerace GPU**: Tenzory Torch lze snadno přesunout na GPU, zatímco přesun pole NumPy na GPU vyžaduje další knihovny, jako je CuPy.\n",
        "  \n",
        "2. **Automatická diferenciace**: Tenzory PyTorch jsou vybaveny vestavěnou funkcí automatické diferenciace prostřednictvím balíčku `autograd`, která je nezbytná pro trénování neuronových sítí. Pole NumPy tuto funkci nativně nepodporují.\n",
        "\n",
        "3. **Ekosystém knihoven**: Torch Tensors jsou přizpůsobeny pro úlohy hlubokého učení a bezproblémově se integrují s moduly neuronových sítí PyTorch. Pole NumPy jsou vhodnější pro úlohy, které nezahrnují neuronové sítě, a jsou součástí širšího ekosystému vědeckých výpočtů.\n",
        "\n",
        "4. **Správa paměti**: Tensory Torch jsou optimalizovány pro výkon při rozsáhlých výpočtech a mohou v takových scénářích efektivněji nakládat s pamětí. Pole NumPy jsou obecně přímočařejší a může být snazší s nimi pracovat při výpočtech malého rozsahu.\n",
        "\n",
        "5. **Interoperabilita**: PyTorch poskytuje nástroje pro převod mezi Torch Tensors a NumPy poli, ale jejich společné použití v rámci jednoho projektu může vyžadovat pečlivé zacházení, aby byla zajištěna kompatibilita.\n",
        "\n",
        "Nyní můžeme importovat potřebné knihovny:"
      ]
    },
    {
      "cell_type": "code",
      "execution_count": null,
      "metadata": {
        "id": "hkUTgEBjQ6l5"
      },
      "outputs": [],
      "source": [
        "import numpy as np\n",
        "import torch"
      ]
    },
    {
      "cell_type": "markdown",
      "metadata": {},
      "source": [
        "### Inicializace\n",
        "\n",
        "Tenzory lze inicializovat různými způsoby:\n",
        "\n",
        "Ze seznamu:"
      ]
    },
    {
      "cell_type": "code",
      "execution_count": null,
      "metadata": {},
      "outputs": [],
      "source": [
        "a = torch.tensor([1, 2, 3])\n",
        "print(a)"
      ]
    },
    {
      "cell_type": "markdown",
      "metadata": {},
      "source": [
        "Nuly a jedničky:"
      ]
    },
    {
      "cell_type": "code",
      "execution_count": null,
      "metadata": {},
      "outputs": [],
      "source": [
        "b = torch.zeros(3, 3)\n",
        "c = torch.ones(2, 2)\n",
        "print(b, c)"
      ]
    },
    {
      "cell_type": "markdown",
      "metadata": {},
      "source": [
        "Náhodné hodnoty:"
      ]
    },
    {
      "cell_type": "code",
      "execution_count": null,
      "metadata": {},
      "outputs": [],
      "source": [
        "d = torch.rand(2, 2)\n",
        "print(d)"
      ]
    },
    {
      "cell_type": "markdown",
      "metadata": {},
      "source": [
        "### Základní operace\n",
        "\n",
        "Sčítání:"
      ]
    },
    {
      "cell_type": "code",
      "execution_count": null,
      "metadata": {},
      "outputs": [],
      "source": [
        "e = a + a\n",
        "print(e)"
      ]
    },
    {
      "cell_type": "markdown",
      "metadata": {},
      "source": [
        "Násobení:"
      ]
    },
    {
      "cell_type": "code",
      "execution_count": null,
      "metadata": {},
      "outputs": [],
      "source": [
        "f = a * 3\n",
        "print(f)"
      ]
    },
    {
      "cell_type": "markdown",
      "metadata": {},
      "source": [
        "### Přetváření\n",
        "Tenzory můžete přetvářet pomocí metody `.view()`:"
      ]
    },
    {
      "cell_type": "code",
      "execution_count": null,
      "metadata": {},
      "outputs": [],
      "source": [
        "g = torch.rand(4, 4)\n",
        "h = g.view(16)\n",
        "i = g.view(-1, 8)  # The size -1 is inferred from other dimensions\n",
        "print(g, h, i)"
      ]
    },
    {
      "cell_type": "markdown",
      "metadata": {},
      "source": [
        "### Automatická diferenciace\n",
        "\n",
        "Vytvoření tenzoru se sledováním gradientu:"
      ]
    },
    {
      "cell_type": "code",
      "execution_count": null,
      "metadata": {},
      "outputs": [],
      "source": [
        "x = torch.ones(3, 3, requires_grad=True)"
      ]
    },
    {
      "cell_type": "markdown",
      "metadata": {},
      "source": [
        "Provádění operací:"
      ]
    },
    {
      "cell_type": "code",
      "execution_count": null,
      "metadata": {},
      "outputs": [],
      "source": [
        "y = x + 5\n",
        "z = y * y * 2\n",
        "out = z.mean()"
      ]
    },
    {
      "cell_type": "markdown",
      "metadata": {},
      "source": [
        "Výpočet gradientů:"
      ]
    },
    {
      "cell_type": "code",
      "execution_count": null,
      "metadata": {},
      "outputs": [],
      "source": [
        "out.backward()"
      ]
    },
    {
      "cell_type": "markdown",
      "metadata": {},
      "source": [
        "Zkontrolujme gradienty:"
      ]
    },
    {
      "cell_type": "code",
      "execution_count": null,
      "metadata": {},
      "outputs": [],
      "source": [
        "print(x.grad)"
      ]
    },
    {
      "cell_type": "markdown",
      "metadata": {},
      "source": [
        "### Jednoduchý příklad\n",
        "Definujme jednoduchou funkci a najděme její derivaci pomocí `autograd`:"
      ]
    },
    {
      "cell_type": "code",
      "execution_count": null,
      "metadata": {},
      "outputs": [],
      "source": [
        "# Define a tensor\n",
        "x = torch.tensor(2.0, requires_grad=True)\n",
        "\n",
        "# Define a function f(x) = x^2\n",
        "y = x ** 2\n",
        "\n",
        "# Compute the gradient\n",
        "y.backward()\n",
        "\n",
        "# Print the gradient\n",
        "print(x.grad)  # Should print tensor(4.0)\n"
      ]
    },
    {
      "cell_type": "markdown",
      "metadata": {},
      "source": [
        "## Neuronové sítě\n",
        "\n",
        "Nejdříve naimportujeme dálší knihovny:"
      ]
    },
    {
      "cell_type": "code",
      "execution_count": null,
      "metadata": {},
      "outputs": [],
      "source": [
        "import torch.nn as nn\n",
        "import torch.optim as optim\n",
        "from torch.utils.data import DataLoader\n",
        "from torchvision import datasets, transforms\n",
        "import matplotlib.pyplot as plt"
      ]
    },
    {
      "cell_type": "markdown",
      "metadata": {
        "id": "Nm3J4UU84lz-"
      },
      "source": [
        "Pokud je váš počítač vybaven grafickým procesorem, můžete maticové operace počítat mnohem rychleji. Akceleraci GPU můžete v Colabu povolit výběrem možnosti Runtime -> Change runtime type -> Výběrem možnosti \"GPU\" z rozbalovací nabídky."
      ]
    },
    {
      "cell_type": "code",
      "execution_count": null,
      "metadata": {
        "id": "TF3VG4XOSJ3I"
      },
      "outputs": [],
      "source": [
        "device = torch.device('cuda' if torch.cuda.is_available() else 'cpu')\n",
        "print(f\"Using {device} device\")"
      ]
    },
    {
      "cell_type": "markdown",
      "metadata": {
        "id": "uXrj-g1z5fXX"
      },
      "source": [
        "Nyní můžeme vybudovat novou síť. Za tímto účelem vytvoříme novou instanci třídy nn.Module z knihovny torch."
      ]
    },
    {
      "cell_type": "code",
      "execution_count": null,
      "metadata": {
        "id": "S8jhg2UtSZDu"
      },
      "outputs": [],
      "source": [
        "class Net(nn.Module):\n",
        "    def __init__(self):\n",
        "        super(Net, self).__init__()\n",
        "        self.fc1 = nn.Linear(784, 64)\n",
        "        self.fc2 = nn.Linear(64, 64)\n",
        "        self.fc3 = nn.Linear(64, 10)\n",
        "\n",
        "    def forward(self, x):\n",
        "        x = x.view(-1, 784)\n",
        "        x = torch.relu(self.fc1(x))\n",
        "        x = torch.relu(self.fc2(x))\n",
        "        y = self.fc3(x)\n",
        "        return torch.softmax(y, dim=1), x\n",
        "\n",
        "net = Net().to(device)\n",
        "print(net)"
      ]
    },
    {
      "cell_type": "markdown",
      "metadata": {
        "id": "8ZpdnQKg6x9A"
      },
      "source": [
        "Nyní je třeba připravit naši datovou sadu. Černobílé obrázky datové sady MNIST lze stáhnout pomocí knihovny torch. Poté je musíme převést na tenzor - speciální pole, které může uchovávat závislosti na jiných tenzorech, takže gradienty lze vypočítat automaticky."
      ]
    },
    {
      "cell_type": "code",
      "execution_count": null,
      "metadata": {
        "id": "9iu_2ZvbS-CG"
      },
      "outputs": [],
      "source": [
        "batch_size = 64\n",
        "\n",
        "transform = transforms.Compose([\n",
        "    transforms.ToTensor(),\n",
        "    transforms.Normalize((0.1307,), (0.3081,))\n",
        "])\n",
        "\n",
        "train_dataset = datasets.MNIST('data', train=True, download=True, transform=transform)\n",
        "test_dataset = datasets.MNIST('data', train=False, download=True, transform=transform)\n",
        "\n",
        "train_loader = DataLoader(train_dataset, batch_size=batch_size, shuffle=True)\n",
        "test_loader = DataLoader(test_dataset, batch_size=batch_size, shuffle=True)"
      ]
    },
    {
      "cell_type": "markdown",
      "metadata": {
        "id": "FQF1cwHZ9Koq"
      },
      "source": [
        "Můžeme se podívat na obrázky z datové sady:"
      ]
    },
    {
      "cell_type": "code",
      "execution_count": null,
      "metadata": {
        "id": "fd9aj9vh8Cu4"
      },
      "outputs": [],
      "source": [
        "plt.imshow(train_dataset.__getitem__(1)[0].squeeze(), cmap='gray_r')"
      ]
    },
    {
      "cell_type": "markdown",
      "metadata": {
        "id": "jahc17Nf79qJ"
      },
      "source": [
        "Nyní musíme definovat účelovou funkci: zde chceme minimalizovat počet nesprávně označených číslic. O zbytek se pak postará optimalizátor."
      ]
    },
    {
      "cell_type": "code",
      "execution_count": null,
      "metadata": {
        "id": "03JN7Y_3TGEV"
      },
      "outputs": [],
      "source": [
        "criterion = nn.CrossEntropyLoss()\n",
        "optimizer = optim.Adam(net.parameters(), lr=0.001)"
      ]
    },
    {
      "cell_type": "markdown",
      "metadata": {
        "id": "ybk3Ccgb9yoT"
      },
      "source": [
        "Při trénování musíme po každé epoše zkontrolovat chybu v testovací množině dat, abychom se ujistili, že model dobře zobecňuje."
      ]
    },
    {
      "cell_type": "code",
      "execution_count": null,
      "metadata": {
        "id": "QJD-_o6cUfRt"
      },
      "outputs": [],
      "source": [
        "epochs = 10\n",
        "\n",
        "train_losses = []\n",
        "test_losses = []\n",
        "\n",
        "for epoch in range(epochs):\n",
        "    net.train()\n",
        "    running_loss = 0.0\n",
        "    correct = 0\n",
        "    total = 0\n",
        "\n",
        "    for i, data in enumerate(train_loader, 0):\n",
        "        inputs, labels = data\n",
        "        inputs, labels = inputs.to(device), labels.to(device)\n",
        "\n",
        "        optimizer.zero_grad()\n",
        "\n",
        "        outputs, _ = net(inputs)\n",
        "        loss = criterion(outputs, labels)\n",
        "        loss.backward()\n",
        "        optimizer.step()\n",
        "\n",
        "        running_loss += loss.item()\n",
        "        _, predicted = torch.max(outputs.data, 1)\n",
        "        total += labels.size(0)\n",
        "        correct += (predicted == labels).sum().item()\n",
        "\n",
        "        if i % 100 == 99:\n",
        "            print(f\"Epoch: {epoch + 1}, Batch: {i + 1}, Training Loss: {running_loss / 100:.3f}, Training Accuracy: {100 * correct / total:.2f}%\")\n",
        "            train_losses.append(running_loss / 100)\n",
        "            running_loss = 0.0\n",
        "            correct = 0\n",
        "            total = 0\n",
        "\n",
        "    net.eval()\n",
        "    correct = 0\n",
        "    total = 0\n",
        "    test_loss = 0.0\n",
        "\n",
        "    with torch.no_grad():\n",
        "        for data in test_loader:\n",
        "            inputs, labels = data\n",
        "            inputs, labels = inputs.to(device), labels.to(device)\n",
        "\n",
        "            outputs, _ = net(inputs)\n",
        "            loss = criterion(outputs, labels)\n",
        "            test_loss += loss.item()\n",
        "\n",
        "            _, predicted = torch.max(outputs.data, 1)\n",
        "            total += labels.size(0)\n",
        "            correct += (predicted == labels).sum().item()\n",
        "\n",
        "        test_loss /= len(test_loader)\n",
        "        test_losses.append(test_loss)\n",
        "        print(f\"Epoch: {epoch + 1}, Test Loss: {test_loss:.3f}, Test Accuracy: {100 * correct / total:.2f}%\")\n"
      ]
    },
    {
      "cell_type": "markdown",
      "metadata": {
        "id": "L0rBDOuA-G97"
      },
      "source": [
        "Nyní můžeme vykreslit průběh tréninku."
      ]
    },
    {
      "cell_type": "code",
      "execution_count": null,
      "metadata": {
        "id": "9NXIjXnEWORQ"
      },
      "outputs": [],
      "source": [
        "plt.plot(np.arange(1.1, 10.1, 0.1),train_losses, label='Training loss')\n",
        "plt.plot(np.arange(1., 11.),test_losses, label='Test loss')\n",
        "plt.legend()\n",
        "plt.show()"
      ]
    },
    {
      "cell_type": "markdown",
      "metadata": {
        "id": "Ct3NQeN4-U1q"
      },
      "source": [
        "Pravděpodobně vidíte, že dosažená přesnost je velmi vysoká, ale ne stoprocentní. Podívejme se na obrázky, které byly označeny nesprávně."
      ]
    },
    {
      "cell_type": "code",
      "execution_count": null,
      "metadata": {
        "id": "WWs3N6r2YGCz"
      },
      "outputs": [],
      "source": [
        "net.eval()\n",
        "correct = 0\n",
        "total = 0\n",
        "test_loss = 0.0\n",
        "\n",
        "incorrect_images = []\n",
        "incorrect_labels = []\n",
        "incorrect_preds = []\n",
        "\n",
        "with torch.no_grad():\n",
        "    for data in test_loader:\n",
        "        inputs, labels = data\n",
        "        inputs, labels = inputs.to(device), labels.to(device)\n",
        "\n",
        "        outputs, _ = net(inputs)\n",
        "        loss = criterion(outputs, labels)\n",
        "        test_loss += loss.item()\n",
        "\n",
        "        _, predicted = torch.max(outputs.data, 1)\n",
        "        total += labels.size(0)\n",
        "        correct += (predicted == labels).sum().item()\n",
        "\n",
        "        for i in range(len(labels)):\n",
        "            if predicted[i] != labels[i]:\n",
        "                incorrect_images.append(inputs[i].cpu())\n",
        "                incorrect_labels.append(labels[i].cpu())\n",
        "                incorrect_preds.append(predicted[i].cpu())\n",
        "\n",
        "test_loss /= len(test_loader)\n",
        "print(f\"Test Loss: {test_loss:.3f}, Test Accuracy: {100 * correct / total:.2f}%\")\n",
        "\n",
        "fig = plt.figure(figsize=(11, 11))\n",
        "\n",
        "for i in range(25):\n",
        "    ax = fig.add_subplot(5, 5, i + 1)\n",
        "    ax.axis('off')\n",
        "    ax.set_title(f\"True: {incorrect_labels[i]}, Predicted: {incorrect_preds[i]}\")\n",
        "    ax.imshow(incorrect_images[i].squeeze(), cmap='gray_r')\n",
        "\n",
        "plt.show()"
      ]
    },
    {
      "cell_type": "markdown",
      "metadata": {
        "id": "uWapcmCJ_XWB"
      },
      "source": [
        "Jak toho model dosahuje? Vidíme, že naše poslední skrytá vrstva je vektor o 64 rozměrech. Před přiřazením pravděpodobnosti, že číslice patří do určité třídy, sítě tento 64rozměrný prostor rozdělí, takže obrázky stejné číslice se seskupí. To se bude špatně vizualizovat, proto můžeme použít [t-distributed stochastic neighbor embedding](https://en.wikipedia.org/wiki/T-distributed_stochastic_neighbor_embedding) k promítnutí těchto shluků do 2d prostoru."
      ]
    },
    {
      "cell_type": "code",
      "execution_count": null,
      "metadata": {
        "id": "CZDikIruZPaS"
      },
      "outputs": [],
      "source": [
        "from sklearn.manifold import TSNE\n",
        "\n",
        "net.eval()\n",
        "hidden_activations = []\n",
        "labels = []\n",
        "\n",
        "with torch.no_grad():\n",
        "    for data in test_loader:\n",
        "        inputs, batch_labels = data\n",
        "        inputs = inputs.to(device)\n",
        "\n",
        "        # Get the activations of the last hidden layer\n",
        "        _, h = net(inputs)\n",
        "        hidden_activations.append(h.cpu().detach().numpy())\n",
        "        labels.append(batch_labels)\n",
        "\n",
        "hidden_activations = np.concatenate(hidden_activations)\n",
        "labels = np.concatenate(labels)\n",
        "\n",
        "# Use t-SNE to reduce the dimensionality of the activations to 2D\n",
        "tsne = TSNE(n_components=2, perplexity=30, learning_rate=200, n_iter=1000, random_state=42)\n",
        "tsne_embeddings = tsne.fit_transform(hidden_activations)\n",
        "\n",
        "# Plot the t-SNE embeddings colored by their true labels\n",
        "fig, ax = plt.subplots(figsize=(8, 8))\n",
        "scatter = ax.scatter(tsne_embeddings[:, 0], tsne_embeddings[:, 1], c=labels, cmap='tab10')\n",
        "legend = ax.legend(*scatter.legend_elements(), title=\"Labels\")\n",
        "ax.add_artist(legend)\n",
        "plt.show()"
      ]
    }
  ],
  "metadata": {
    "colab": {
      "authorship_tag": "ABX9TyNkbtzf/7WTkcwJX7eQutSV",
      "include_colab_link": true,
      "provenance": []
    },
    "kernelspec": {
      "display_name": "Python 3",
      "name": "python3"
    },
    "language_info": {
      "name": "python"
    }
  },
  "nbformat": 4,
  "nbformat_minor": 0
}
