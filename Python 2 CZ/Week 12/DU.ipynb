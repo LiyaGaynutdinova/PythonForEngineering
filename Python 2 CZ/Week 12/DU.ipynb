{
 "cells": [
  {
   "cell_type": "markdown",
   "metadata": {},
   "source": [
    "# Domácí úkol: komprese dat a uspořádání latentního prostoru pomocí VAE\n",
    "\n",
    "Chceme-li vizualizovat latentní prostor trénovaného variačního automatického kodéru, můžete vykreslit zakódované reprezentace testovacích obrázků v bodovém grafu. \n",
    "\n",
    "1. Spusťte testovací data přes enkodérovou část vašeho modelu VAE, abyste získali latentní proměnné $\\mu$ a $\\gamma$. Pro účely vizualizace možná stačí vzít jenom $\\mu$, protože je středem Gaussovy distribuce představující latentní prostor.\n",
    "2. Pokud má váš latentní prostor více než dva rozměry, budete muset provést redukci rozměrů (např. pomocí PCA nebo t-SNE), abyste jej převedli na 2D nebo 3D pro vizualizaci.\n",
    "3. Vykreslete 2D nebo 3D bodový graf latentních proměnných, případně obarvte body na základě jejich skutečných značek."
   ]
  }
 ],
 "metadata": {
  "language_info": {
   "name": "python"
  },
  "orig_nbformat": 4
 },
 "nbformat": 4,
 "nbformat_minor": 2
}
