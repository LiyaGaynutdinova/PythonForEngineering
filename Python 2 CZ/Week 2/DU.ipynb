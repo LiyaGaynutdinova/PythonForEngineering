{
 "cells": [
  {
   "cell_type": "markdown",
   "metadata": {},
   "source": [
    "# Domácí úkol.\n",
    "Pokračujte v práci s datasety poskytnutnými na cvičení.\n",
    "\n",
    "## 1. Čištění a předběžné zpracování dat:\n",
    "\n",
    "1. **Přejmenujte sloupce** tak, aby byly konzistentní mezi oběma datovými sadami. Například přejmenujte \"bed\" na \"bedrooms\" nebo naopak.\n",
    "   \n",
    "2. **Zpracujte chybějící hodnoty**: Identifikujte sloupce v obou datových souborech, které mají chybějící hodnoty, a vymyslete strategii, jak se s nimi vypořádat (např. doplnit průměr, modus, odstranit řádky atd.).\n",
    "\n",
    "3. **Konverze typu dat**: Zajistěte, aby sloupce jako \"price\", \"bed\", \"bath\" atd. měly mezi oběma datovými soubory konzistentní datové typy.\n",
    "\n",
    "### 2. Základní průzkum dat:\n",
    "\n",
    "4. Vypočítejte **průměrnou cenu** domu pro každé město a stát.\n",
    "\n",
    "5. Určete **nejčastější velikost domu** (`house_size` nebo `livingArea`) v souboru dat.\n",
    "\n",
    "6. Zjistěte, zda existuje nějaká korelace mezi cenou a rokem výstavby.\n",
    "\n",
    "### 3. Filtrování dat:\n",
    "\n",
    "7. Identifikujte domy, které mají bazén (`pool`) a jsou ve vlastnictví banky (`is_bankOwned`).\n",
    "\n",
    "8. Vyhledejte domy, které jsou určeny k dražbě (`is_forAuction`) a byly postaveny po roce 2000.\n",
    "\n",
    "### 4. Slučování dat:\n",
    "\n",
    "9. Sloučte obě datové sady na základě společných sloupců, jako jsou 'city', 'state' a 'price'. Vyřešte případné nesrovnalosti, které mohou vzniknout.\n",
    "\n",
    "10. Po sloučení identifikujte všechny duplicitní výpisy a vyřaďte je.\n",
    "\n",
    "### 5. Agregace:\n",
    "\n",
    "11. Seskupte podle `state` a vypočítejte celkový počet uvedených domů, průměrnou cenu a průměrnou velikost domu.\n",
    "\n",
    "12. Pro každé město určete procento domů, které jsou ve vlastnictví bank.\n",
    "\n",
    "### 6. Manipulace s daty:\n",
    "\n",
    "13. Převeďte sloupce jako `sold_date` a `datePostedString` do formátu pandas datetime.\n",
    "\n",
    "14. Vypočítejte průměrnou dobu, po kterou je dům na trhu, než je prodán.\n",
    "\n",
    "15. Určete měsíc a rok s nejvyšším počtem prodaných nebo uvedených domů."
   ]
  }
 ],
 "metadata": {
  "language_info": {
   "name": "python"
  },
  "orig_nbformat": 4
 },
 "nbformat": 4,
 "nbformat_minor": 2
}
