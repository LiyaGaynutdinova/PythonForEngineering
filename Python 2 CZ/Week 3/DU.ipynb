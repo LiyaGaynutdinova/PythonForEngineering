{
 "cells": [
  {
   "cell_type": "markdown",
   "metadata": {},
   "source": [
    "### 7. **Vizualizace (bonus, pokud použijete knihovnu pro vykreslování, jako je Matplotlib)**:\n",
    "\n",
    "16. Vykreslete sloupcový graf zobrazující počet domů uvedených/prodaných v jednotlivých státech.\n",
    "\n",
    "17. Pomocí grafu rozptylu vizualizujte vztah mezi `Cenou` a `Velikostí domu` nebo `Obytnou plochou`.\n",
    "\n",
    "18. Vytvořte histogram rozložení cen domů.\n",
    "\n",
    "19. Vykreslete trend průměrných cen domů v čase (měsíc/rok).\n",
    "\n",
    "Tato cvičení pokrývají různé aspekty práce s daty pomocí programu pandas: čištění, slučování, agregaci a vizualizaci. Poskytují studentům ucelený pohled na celý proces zpracování dat."
   ]
  }
 ],
 "metadata": {
  "language_info": {
   "name": "python"
  },
  "orig_nbformat": 4
 },
 "nbformat": 4,
 "nbformat_minor": 2
}
