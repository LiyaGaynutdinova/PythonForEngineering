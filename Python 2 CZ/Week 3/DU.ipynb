{
 "cells": [
  {
   "cell_type": "markdown",
   "metadata": {},
   "source": [
    "# Domácí úkol: vizualizace dat.\n",
    "\n",
    "Na základě poskytnutého souboru dat o nemovitostech z minulého cvičení (RealEstate_California) proveďte následující úlohy vizualizace:\n",
    "\n",
    "1. Rozdělení cen:\n",
    "    - Pro pochopení rozložení cen nemovitostí nakreslete histogram sloupce `cena`. \n",
    "    - Bonus: Vyzkoušejte různé počty binů a najděte ten, který nejlépe reprezentuje data.\n",
    "\n",
    "2. Průměrná cena podle roku výstavby:\n",
    "    - Seskupte data podle sloupce `rok výstavby` a zjistěte průměrnou cenu pro každý rok. \n",
    "    - Vykreslete spojnicový graf, který znázorní, jak se průměrná cena v průběhu let měnila.\n",
    "\n",
    "3. Nemovitosti s bazény vs. bez bazénů:\n",
    "    - Na základě sloupce `bazén` vytvořte sloupcový graf zobrazující počet nemovitostí s bazény oproti nemovitostem bez bazénů podle státu.\n",
    "\n",
    "4. Korelace mezi obytnou plochou a cenou:\n",
    "    - Vytvořte rozptylový graf, který znázorní korelaci mezi hodnotami `obytná plocha` a `cena`.\n",
    "    - Bonus: Přidejte nadpis a popisky os, aby byl graf informativnější.\n",
    "\n",
    "5. Rozdělení typů nemovitostí:\n",
    "    - Pomocí sloupce `homeType` vytvořte koláčový graf zobrazující rozložení různých typů nemovitostí v souboru dat."
   ]
  },
  {
   "cell_type": "code",
   "execution_count": null,
   "metadata": {},
   "outputs": [],
   "source": []
  }
 ],
 "metadata": {
  "language_info": {
   "name": "python"
  },
  "orig_nbformat": 4
 },
 "nbformat": 4,
 "nbformat_minor": 2
}
