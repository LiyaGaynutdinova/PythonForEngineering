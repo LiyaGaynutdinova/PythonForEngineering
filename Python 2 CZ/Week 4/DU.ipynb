{
 "cells": [
  {
   "cell_type": "markdown",
   "metadata": {},
   "source": [
    "# Domácí úkol: Evropská hlavní města.\n",
    "\n",
    "Na základě poskytnutého souboru dat z cvičení (NUTS) proveďte následující úlohy:\n",
    "\n",
    "1. Vzdalenost hlavních měst od centra zemí:\n",
    "    - Spočitejte vzdálenost evropských měst od centroidů přislušných statů. Která hlavní mesta jsou nejblíže/nejdále středu své země?\n",
    "\n",
    "2. Střed Evropy:\n",
    "    - Najděte centroid evropských zemí.\n",
    "    - Centroid které země je nejblíž k centroidu celé Evropy?\n",
    "    - Které město je nejblíže centroidu Evropy?"
   ]
  }
 ],
 "metadata": {
  "language_info": {
   "name": "python"
  },
  "orig_nbformat": 4
 },
 "nbformat": 4,
 "nbformat_minor": 2
}
