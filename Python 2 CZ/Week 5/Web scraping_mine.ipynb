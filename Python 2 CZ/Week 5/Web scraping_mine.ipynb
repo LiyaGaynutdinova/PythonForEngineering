{
 "cells": [
  {
   "cell_type": "markdown",
   "metadata": {},
   "source": [
    "# Týden 5. Škrabání webu \n",
    "Škrabání webu (web scraping) je proces shromažďování a analyzování nezpracovaných dat z webu a komunita Pythonu vytvořila několik velmi výkonných nástrojů pro škrabání webu.\n",
    "\n",
    "V tomto cvičení se dozvíte, jak:\n",
    "\n",
    "- analyzovat data z webových stránek pomocí řetězcových metod a regulárních výrazů,\n",
    "- parsovat data webových stránek pomocí parseru HTML,\n",
    "- pracovat s formuláři a dalšími součástmi webových stránek.\n",
    "\n",
    "**Pozor**: Některé webové stránky výslovně zakazují uživatelům shromažďovat jejich data pomocí automatizovaných nástrojů, jako jsou ty, které vytvoříte v tomto cvičení. Mnoho opakovaných požadavků na server webové stránky může zpomalovat webovou stránku pro ostatní uživatele a potenciálně přetěžovat server tak, že webová stránka přestane odpovídat úplně. Před použitím svých dovedností v jazyce Python pro scraping webu byste měli vždy zkontrolovat zásady přijatelného používání cílové webové stránky a zjistit, zda přístup k webové stránce pomocí automatizovaných nástrojů není porušením jejích podmínek používání. Z právního hlediska je scraping webu proti vůli webové stránky šedou zónou, a následující techniky mohou být **nezákonné**, pokud jsou použity na webových stránkách, které web scraping zakazují.\n",
    "\n",
    "## Balíček urllib\n",
    "\n",
    "Jedním z užitečných balíčků pro web scraping, který najdete ve standardní knihovně Pythonu, je urllib, který obsahuje nástroje pro práci s adresami URL. "
   ]
  },
  {
   "cell_type": "code",
   "execution_count": 1,
   "metadata": {},
   "outputs": [],
   "source": [
    "from urllib.request import urlopen"
   ]
  },
  {
   "cell_type": "markdown",
   "metadata": {},
   "source": [
    "Otevřeme webovou stránku katedry matematiky:"
   ]
  },
  {
   "cell_type": "code",
   "execution_count": 2,
   "metadata": {},
   "outputs": [],
   "source": [
    "url = \"https://mat.fsv.cvut.cz\""
   ]
  },
  {
   "cell_type": "markdown",
   "metadata": {},
   "source": [
    "Chcete-li otevřít webovou stránku, předejte url příkazu `urlopen()`:"
   ]
  },
  {
   "cell_type": "code",
   "execution_count": 3,
   "metadata": {},
   "outputs": [
    {
     "data": {
      "text/plain": [
       "<http.client.HTTPResponse at 0x2689765ab90>"
      ]
     },
     "execution_count": 3,
     "metadata": {},
     "output_type": "execute_result"
    }
   ],
   "source": [
    "page = urlopen(url)\n",
    "page"
   ]
  },
  {
   "cell_type": "markdown",
   "metadata": {},
   "source": [
    "Chcete-li ze stránky získat kód HTML, použijte nejprve metodu `.read()` objektu HTTPResponse, která vrací posloupnost bajtů. Poté použijte metodu `.decode()` k dekódování bajtů do řetězce pomocí UTF-8:"
   ]
  },
  {
   "cell_type": "code",
   "execution_count": 4,
   "metadata": {},
   "outputs": [
    {
     "name": "stdout",
     "output_type": "stream",
     "text": [
      "<!DOCTYPE html>\n",
      "\n",
      "<html>\n",
      "<head>\n",
      "  <meta charset=\"utf-8\">\n",
      "  <meta name=\"viewport\" content=\"width=device-width, initial-scale=1\">\n",
      "  <meta http-equiv=\"cache-control\" content=\"no-cache, must-revalidate\">\n",
      "  <meta http-equiv=\"pragma\" content=\"no-cache\" />\n",
      "  <link rel=\"icon\" type=\"image/png\" href=\"znak_icon.png\">\n",
      "  <link rel=\"shortcut icon\" href=\"znak_icon.ico\">\n",
      "  <link rel=\"stylesheet\" href=\"2012a.css\" type=\"text/css\" media=\"screen\">\n",
      "  <link rel=\"stylesheet\" href=\"2012pr.css\" type=\"text/css\" media=\"print\">\n",
      "  <title>ČVUT FSv - K101 Matematika</title>\n",
      "</head>\n",
      "\n",
      "<body>\n",
      "<map name=\"logo\">\n",
      "  <area href=\"https://mat.fsv.cvut.cz/\" alt=\"K101\" title=\"K101\" shape=\"rect\" coords=\"4,4,116,43\">\n",
      "  <area href=\"https://portal.fsv.cvut.cz/katedry/K101\" alt=\"K101\" title=\"K101\" shape=\"rect\" coords=\"4,45,116,55\">\n",
      "  <area href=\"https://portal.fsv.cvut.cz/\" alt=\"FSv\" title=\"FSv\" shape=\"rect\" coords=\"14,56,106,66\">\n",
      "  <area href=\"https://portal.cvut.cz/\" alt=\"ČVUT\" title=\"ČVUT\" shape=\"rect\" coords=\"26,67,95,77\">\n",
      "</map>\n",
      "<center>\n",
      "<!--\n",
      "  <div style=\"background-color: lightyellow; border: 4px solid orange; width: 742px;\">\n",
      "    <h4 style=\"margin: 0; padding: 1em; text-align: center;\">\n",
      "       V pátek 11. 8. 2023 budou stránky nedostupné.\n",
      "    </h4>\n",
      "  </div>\n",
      "-->\n",
      "<p style=\"margin: 3px; padding: 3px;\"><tt><span id=\"datum\"><script type=\"text/javascript\" src=\"js/dnesje_datum.js\"></script></span><span id=\"cas\"><script type=\"text/javascript\" src=\"js/dnesje_cas.js\"></script></span><br />\n",
      "    <span id=\"udalost\"><script type=\"text/javascript\" src=\"js/dnesje_akce.js\"></script></span></tt></p>\n",
      "<table class=\"podklad\" cellpadding=\"0\" cellspacing=\"0\">\n",
      "  <tr><td colspan=\"2\">\n",
      "    <table class=\"tab_zahlavi\">\n",
      "      <tr>\n",
      "        <td><a href=\"https://portal.cvut.cz/\" title=\"ČVUT\"><img src=\"logo_cvut_white.png\" width=\"106\" height=\"81\" border=\"0\" alt=\"ČVUT\" title=\"ČVUT\"></a></td>\n",
      "        <td width=\"250\"><strong><a href=\"https://portal.cvut.cz/\" title=\"CVUT\">ČVUT</a> \n",
      "          <a href=\"https://portal.fsv.cvut.cz\" title=\"fakulta\">FSv</a></strong>\n",
      "            - <strong><a href=\"https://portal.fsv.cvut.cz/katedry/K101\" title=\"stranky udrzovane fakultou\">\n",
      "            Katedra matematiky</a></strong>,<br />\n",
      "            Thákurova 7, 166 29 Praha 6<br />\n",
      "            Tel.: <strong>+420 / 224 354 390</strong><br />&nbsp;</td>\n",
      "        <td class=\"popisek\">\n",
      "          <a href=\"owa\" title=\"školní pošta\"><img src=\"Mail2.png\" width=\"72\" height=\"48\" border=\"0\" alt=\"Webové rozhraní poštovního serveru\" title=\"Webové rozhraní poštovního serveru\" style=\"margin: 0px 3px 6px 3px;\"><br />\n",
      "            školní pošta<br /></a></td>\n",
      "        <td width=\"60\" class=\"popisek\"><strong>\n",
      "          <a href=\"https://portal.fsv.cvut.cz/rozvrh\">fakultní<br />rozvrh</a>\n",
      "<!--\n",
      "          <br /><br />\n",
      "          <a href=\"https://stavnet.fsv.cvut.cz/rozvrhy.php\">ROZVRH<br />KOS</a>\n",
      "-->\n",
      "        </strong></td>\n",
      "        <td class=\"popisek\">\n",
      "           <a href=\"eng/\"><img src=\"uk_small.png\" width=\"50\" height=\"25\" border=\"0\" alt=\"english version\" style=\"margin: 3px 3px 12px 3px;\"><br />\n",
      "            English<br />version</a></td>\n",
      "<!--            \n",
      "        <TD><a href=\"Links/Default.html\"><img border=\"0\" src=\"i_wh.png\" width=\"18\" height=\"48\" alt=\"INTERNET-odkazy\"></a></TD>\n",
      "-->\n",
      "        <td><img alt=\"Logo\" src=\"znak_small.png\" width=\"120\" height=\"81\" border=\"0\" usemap=\"#logo\" align=\"right\"></td>\n",
      "      </tr>\n",
      "    </table>\n",
      "  </td></tr>\n",
      "  <tr valign=\"top\">\n",
      "    <td valign=\"top\">\n",
      "      <table class=\"tab_odkazy\" cellpadding=\"0\" cellspacing=\"0\">\n",
      "<!--\n",
      "        <tr><th colspan=\"3\"><a href=\"images/pf_2023_cz.html\" target=\"_blank\"><img src=\"images/pf_2023_k-101_cz_small.png\" border=\"0\" alt=\"PF 2023\" width=\"300\" height=\"212\"></a></th></tr>\n",
      "        <tr><th colspan=\"2\">Aktuálně</th></tr>\n",
      "        <tr style=\"background-color: #ccffcc;\"><td colspan=\"2\" class=\"odkazy_novinky\" style=\"text-align: center; padding: 0.75em 0.25em 1em 0.25em;\">\n",
      "            <strong><a href=\"volitelne/sem_stm/\">Seminář o&nbsp;stochastických metodách&nbsp;</a></strong><br />\n",
      "            čtvrtek <strong>30. března </strong>2017<br />\n",
      "            od <strong>13</strong> hodin v&nbsp;místnosti <strong>B-365</strong></td></tr>\n",
      "        <tr><td class=\"odkazy_blank\">&nbsp;</td><td class=\"odkazy_blank\"><font color=\"#dd0000\"><strong>&nbsp;</strong></font></td></tr>\n",
      "-->\n",
      "        <tr><th colspan=\"3\">Pro budoucí studenty</th></tr>\n",
      "        <tr><td class=\"odkazy_blank\">&bull;</td><td colspan=\"2\"><a href=\"entrance\"><strong>Přijímací zkoušky</strong></a></td></tr>\n",
      "        <tr><td class=\"odkazy_blank\">&nbsp;</td><td class=\"odkazy_blank\">&rsaquo;</td><td><a href=\"entrance\">Všeobecné informace</a></td></tr>\n",
      "        <tr><td class=\"odkazy_blank\">&nbsp;</td><td class=\"odkazy_blank\">&rsaquo;</td><td><a href=\"entrance/ukazka\">Ukázka přijímacího testu</a></td></tr>\n",
      "        <tr><td class=\"odkazy_blank\">&nbsp;</td><td class=\"odkazy_blank\">&rsaquo;</td><td><a href=\"entrance/online\">Online testy</a></td></tr>\n",
      "        <tr><td class=\"odkazy_blank\">&bull;</td><td colspan=\"2\"><a href=\"kurzy/priprava\"><strong>Pomoc s&nbsp;přípravou ke studiu na VŠ</strong></a></td></tr>\n",
      "        <tr><td class=\"odkazy_blank\">&nbsp;</td><td class=\"odkazy_blank\">&rsaquo;</td><td><a href=\"kurzy/jaro\">Jarní přípravné kurzy</a></td></tr>\n",
      "        <tr><td class=\"odkazy_blank\">&nbsp;</td><td class=\"odkazy_blank\">&rsaquo;</td><td><a href=\"kurzy/nanecisto\">Přijímací zkoušky „NANEČISTO“</a></td></tr>\n",
      "        <tr><td class=\"odkazy_blank\">&nbsp;</td><td class=\"odkazy_blank\">&rsaquo;</td><td><a href=\"kurzy/podzim\"><strong>Vstupní vyrovnávací kurz M a&nbsp;DG</strong></a></td></tr>\n",
      "        <tr><td class=\"odkazy_blank\">&nbsp;</td><td class=\"odkazy_blank\" colspan=\"2\">&nbsp;</td></tr>\n",
      "        <tr><th colspan=\"3\">Pro studenty</th></tr>\n",
      "        <tr><td class=\"odkazy_blank\">&bull;</td><td colspan=\"2\"><a href=\"/vyuka/podminky/\"><strong style=\"color: #dd0000;\">Podmínky vedoucího katedry</strong></a></td></tr>\n",
      "        <tr><td class=\"odkazy_blank\">&bull;</td><td colspan=\"2\"><a href=\"http://amos.fsv.cvut.cz/\">AMOS (přihlašování na on-line testování)</a></td></tr>\n",
      "        <tr><td class=\"odkazy_blank\">&bull;</td><td colspan=\"2\"><a href=\"/vyuka/bakalari/ls/\" style=\"color: #dd0000;\"><strong>Bakalářské studium</strong></a></td></tr>\n",
      "        <tr><td class=\"odkazy_blank\">&bull;</td><td colspan=\"2\"><a href=\"/vyuka/magistri/\"><strong>Magisterské studium</strong></a></td></tr>\n",
      "        <tr><td class=\"odkazy_blank\">&bull;</td><td colspan=\"2\"><a href=\"doktorandi/\">Doktorské studium</a></td></tr>\n",
      "        <tr><td class=\"odkazy_blank\">&bull;</td><td colspan=\"2\"><a href=\"/vyuka/pomoc\"><strong>Pomoc při studiu matematiky</strong></a></td></tr>\n",
      "        <tr><td class=\"odkazy_blank\">&nbsp;</td><td class=\"odkazy_blank\">&rsaquo;</td><td><a href=\"/vyuka/CAU/\">Centrum Aktivního Učení</a></td></tr>\n",
      "        <tr><td class=\"odkazy_blank\">&nbsp;</td><td class=\"odkazy_blank\" colspan=\"2\">&nbsp;</td></tr>\n",
      "        <tr><th colspan=\"3\">Pro studenty se zájmem o&nbsp;matematiku</th></tr>\n",
      "<!--\n",
      "        <tr><td class=\"odkazy_blank\">&bull;</td><td colspan=\"2\"><a href=\"/vyuka/bakalari/ls/MA2SI/lepsi\">Modely výuky Matematiky 2</a></td></tr>\n",
      "-->\n",
      "        <tr><td class=\"odkazy_blank\">&bull;</td><td colspan=\"2\"><a href=\"/vyuka/bakalari/ls/MA2SI/lepsi\">Modely výuky Matematiky 2</a></td></tr>\n",
      "        <tr><td class=\"odkazy_blank\">&bull;</td><td colspan=\"2\"><a href=\"u3v/\"><strong>Univerzita třetího věku</strong></a></td></tr>\n",
      "        <tr><td class=\"odkazy_blank\">&bull;</td><td colspan=\"2\"><a href=\"/vyuka/volitelne/\"><strong>Volitelné předměty</strong></a></td></tr>\n",
      "        <tr><td class=\"odkazy_blank\">&bull;</td><td colspan=\"2\"><a href=\"BAKALARI/bapdip.html\"><strong style=\"color: green;\">Témata bakalářských a&nbsp;diplomových prací</strong></a></td></tr>\n",
      "        <tr><td class=\"odkazy_blank\">&bull;</td><td colspan=\"2\"><a href=\"rektorys/soutez/\"><strong>Rektorysova soutěž</strong></a></td></tr>\n",
      "        <tr><td class=\"odkazy_blank\">&bull;</td><td colspan=\"2\"><a href=\"vycichlo/\"><strong>Vyčichlova soutěž</strong></a></td></tr>\n",
      "        <tr><td class=\"odkazy_blank\">&nbsp;</td><td class=\"odkazy_blank\" colspan=\"2\">&nbsp;</td></tr>\n",
      "        <tr><th colspan=\"3\">Věda a výzkum</th></tr>\n",
      "        <tr><td class=\"odkazy_blank\">&bull;</td><td colspan=\"2\"><a href=\"https://ds.fsv.cvut.cz/21/\"><strong>Dynamical Systems, Prague 2021</strong></a></td></tr>\n",
      "        <tr><td class=\"odkazy_blank\">&bull;</td><td colspan=\"2\"><a href=\"https://iscami.fsv.cvut.cz/\">ISCAMI 2019</a></td></tr>\n",
      "        <tr><td class=\"odkazy_blank\">&bull;</td><td colspan=\"2\"><a href=\"caas/\"><strong>CAAS &ndash; Theory</strong></a></td></tr>\n",
      "        <tr><td class=\"odkazy_blank\">&bull;</td><td colspan=\"2\"><a href=\"http://ds15.fsv.cvut.cz/\">Dynamical Systems, Prague 2015</a></td></tr>\n",
      "        <tr><td class=\"odkazy_blank\">&bull;</td><td colspan=\"2\"><a href=\"http://raex2014.fsv.cvut.cz/\">XXXVIII. Summer Symposium in&nbsp;Real&nbsp;Analysis</a></td></tr>\n",
      "        <tr><td class=\"odkazy_blank\">&bull;</td><td colspan=\"2\"><a href=\"http://pim13.fsv.cvut.cz/\">Preconditioning of Iterative Methods</a></td></tr>\n",
      "        <tr><td class=\"odkazy_blank\">&bull;</td><td colspan=\"2\"><a href=\"./dds/\">Seminář Discrete Dynamical Systems</a></td></tr>\n",
      "        <tr><td class=\"odkazy_blank\">&bull;</td><td colspan=\"2\"><a href=\"http://ds.fsv.cvut.cz/\">Dynamical Systems (2005)</a></td></tr>\n",
      "        <tr><td class=\"odkazy_blank\" colspan=\"3\"><hr style=\"background-color: Black; border: none; height: 1px; margin: 4px;\"></td></tr>\n",
      "        <tr><td class=\"odkazy_blank\">&bull;</td><td colspan=\"2\"><a href=\"seminar\">Seminář katedry matematiky</a></td></tr>\n",
      "        <tr><td class=\"odkazy_blank\">&bull;</td><td colspan=\"2\"><a href=\"seminar/sem_stm/\">Seminář o&nbsp;stochastických metodách</a></td></tr>\n",
      "        <tr><td class=\"odkazy_blank\">&bull;</td><td colspan=\"2\"><a href=\"./ops/2022.html\"><strong>The 5<sup>th</sup> Ostrava-Prague Seminar in Topology &amp; Dynamics</strong></a></td></tr>\n",
      "        <tr><td class=\"odkazy_blank\">&bull;</td><td colspan=\"2\"><a href=\"./ops/2019.html\">The 4<sup>th</sup> Ostrava-Prague Seminar in Topology &amp; Dynamics</a></td></tr>\n",
      "        <tr><td class=\"odkazy_blank\">&bull;</td><td colspan=\"2\"><a href=\"./ops/2018.html\">The 2<sup>nd</sup> Ostrava-Prague Seminar in Topology &amp; Dynamics</a></td></tr>\n",
      "        <tr><td class=\"odkazy_blank\" colspan=\"3\"><hr style=\"background-color: Black; border: none; height: 1px; margin: 4px;\"></td></tr>\n",
      "        <tr><td class=\"odkazy_blank\">&bull;</td><td colspan=\"2\"><a href=\"./nales/preprints/\">Preprinty</a></td></tr>\n",
      "<!--\n",
      "        <tr><td class=\"odkazy_blank\">&bull;</td><td><a href=\"http://vvvs.cvut.cz/publ/index.php\" target=\"_blank\">Publikace členů katedry</a></td></tr>\n",
      "-->\n",
      "        <tr><td class=\"odkazy_blank\">&bull;</td><td colspan=\"2\"><a href=\"https://v3s.cvut.cz/anonymous/searching\">Publikace a&nbsp;granty</a></td></tr>\n",
      "        <tr><td class=\"odkazy_blank\">&nbsp;</td><td class=\"odkazy_blank\" colspan=\"2\">&nbsp;</td></tr>\n",
      "        <tr><th colspan=\"3\">Různé</th></tr>\n",
      "        <tr><td class=\"odkazy_blank\">&bull;</td><td colspan=\"2\"><a href=\"navody/\">Návody (MS&nbsp;Teams)</a></td></tr>\n",
      "<!--\n",
      "        <tr><td class=\"odkazy_blank\">&bull;</td><td colspan=\"2\"><a href=\"kalendar/\">Kalendář akcí na školní rok 2019/20</a></td></tr>\n",
      "-->\n",
      "        <tr><td class=\"odkazy_blank\">&bull;</td><td colspan=\"2\"><a href=\"http://alenasolcova.cz/sedma/\">SEminář Dějiny Matematiky a Astronomie</a></td></tr>\n",
      "        <tr><td class=\"odkazy_blank\">&bull;</td><td colspan=\"2\"><a href=\"rektorys/\">Posluchárna prof. Rektoryse</a></td></tr>\n",
      "        <tr><td class=\"odkazy_blank\">&bull;</td><td colspan=\"2\"><a href=\"skripta/\">Skripta &amp; texty</a></td></tr>\n",
      "        <tr><td class=\"odkazy_blank\">&bull;</td><td colspan=\"2\"><a href=\"numerika_zal/\">Numerika online</a></td></tr>\n",
      "        <tr><td class=\"odkazy_blank\">&nbsp;</td><td class=\"odkazy_blank\" colspan=\"2\">&nbsp;</td></tr>\n",
      "        <tr><th colspan=\"3\">INTERNET <font size=\"-1\" color=\"#999999\"><i>(stále ve vývoji)</i></font></th></tr>\n",
      "        <tr><td class=\"odkazy_blank\">&bull;</td><td colspan=\"2\"><a href=\"Links/\">Odkazy</a></td></tr>\n",
      "        <tr><td class=\"odkazy_blank\">&bull;</td><td colspan=\"2\"><a href=\"https://stavnet.fsv.cvut.cz/\">Fakultní intranet</a></td></tr>\n",
      "        <tr><td class=\"odkazy_blank\">&bull;</td><td colspan=\"2\"><a href=\"https://usermap.cvut.cz/search/\">Usermap</a></td></tr>\n",
      "        <tr><td class=\"odkazy_blank\">&nbsp;</td><td class=\"odkazy_blank\" colspan=\"2\">&nbsp;</td></tr>\n",
      "      </table>\n",
      "    </td>\n",
      "    <td valign=\"top\">\n",
      "      <table class=\"tab_staff\" cellpadding=\"0\" cellspacing=\"0\">\n",
      "        <tr><th colspan=\"3\">Zaměstnanci katedry</th></tr>\n",
      "\n",
      "        <tr><td class=\"staff_blank\" height=\"4\" colspan=\"3\"></td></tr>\n",
      "        <tr><td class=\"staff_popis\">Vedoucí katedry</td><td class=\"staff_blank\">&bull;</td><td><a href=\"zamestnanci/detail/1731803\">doc. RNDr. Jozef Bobok, CSc.</a></td></tr>\n",
      "        <tr><td class=\"staff_blank\" height=\"8\" colspan=\"3\"></td></tr>\n",
      "        <tr><td colspan=\"3\" height=\"1\" class=\"staff_white\"></td></tr>\n",
      "\n",
      "        <tr><td class=\"staff_blank\" height=\"4\" colspan=\"3\"></td></tr>\n",
      "        <tr><td rowspan=\"3\" class=\"staff_popis\">Zástupci<br />vedoucího katedry</td><td class=\"staff_blank\">&bull;</td><td><a href=\"zamestnanci/detail/1717481\">doc. RNDr. Jan Chleboun, CSc.</a></td></tr>\n",
      "        <tr> <td class=\"staff_blank\">&bull;</td><td><a href=\"zamestnanci/detail/1297836\">doc. RNDr. Pavel Krejčí, CSc.</a></td></tr>\n",
      "        <tr> <td class=\"staff_blank\">&bull;</td><td><a href=\"zamestnanci/detail/1728439\">RNDr. Iva Malechová, CSc.</a></td></tr>\n",
      "        <tr><td class=\"staff_blank\" height=\"8\" colspan=\"3\"></td></tr>\n",
      "        <tr><td colspan=\"3\" height=\"1\" class=\"staff_white\"></td></tr>\n",
      "<!--\n",
      "        <tr><td class=\"staff_blank\" height=\"4\" colspan=\"3\"></td></tr>\n",
      "        <tr><td class=\"staff_popis\">Tajemnice katedry</td><td class=\"staff_blank\">&bull;</td><td><a href=\"zamestnanci/detail/1728439\">RNDr. Iva Malechová, CSc.</a></td></tr>\n",
      "        <tr><td class=\"staff_blank\" height=\"8\" colspan=\"3\"></td></tr>\n",
      "        <tr><td colspan=\"3\" height=\"1\" class=\"staff_white\"></td></tr>\n",
      "-->\n",
      "        <tr><td class=\"staff_blank\" height=\"4\" colspan=\"3\"></td></tr>\n",
      "        <tr><td class=\"staff_popis\">Sekretářka katedry</td><td class=\"staff_blank\">&bull;</td><td><a href=\"zamestnanci/detail/1375439\">Lucie Hančlová</a></td></tr>\n",
      "        <tr><td class=\"staff_blank\" height=\"8\" colspan=\"3\"></td></tr>\n",
      "        <tr><td colspan=\"3\" height=\"6\" class=\"staff_white\"></td></tr>\n",
      "\n",
      "        <tr><td class=\"staff_blank\" height=\"4\" colspan=\"3\"></td></tr>\n",
      "        <tr><td class=\"staff_popis\" rowspan=\"1\">Profesoři</td><td class=\"staff_blank\">&bull;</td><td><a href=\"zamestnanci/detail/1731794\">prof. RNDr. Daniela Jarušková, CSc.</a></td></tr>\n",
      "        <tr><td class=\"staff_blank\" height=\"8\" colspan=\"3\"></td></tr>\n",
      "        <tr><td colspan=\"3\" height=\"1\" class=\"staff_white\"></td></tr>\n",
      "\n",
      "        <tr><td class=\"staff_blank\" height=\"4\" colspan=\"3\"></td></tr>\n",
      "        <tr><td class=\"staff_popis\" rowspan=\"1\">Hostující profesoři</td><td class=\"staff_blank\">&bull;</td><td><a href=\"zamestnanci/detail/1219592\">MSc. Mohammad Al Janaideh, Ph.D.</a></td></tr>\n",
      "        <tr><td class=\"staff_blank\" height=\"8\" colspan=\"3\"></td></tr>\n",
      "        <tr><td colspan=\"3\" height=\"1\" class=\"staff_white\"></td></tr>\n",
      "\n",
      "        <tr><td class=\"staff_blank\" height=\"4\" colspan=\"3\"></td></tr>\n",
      "        <tr><td class=\"staff_popis\" rowspan=\"9\">Docenti</td><td class=\"staff_blank\">&bull;</td><td><a href=\"zamestnanci/detail/1731803\">doc. RNDr. Jozef Bobok, CSc.</a></td></tr>\n",
      "        <tr> <td class=\"staff_blank\">&bull;</td><td><a href=\"zamestnanci/detail/1717481\">doc. RNDr. Jan Chleboun, CSc.</a></td></tr>\n",
      "        <tr> <td class=\"staff_blank\">&bull;</td><td><a href=\"zamestnanci/detail/1297836\">doc. RNDr. Pavel Krejčí, CSc.</a></td></tr>\n",
      "        <tr> <td class=\"staff_blank\">&bull;</td><td><a href=\"zamestnanci/detail/1731785\">doc. RNDr. Petr Kučera, CSc.</a></td></tr>\n",
      "        <tr> <td class=\"staff_blank\">&bull;</td><td><a href=\"zamestnanci/detail/1727192\">doc. RNDr. Petr Mayer, Dr.</a></td></tr>\n",
      "        <tr> <td class=\"staff_blank\">&bull;</td><td><a href=\"zamestnanci/detail/1731779\">doc. RNDr. Aleš Nekvinda, CSc.</a></td></tr>\n",
      "        <tr> <td class=\"staff_blank\">&bull;</td><td><a href=\"zamestnanci/detail/1731776\">doc. RNDr. Ivana Pultarová, Ph.D.</a></td></tr>\n",
      "        <tr> <td class=\"staff_blank\">&bull;</td><td><a href=\"zamestnanci/detail/1728447\">doc. RNDr. Zdeněk Skalák, CSc.</a></td></tr>\n",
      "        <tr> <td class=\"staff_blank\">&bull;</td><td><a href=\"zamestnanci/detail/1731754\">doc. RNDr. Ondřej Zindulka, CSc.</a></td></tr>\n",
      "        <tr><td class=\"staff_blank\" height=\"8\" colspan=\"3\"></td></tr>\n",
      "        <tr><td colspan=\"3\" height=\"1\" class=\"staff_white\"></td></tr>\n",
      "\n",
      "        <tr><td class=\"staff_blank\" height=\"4\" colspan=\"3\"></td></tr>\n",
      "        <tr><td class=\"staff_popis\" rowspan=\"16\">Odborní asistenti</td><td class=\"staff_blank\">&bull;</td><td><a href=\"zamestnanci/detail/1491754\">Ing. Michal Beneš, Ph.D.</a></td></tr>\n",
      "        <tr> <td class=\"staff_blank\">&bull;</td><td><a href=\"zamestnanci/detail/1727730\">Mgr. Milan Bořík, Ph.D.</a></td></tr>\n",
      "        <tr> <td class=\"staff_blank\">&bull;</td><td><a href=\"zamestnanci/detail/1490834\">Mgr. Jana Čápová, Ph.D.</a></td></tr>\n",
      "        <tr> <td class=\"staff_blank\">&bull;</td><td><a href=\"zamestnanci/detail/1731798\">RNDr. Martin Hála, CSc.</a></td></tr>\n",
      "        <tr> <td class=\"staff_blank\">&bull;</td><td><a href=\"zamestnanci/detail/1731786\">RNDr. Iva Křivková</a></td></tr>\n",
      "        <tr> <td class=\"staff_blank\">&bull;</td><td><a href=\"zamestnanci/detail/1728178\">Mgr. Hana Lakomá, Ph.D.</a></td></tr>\n",
      "        <tr> <td class=\"staff_blank\">&bull;</td><td><a href=\"zamestnanci/detail/1377167\">RNDr. Ing. Jan Lamač, Ph.D.</a></td></tr>\n",
      "        <tr> <td class=\"staff_blank\">&bull;</td><td><a href=\"zamestnanci/detail/1728439\">RNDr. Iva Malechová, CSc.</a></td></tr>\n",
      "        <tr> <td class=\"staff_blank\">&bull;</td><td><a href=\"zamestnanci/detail/1278531\">Mgr. Yuliya Namlyeyeva, Ph.D.</a></td></tr>\n",
      "        <tr> <td class=\"staff_blank\">&bull;</td><td><a href=\"zamestnanci/detail/1730427\">RNDr. Dr. Jana Nosková</a></td></tr>\n",
      "        <tr> <td class=\"staff_blank\">&bull;</td><td><a href=\"zamestnanci/detail/1730825\">Mgr. Monika Rencová, Ph.D.</a></td></tr>\n",
      "        <tr> <td class=\"staff_blank\">&bull;</td><td><a href=\"zamestnanci/detail/1731770\">RNDr. Iva Slámová</a></td></tr>\n",
      "        <tr> <td class=\"staff_blank\">&bull;</td><td><a href=\"zamestnanci/detail/1490566\">Ing. Martin Soukenka, Ph.D.</a></td></tr>\n",
      "        <tr> <td class=\"staff_blank\">&bull;</td><td><a href=\"zamestnanci/detail/1731765\">RNDr. Zdeněk Šibrava, CSc.</a></td></tr>\n",
      "        <tr> <td class=\"staff_blank\">&bull;</td><td><a href=\"zamestnanci/detail/1356685\">Mgr. Petra Vacková, Ph.D.</a></td></tr>\n",
      "        <tr> <td class=\"staff_blank\">&bull;</td><td><a href=\"zamestnanci/detail/1435643\">RNDr. Miloslav Vlasák, Ph.D.</a></td></tr>\n",
      "        <tr><td class=\"staff_blank\" height=\"8\" colspan=\"3\"></td></tr>\n",
      "        <tr><td colspan=\"3\" height=\"1\" class=\"staff_white\"></td></tr>\n",
      "        <tr><td class=\"staff_blank\" height=\"4\" colspan=\"3\"></td></tr>\n",
      "\n",
      "        <tr><td class=\"staff_popis\" rowspan=\"1\">Vědečtí pracovníci</td><td class=\"staff_blank\">&bull;</td><td><a href=\"zamestnanci/detail/1296435\">Ing. Martin Ladecký, Ph.D.</a></td></tr>\n",
      "        <tr><td class=\"staff_blank\" height=\"8\" colspan=\"3\"></td></tr>\n",
      "        <tr><td colspan=\"3\" height=\"1\" class=\"staff_white\"></td></tr>\n",
      "\n",
      "        <tr><td class=\"staff_blank\" height=\"4\" colspan=\"3\"></td></tr>\n",
      "        <tr><td class=\"staff_popis\" rowspan=\"3\">Externí učitelé</td><td class=\"staff_blank\">&bull;</td><td><a href=\"zamestnanci/detail/1731801\">doc. RNDr. František Bubeník, CSc.</a></td></tr>\n",
      "        <tr> <td class=\"staff_blank\">&bull;</td><td><a href=\"zamestnanci/detail/1731791\">RNDr. Václav Kelar, CSc.</a></td></tr>\n",
      "        <tr> <td class=\"staff_blank\">&bull;</td><td><a href=\"zamestnanci/detail/1731789\">doc. RNDr. Milada Kočandrlová, CSc.</a></td></tr>\n",
      "<!--\n",
      "        <tr><td class=\"staff_blank\">&bull;</td><td><a href=\"zamestnanci/detail/1230964\">Mgr. Valeriia Tynianskaia</a></td></tr>\n",
      "        <tr><td class=\"staff_blank\">&bull;</td><td><a href=\"zamestnanci/detail/1232701\">Mgr. Michal Zdražil</a></td></tr>\n",
      "-->\n",
      "\n",
      "        <tr><td class=\"staff_blank\" height=\"8\" colspan=\"3\"></td></tr>\n",
      "        <tr><td colspan=\"3\" height=\"1\" class=\"staff_white\"></td></tr>\n",
      "\n",
      "        <tr><td class=\"staff_blank\" height=\"4\" colspan=\"3\"></td></tr>\n",
      "        <tr><td class=\"staff_popis\" rowspan=\"3\">Doktorandi<br />(prezenční studium)</td></tr>\n",
      "        <tr><td class=\"staff_blank\">&bull;</td><td><a href=\"zamestnanci/detail/1283677\">Ing. Liya Gaynutdinova</a></td></tr>\n",
      "        <tr><td class=\"staff_blank\">&bull;</td><td><a href=\"zamestnanci/detail/1317901\">Ing. Judita Runcziková</a></td></tr>\n",
      "        <tr><td class=\"staff_blank\" height=\"8\" colspan=\"3\"></td></tr>\n",
      "        <tr><td height=\"1\"></td><td height=\"1\" colspan=\"2\" class=\"staff_white\"></td></tr>\n",
      "<!--\n",
      "        <tr><td class=\"staff_blank\" height=\"4\" colspan=\"2\"></td></tr>\n",
      "        <tr><td class=\"staff_popis\" rowspan=\"1\">(kombinované studium)</td>\n",
      "          <td class=\"staff_blank\">&bull;</td><td><a href=\"zamestnanci/detail/1356685\">Mgr. Petra Vacková</a></td></tr>\n",
      "        <tr><td class=\"staff_blank\" height=\"8\" colspan=\"3\"></td></tr>\n",
      "        <tr><td colspan=\"3\" height=\"1\" class=\"staff_white\"></td></tr>\n",
      "-->\n",
      "        <tr><td class=\"staff_blank\" height=\"4\" colspan=\"3\"></td></tr>\n",
      "        <tr><td class=\"staff_popis\" rowspan=\"2\">Ostatní pracovníci</td><td class=\"staff_blank\">&bull;</td>\n",
      "        <td><a href=\"zamestnanci/detail/1490200\">Ing. Stanislav Olivík, <small>Ph.D.</small></a></td></tr>\n",
      "        <tr><td class=\"staff_blank\">&bull;</td><td><a href=\"zamestnanci/detail/1727263\">Lukáš Valda</a></td></tr>\n",
      "        <tr><td class=\"staff_blank\" height=\"8\" colspan=\"3\"></td></tr>\n",
      "        <tr><td colspan=\"3\" height=\"3\" class=\"staff_white\"></td></tr>\n",
      "        <tr><td class=\"staff_blank\" height=\"4\" colspan=\"3\"></td></tr>\n",
      "        <tr><td class=\"staff_popis\">&nbsp;</td><td>&nbsp;</td><td><a href=\"zamestnanci/seznam\"><strong>SEZNAM VŠECH</strong></a></td></tr>\n",
      "        <tr><td colspan=\"3\"></td></tr>\n",
      "      </table>\n",
      "    </td>\n",
      "  </tr>\n",
      "</table>\n",
      "</center>\n",
      "</body>\n",
      "\n",
      "</html>\n"
     ]
    }
   ],
   "source": [
    "html_bytes = page.read()\n",
    "html = html_bytes.decode(\"utf-8\")\n",
    "print(html)"
   ]
  },
  {
   "cell_type": "markdown",
   "metadata": {},
   "source": [
    "Pomocí urllib jste k webové stránce přistupovali podobně jako v prohlížeči. Místo vizuálního vykreslování obsahu jste však zdrojový kód získali jako text. Nyní, když máte HTML jako text, můžete z něj získat informace několika různými způsoby.\n",
    "\n",
    "## Extrakce textu z HTML\n",
    "Jedním ze způsobů, jak získat informace z HTML stránky, je použití metod řetězců. Například pomocí metody `.find()` můžete v textu HTML vyhledat značky `<title>` a získat název webové stránky.\n",
    "\n",
    "Pro začátek extrahujte název webové stránky, který jste si vyžádali v předchozím příkladu. Pokud znáte index prvního znaku názvu a index prvního znaku uzavírací značky `</title>`, můžete k extrakci názvu použít řetězcový řez.\n",
    "\n",
    "Protože funkce `.find()` vrací index prvního výskytu podřetězce, můžete získat index úvodní značky `<title>` předáním řetězce `\"<title>\"` funkci `.find()`:"
   ]
  },
  {
   "cell_type": "code",
   "execution_count": 5,
   "metadata": {},
   "outputs": [
    {
     "data": {
      "text/plain": [
       "519"
      ]
     },
     "execution_count": 5,
     "metadata": {},
     "output_type": "execute_result"
    }
   ],
   "source": [
    "title_index = html.find(\"<title>\")\n",
    "title_index"
   ]
  },
  {
   "cell_type": "markdown",
   "metadata": {},
   "source": [
    "Nechcete však mít index značky `<title>`. Chcete index samotného nadpisu. Chcete-li získat index prvního písmene v nadpisu, můžete k title_index přičíst délku řetězce `\"<title>\"`:"
   ]
  },
  {
   "cell_type": "code",
   "execution_count": 6,
   "metadata": {},
   "outputs": [
    {
     "data": {
      "text/plain": [
       "526"
      ]
     },
     "execution_count": 6,
     "metadata": {},
     "output_type": "execute_result"
    }
   ],
   "source": [
    "start_index = title_index + len(\"<title>\")\n",
    "start_index"
   ]
  },
  {
   "cell_type": "markdown",
   "metadata": {},
   "source": [
    "Nyní získáte index uzavírací značky `</title>` předáním řetězce `\"</title>\"` příkazu `.find()`:"
   ]
  },
  {
   "cell_type": "code",
   "execution_count": 7,
   "metadata": {},
   "outputs": [
    {
     "data": {
      "text/plain": [
       "552"
      ]
     },
     "execution_count": 7,
     "metadata": {},
     "output_type": "execute_result"
    }
   ],
   "source": [
    "end_index = html.find(\"</title>\")\n",
    "end_index"
   ]
  },
  {
   "cell_type": "markdown",
   "metadata": {},
   "source": [
    "Nakonec můžete název extrahovat rozřezáním řetězce html:"
   ]
  },
  {
   "cell_type": "code",
   "execution_count": 8,
   "metadata": {},
   "outputs": [
    {
     "data": {
      "text/plain": [
       "'ČVUT FSv - K101 Matematika'"
      ]
     },
     "execution_count": 8,
     "metadata": {},
     "output_type": "execute_result"
    }
   ],
   "source": [
    "title = html[start_index:end_index]\n",
    "title"
   ]
  },
  {
   "cell_type": "markdown",
   "metadata": {},
   "source": [
    "## Balíček re"
   ]
  },
  {
   "cell_type": "markdown",
   "metadata": {},
   "source": [
    "Regulární výrazy - zkráceně regexy (od angl. regular expressions) - jsou vzory, které můžete použít k vyhledávání textu v řetězci. Python podporuje regulární výrazy prostřednictvím modulu `re` standardní knihovny.\n",
    "\n",
    "Chcete-li pracovat s regulárními výrazy, musíte nejprve importovat modul `re`:"
   ]
  },
  {
   "cell_type": "code",
   "execution_count": 15,
   "metadata": {},
   "outputs": [],
   "source": [
    "import re"
   ]
  },
  {
   "cell_type": "markdown",
   "metadata": {},
   "source": [
    "Regulární výrazy používají k označení různých vzorů speciální znaky zvané metaznaky. Například znak hvězdičky (`*`) označuje nula nebo více výskytů toho, co je těsně před hvězdičkou.\n",
    "\n",
    "V následujícím příkladu použijete funkci `.findall()` k nalezení libovolného textu v řetězci, který odpovídá zadanému regulárnímu výrazu:"
   ]
  },
  {
   "cell_type": "code",
   "execution_count": 16,
   "metadata": {},
   "outputs": [
    {
     "data": {
      "text/plain": [
       "['ac']"
      ]
     },
     "execution_count": 16,
     "metadata": {},
     "output_type": "execute_result"
    }
   ],
   "source": [
    "re.findall(\"ab*c\", \"ac\")"
   ]
  },
  {
   "cell_type": "markdown",
   "metadata": {},
   "source": [
    "Prvním argumentem příkazu `re.findall()` je regulární výraz, který chcete porovnat, a druhým argumentem je řetězec, který se má testovat. Ve výše uvedeném příkladu hledáte vzor `\"ab*c\"` v řetězci `\"ac\"`.\n",
    "\n",
    "Regulární výraz `\"ab*c\"` odpovídá jakékoli části řetězce, která začíná písmenem `\"a\"`, končí písmenem `\"c\"` a mezi nimiž je nula nebo více výskytů písmene `\"b\"`. `re.findall()` vrátí seznam všech shod. Řetězec `\"ac\"` odpovídá tomuto vzoru, takže je vrácen v seznamu.\n",
    "\n",
    "Zde je stejný vzor aplikován na různé řetězce:"
   ]
  },
  {
   "cell_type": "code",
   "execution_count": 17,
   "metadata": {},
   "outputs": [
    {
     "name": "stdout",
     "output_type": "stream",
     "text": [
      "['abc']\n",
      "['ac']\n",
      "['abc', 'ac']\n",
      "[]\n"
     ]
    }
   ],
   "source": [
    "print(re.findall(\"ab*c\", \"abcd\"))\n",
    "print(re.findall(\"ab*c\", \"acc\"))\n",
    "print(re.findall(\"ab*c\", \"abcac\"))\n",
    "print(re.findall(\"ab*c\", \"abdc\"))"
   ]
  },
  {
   "cell_type": "markdown",
   "metadata": {},
   "source": [
    "Všimněte si, že pokud není nalezena žádná shoda, funkce `.findall()` vrátí prázdný seznam.\n",
    "\n",
    "Při porovnávání vzorů se rozlišují malá a velká písmena. Pokud chcete tento vzor porovnat bez ohledu na velikost písmen, můžete předat třetí argument s hodnotou `re.IGNORECASE`:"
   ]
  },
  {
   "cell_type": "code",
   "execution_count": 18,
   "metadata": {},
   "outputs": [
    {
     "data": {
      "text/plain": [
       "['ABC']"
      ]
     },
     "execution_count": 18,
     "metadata": {},
     "output_type": "execute_result"
    }
   ],
   "source": [
    "re.findall(\"ab*c\", \"ABC\", re.IGNORECASE)"
   ]
  },
  {
   "cell_type": "markdown",
   "metadata": {},
   "source": [
    "Tečkou `(.)` můžete v regulárním výrazu označit jakýkoli jednotlivý znak. Například můžete najít všechny řetězce, které obsahují písmena `\"a\"` a `\"c\"` oddělená jedním znakem, takto:"
   ]
  },
  {
   "cell_type": "code",
   "execution_count": 19,
   "metadata": {},
   "outputs": [
    {
     "data": {
      "text/plain": [
       "['abc']"
      ]
     },
     "execution_count": 19,
     "metadata": {},
     "output_type": "execute_result"
    }
   ],
   "source": [
    "re.findall(\"a.c\", \"abc\")"
   ]
  },
  {
   "cell_type": "markdown",
   "metadata": {},
   "source": [
    "Vzor `.*` uvnitř regulárního výrazu znamená libovolný znak opakovaný libovolný početkrát. Například pomocí `\"a.*c\"` můžete najít každý podřetězec začínající písmenem `\"a\"` a končící písmenem `\"c\"` bez ohledu na to, které písmeno nebo písmena se nacházejí mezi nimi:"
   ]
  },
  {
   "cell_type": "code",
   "execution_count": 20,
   "metadata": {},
   "outputs": [
    {
     "data": {
      "text/plain": [
       "['abbc']"
      ]
     },
     "execution_count": 20,
     "metadata": {},
     "output_type": "execute_result"
    }
   ],
   "source": [
    "re.findall(\"a.*c\", \"abbc\")"
   ]
  },
  {
   "cell_type": "markdown",
   "metadata": {},
   "source": [
    "Funkce `re.search()` se často se používá k hledání určitého vzoru uvnitř řetězce. Tato funkce je poněkud složitější než `re.findall()`, protože vrací objekt nazvaný `MatchObject`, který uchovává různé skupiny dat. To proto, že uvnitř jiných shod mohou být shody a funkce `re.search()` vrací všechny možné výsledky.\n",
    "\n",
    "Podrobnosti o objektu MatchObject nejsou zde podstatné. Prozatím stačí vědět, že volání `.group()` na `MatchObject` vrátí první a nejobsáhlejší výsledek, což je ve většině případů přesně to, co chcete:"
   ]
  },
  {
   "cell_type": "code",
   "execution_count": 21,
   "metadata": {},
   "outputs": [
    {
     "data": {
      "text/plain": [
       "'ABC'"
      ]
     },
     "execution_count": 21,
     "metadata": {},
     "output_type": "execute_result"
    }
   ],
   "source": [
    "match_results = re.search(\"ab*c\", \"ABC\", re.IGNORECASE)\n",
    "match_results.group()"
   ]
  },
  {
   "cell_type": "markdown",
   "metadata": {},
   "source": [
    "V modulu re je ještě jedna funkce, která je užitečná pro analýzu textu. `re.sub()`, což je zkratka pro substitute, umožňuje nahradit text v řetězci, který odpovídá regulárnímu výrazu, novým textem. Chová se podobně jako řetězcová metoda `.replace()`.\n",
    "\n",
    "Argumenty předávané funkci `re.sub()` jsou regulární výraz, za nímž následuje nahrazovaný text a za ním řetězec. Zde je příklad:"
   ]
  },
  {
   "cell_type": "code",
   "execution_count": 22,
   "metadata": {},
   "outputs": [
    {
     "data": {
      "text/plain": [
       "'Everything is ELEPHANTS.'"
      ]
     },
     "execution_count": 22,
     "metadata": {},
     "output_type": "execute_result"
    }
   ],
   "source": [
    "string = \"Everything is <replaced> if it's in <tags>.\"\n",
    "string = re.sub(\"<.*>\", \"ELEPHANTS\", string)\n",
    "string"
   ]
  },
  {
   "cell_type": "markdown",
   "metadata": {},
   "source": [
    "Funkce `re.sub()` používá regulární výraz `\"<.*>\"` k nalezení a nahrazení všeho mezi prvním `<` a posledním `>`, což se rozprostírá od začátku `<replaced>` do konce `<tags>`. Je to proto, že regulární výrazy jazyka Python jsou chamtivé, což znamená, že se snaží najít co nejdelší shodu, pokud jsou použity znaky jako `*`.\n",
    "\n",
    "Alternativně můžete použít vzor shody `*?`, který funguje stejně jako `*` s tím rozdílem, že odpovídá nejkratšímu možnému řetězci textu:"
   ]
  },
  {
   "cell_type": "code",
   "execution_count": 24,
   "metadata": {},
   "outputs": [
    {
     "data": {
      "text/plain": [
       "\"Everything is ELEPHANTS if it's in ELEPHANTS.\""
      ]
     },
     "execution_count": 24,
     "metadata": {},
     "output_type": "execute_result"
    }
   ],
   "source": [
    "string = \"Everything is <replaced> if it's in <tags>.\"\n",
    "string = re.sub(\"<.*?>\", \"ELEPHANTS\", string)\n",
    "string"
   ]
  },
  {
   "cell_type": "markdown",
   "metadata": {},
   "source": [
    "Tentokrát funkce `re.sub()` najde dvě shody, `<replaced>` a `<tags>`, a nahradí obě shody řetězcem `\"ELEPHANTS\"`.\n",
    "\n",
    "## Extrakce textu z HTML pomocí regulárních výrazů\n",
    "Vybaveni těmito znalostmi se nyní pokusme získat nadpis z jiné stránky:"
   ]
  },
  {
   "cell_type": "code",
   "execution_count": 10,
   "metadata": {},
   "outputs": [
    {
     "name": "stdout",
     "output_type": "stream",
     "text": [
      "ČVUT FSv - K101 Matematika\n"
     ]
    }
   ],
   "source": [
    "import re\n",
    "from urllib.request import urlopen\n",
    "\n",
    "url = \"https://mat.fsv.cvut.cz\"\n",
    "page = urlopen(url)\n",
    "html = page.read().decode(\"utf-8\")\n",
    "\n",
    "pattern = \"<title.*?>.*?</title.*?>\"\n",
    "match_results = re.search(pattern, html, re.IGNORECASE)\n",
    "title = match_results.group()\n",
    "title = re.sub(\"<.*?>\", \"\", title) # Remove HTML tags\n",
    "\n",
    "print(title)"
   ]
  },
  {
   "cell_type": "markdown",
   "metadata": {},
   "source": [
    "## Použití parseru HTML pro škrabání webu v jazyce Python\n",
    "Ačkoli jsou regulární výrazy obecně skvělé pro porovnávání vzorů, někdy je jednodušší použít parser HTML, který je výslovně určen pro parsování stránek HTML. Pro tento účel je napsáno mnoho nástrojů v jazyce Python, ale pro začátek je vhodné použít knihovnu [Beautiful Soup]().\n",
    "```\n",
    "pip install beautifulsoup4\n",
    "```"
   ]
  },
  {
   "cell_type": "code",
   "execution_count": 11,
   "metadata": {},
   "outputs": [],
   "source": [
    "from bs4 import BeautifulSoup\n",
    "from urllib.request import urlopen\n",
    "\n",
    "url = \"https://mat.fsv.cvut.cz\"\n",
    "page = urlopen(url)\n",
    "html = page.read().decode(\"utf-8\")\n",
    "soup = BeautifulSoup(html, \"html.parser\")"
   ]
  },
  {
   "cell_type": "markdown",
   "metadata": {},
   "source": [
    "Tento program dělá tři věci:\n",
    "\n",
    "1. Otevře adresu URL https://mat.fsv.cvut.cz pomocí funkce `urlopen()` z modulu `urllib.request`.\n",
    "2. Přečte HTML ze stránky jako řetězec a přiřadí jej do proměnné `html`.\n",
    "3. Vytvoří objekt `BeautifulSoup` a přiřadí jej do proměnné `soup`.\n",
    "\n",
    "Objekt BeautifulSoup přiřazený proměnné soup je vytvořen se dvěma argumenty. Prvním argumentem je HTML, které má být zpracováno, a druhý argument, řetězec \"html.parser\", říká objektu, který parser má být použit v zákulisí. \"html.parser\" představuje vestavěný parser jazyka HTML v jazyce Python.\n",
    "\n",
    "Objekty BeautifulSoup mají metodu `.get_text()`, kterou můžete použít k extrakci veškerého textu z dokumentu a automatickému odstranění všech značek HTML."
   ]
  },
  {
   "cell_type": "code",
   "execution_count": 12,
   "metadata": {},
   "outputs": [
    {
     "name": "stdout",
     "output_type": "stream",
     "text": [
      "\n",
      "\n",
      "\n",
      "\n",
      "\n",
      "\n",
      "\n",
      "\n",
      "\n",
      "\n",
      "\n",
      "ČVUT FSv - K101 Matematika\n",
      "\n",
      "\n",
      "\n",
      "\n",
      "\n",
      "\n",
      "\n",
      "\n",
      "\n",
      "\n",
      "\n",
      "\n",
      "\n",
      "\n",
      "\n",
      "\n",
      "\n",
      "ČVUT\n",
      "FSv\n",
      "            - \n",
      "            Katedra matematiky,\n",
      "            Thákurova 7, 166 29 Praha 6\n",
      "            Tel.: +420 / 224 354 390 \n",
      "\n",
      "\n",
      "            školní pošta\n",
      "\n",
      "fakultnírozvrh\n",
      "\n",
      "\n",
      "\n",
      "\n",
      "            Englishversion\n",
      "\n",
      "\n",
      "\n",
      "\n",
      "\n",
      "\n",
      "\n",
      "\n",
      "\n",
      "Pro budoucí studenty\n",
      "•Přijímací zkoušky\n",
      " ›Všeobecné informace\n",
      " ›Ukázka přijímacího testu\n",
      " ›Online testy\n",
      "•Pomoc s přípravou ke studiu na VŠ\n",
      " ›Jarní přípravné kurzy\n",
      " ›Přijímací zkoušky „NANEČISTO“\n",
      " ›Vstupní vyrovnávací kurz M a DG\n",
      "  \n",
      "Pro studenty\n",
      "•Podmínky vedoucího katedry\n",
      "•AMOS (přihlašování na on-line testování)\n",
      "•Bakalářské studium\n",
      "•Magisterské studium\n",
      "•Doktorské studium\n",
      "•Pomoc při studiu matematiky\n",
      " ›Centrum Aktivního Učení\n",
      "  \n",
      "Pro studenty se zájmem o matematiku\n",
      "\n",
      "•Modely výuky Matematiky 2\n",
      "•Univerzita třetího věku\n",
      "•Volitelné předměty\n",
      "•Témata bakalářských a diplomových prací\n",
      "•Rektorysova soutěž\n",
      "•Vyčichlova soutěž\n",
      "  \n",
      "Věda a výzkum\n",
      "•Dynamical Systems, Prague 2021\n",
      "•ISCAMI 2019\n",
      "•CAAS – Theory\n",
      "•Dynamical Systems, Prague 2015\n",
      "•XXXVIII. Summer Symposium in Real Analysis\n",
      "•Preconditioning of Iterative Methods\n",
      "•Seminář Discrete Dynamical Systems\n",
      "•Dynamical Systems (2005)\n",
      "\n",
      "•Seminář katedry matematiky\n",
      "•Seminář o stochastických metodách\n",
      "•The 5th Ostrava-Prague Seminar in Topology & Dynamics\n",
      "•The 4th Ostrava-Prague Seminar in Topology & Dynamics\n",
      "•The 2nd Ostrava-Prague Seminar in Topology & Dynamics\n",
      "\n",
      "•Preprinty\n",
      "\n",
      "•Publikace a granty\n",
      "  \n",
      "Různé\n",
      "•Návody (MS Teams)\n",
      "\n",
      "•SEminář Dějiny Matematiky a Astronomie\n",
      "•Posluchárna prof. Rektoryse\n",
      "•Skripta & texty\n",
      "•Numerika online\n",
      "  \n",
      "INTERNET (stále ve vývoji)\n",
      "•Odkazy\n",
      "•Fakultní intranet\n",
      "•Usermap\n",
      "  \n",
      "\n",
      "\n",
      "\n",
      "\n",
      "Zaměstnanci katedry\n",
      "\n",
      "Vedoucí katedry•doc. RNDr. Jozef Bobok, CSc.\n",
      "\n",
      "\n",
      "\n",
      "Zástupcivedoucího katedry•doc. RNDr. Jan Chleboun, CSc.\n",
      " •doc. RNDr. Pavel Krejčí, CSc.\n",
      " •RNDr. Iva Malechová, CSc.\n",
      "\n",
      "\n",
      "\n",
      "\n",
      "Sekretářka katedry•Lucie Hančlová\n",
      "\n",
      "\n",
      "\n",
      "Profesoři•prof. RNDr. Daniela Jarušková, CSc.\n",
      "\n",
      "\n",
      "\n",
      "Hostující profesoři•MSc. Mohammad Al Janaideh, Ph.D.\n",
      "\n",
      "\n",
      "\n",
      "Docenti•doc. RNDr. Jozef Bobok, CSc.\n",
      " •doc. RNDr. Jan Chleboun, CSc.\n",
      " •doc. RNDr. Pavel Krejčí, CSc.\n",
      " •doc. RNDr. Petr Kučera, CSc.\n",
      " •doc. RNDr. Petr Mayer, Dr.\n",
      " •doc. RNDr. Aleš Nekvinda, CSc.\n",
      " •doc. RNDr. Ivana Pultarová, Ph.D.\n",
      " •doc. RNDr. Zdeněk Skalák, CSc.\n",
      " •doc. RNDr. Ondřej Zindulka, CSc.\n",
      "\n",
      "\n",
      "\n",
      "Odborní asistenti•Ing. Michal Beneš, Ph.D.\n",
      " •Mgr. Milan Bořík, Ph.D.\n",
      " •Mgr. Jana Čápová, Ph.D.\n",
      " •RNDr. Martin Hála, CSc.\n",
      " •RNDr. Iva Křivková\n",
      " •Mgr. Hana Lakomá, Ph.D.\n",
      " •RNDr. Ing. Jan Lamač, Ph.D.\n",
      " •RNDr. Iva Malechová, CSc.\n",
      " •Mgr. Yuliya Namlyeyeva, Ph.D.\n",
      " •RNDr. Dr. Jana Nosková\n",
      " •Mgr. Monika Rencová, Ph.D.\n",
      " •RNDr. Iva Slámová\n",
      " •Ing. Martin Soukenka, Ph.D.\n",
      " •RNDr. Zdeněk Šibrava, CSc.\n",
      " •Mgr. Petra Vacková, Ph.D.\n",
      " •RNDr. Miloslav Vlasák, Ph.D.\n",
      "\n",
      "\n",
      "\n",
      "Vědečtí pracovníci•Ing. Martin Ladecký, Ph.D.\n",
      "\n",
      "\n",
      "\n",
      "Externí učitelé•doc. RNDr. František Bubeník, CSc.\n",
      " •RNDr. Václav Kelar, CSc.\n",
      " •doc. RNDr. Milada Kočandrlová, CSc.\n",
      "\n",
      "\n",
      "\n",
      "\n",
      "Doktorandi(prezenční studium)\n",
      "•Ing. Liya Gaynutdinova\n",
      "•Ing. Judita Runcziková\n",
      "\n",
      "\n",
      "\n",
      "\n",
      "Ostatní pracovníci•\n",
      "Ing. Stanislav Olivík, Ph.D.\n",
      "•Lukáš Valda\n",
      "\n",
      "\n",
      "\n",
      "  SEZNAM VŠECH\n",
      "\n",
      "\n",
      "\n",
      "\n",
      "\n",
      "\n",
      "\n",
      "\n"
     ]
    }
   ],
   "source": [
    "print(soup.get_text())"
   ]
  },
  {
   "cell_type": "markdown",
   "metadata": {},
   "source": [
    "V tomto výstupu je mnoho prázdných řádků. Ty jsou výsledkem znaků nového řádku v textu dokumentu HTML. V případě potřeby je můžete odstranit pomocí řetězcové metody `.replace()`."
   ]
  },
  {
   "cell_type": "code",
   "execution_count": 20,
   "metadata": {},
   "outputs": [
    {
     "name": "stdout",
     "output_type": "stream",
     "text": [
      "\n",
      "\n",
      "ČVUT FSv - K101 MatematikaČVUT\n",
      "FSv\n",
      "            - \n",
      "            Katedra matematiky,\n",
      "            Thákurova 7, 166 29 Praha 6\n",
      "            Tel.: +420 / 224 354 390 \n",
      "\n",
      "\n",
      "            školní pošta\n",
      "\n",
      "fakultnírozvrh\n",
      "\n",
      "            Englishversion\n",
      "Pro budoucí studenty\n",
      "•Přijímací zkoušky\n",
      " ›Všeobecné informace\n",
      " ›Ukázka přijímacího testu\n",
      " ›Online testy\n",
      "•Pomoc s přípravou ke studiu na VŠ\n",
      " ›Jarní přípravné kurzy\n",
      " ›Přijímací zkoušky „NANEČISTO“\n",
      " ›Vstupní vyrovnávací kurz M a DG\n",
      "  \n",
      "Pro studenty\n",
      "•Podmínky vedoucího katedry\n",
      "•AMOS (přihlašování na on-line testování)\n",
      "•Bakalářské studium\n",
      "•Magisterské studium\n",
      "•Doktorské studium\n",
      "•Pomoc při studiu matematiky\n",
      " ›Centrum Aktivního Učení\n",
      "  \n",
      "Pro studenty se zájmem o matematiku\n",
      "\n",
      "•Modely výuky Matematiky 2\n",
      "•Univerzita třetího věku\n",
      "•Volitelné předměty\n",
      "•Témata bakalářských a diplomových prací\n",
      "•Rektorysova soutěž\n",
      "•Vyčichlova soutěž\n",
      "  \n",
      "Věda a výzkum\n",
      "•Dynamical Systems, Prague 2021\n",
      "•ISCAMI 2019\n",
      "•CAAS – Theory\n",
      "•Dynamical Systems, Prague 2015\n",
      "•XXXVIII. Summer Symposium in Real Analysis\n",
      "•Preconditioning of Iterative Methods\n",
      "•Seminář Discrete Dynamical Systems\n",
      "•Dynamical Systems (2005)\n",
      "\n",
      "•Seminář katedry matematiky\n",
      "•Seminář o stochastických metodách\n",
      "•The 5th Ostrava-Prague Seminar in Topology & Dynamics\n",
      "•The 4th Ostrava-Prague Seminar in Topology & Dynamics\n",
      "•The 2nd Ostrava-Prague Seminar in Topology & Dynamics\n",
      "\n",
      "•Preprinty\n",
      "\n",
      "•Publikace a granty\n",
      "  \n",
      "Různé\n",
      "•Návody (MS Teams)\n",
      "\n",
      "•SEminář Dějiny Matematiky a Astronomie\n",
      "•Posluchárna prof. Rektoryse\n",
      "•Skripta & texty\n",
      "•Numerika online\n",
      "  \n",
      "INTERNET (stále ve vývoji)\n",
      "•Odkazy\n",
      "•Fakultní intranet\n",
      "•Usermap\n",
      "  \n",
      "\n",
      "Zaměstnanci katedry\n",
      "\n",
      "Vedoucí katedry•doc. RNDr. Jozef Bobok, CSc.\n",
      "Zástupcivedoucího katedry•doc. RNDr. Jan Chleboun, CSc.\n",
      " •doc. RNDr. Pavel Krejčí, CSc.\n",
      " •RNDr. Iva Malechová, CSc.\n",
      "\n",
      "Sekretářka katedry•Lucie Hančlová\n",
      "Profesoři•prof. RNDr. Daniela Jarušková, CSc.\n",
      "Hostující profesoři•MSc. Mohammad Al Janaideh, Ph.D.\n",
      "Docenti•doc. RNDr. Jozef Bobok, CSc.\n",
      " •doc. RNDr. Jan Chleboun, CSc.\n",
      " •doc. RNDr. Pavel Krejčí, CSc.\n",
      " •doc. RNDr. Petr Kučera, CSc.\n",
      " •doc. RNDr. Petr Mayer, Dr.\n",
      " •doc. RNDr. Aleš Nekvinda, CSc.\n",
      " •doc. RNDr. Ivana Pultarová, Ph.D.\n",
      " •doc. RNDr. Zdeněk Skalák, CSc.\n",
      " •doc. RNDr. Ondřej Zindulka, CSc.\n",
      "Odborní asistenti•Ing. Michal Beneš, Ph.D.\n",
      " •Mgr. Milan Bořík, Ph.D.\n",
      " •Mgr. Jana Čápová, Ph.D.\n",
      " •RNDr. Martin Hála, CSc.\n",
      " •RNDr. Iva Křivková\n",
      " •Mgr. Hana Lakomá, Ph.D.\n",
      " •RNDr. Ing. Jan Lamač, Ph.D.\n",
      " •RNDr. Iva Malechová, CSc.\n",
      " •Mgr. Yuliya Namlyeyeva, Ph.D.\n",
      " •RNDr. Dr. Jana Nosková\n",
      " •Mgr. Monika Rencová, Ph.D.\n",
      " •RNDr. Iva Slámová\n",
      " •Ing. Martin Soukenka, Ph.D.\n",
      " •RNDr. Zdeněk Šibrava, CSc.\n",
      " •Mgr. Petra Vacková, Ph.D.\n",
      " •RNDr. Miloslav Vlasák, Ph.D.\n",
      "Vědečtí pracovníci•Ing. Martin Ladecký, Ph.D.\n",
      "Externí učitelé•doc. RNDr. František Bubeník, CSc.\n",
      " •RNDr. Václav Kelar, CSc.\n",
      " •doc. RNDr. Milada Kočandrlová, CSc.\n",
      "\n",
      "Doktorandi(prezenční studium)\n",
      "•Ing. Liya Gaynutdinova\n",
      "•Ing. Judita Runcziková\n",
      "\n",
      "Ostatní pracovníci•\n",
      "Ing. Stanislav Olivík, Ph.D.\n",
      "•Lukáš Valda\n",
      "  SEZNAM VŠECH\n",
      "\n",
      "\n"
     ]
    }
   ],
   "source": [
    "print(soup.get_text().replace('\\n\\n\\n', ''))"
   ]
  },
  {
   "cell_type": "markdown",
   "metadata": {},
   "source": [
    "\n",
    "Často potřebujete z dokumentu HTML získat pouze konkrétní text. Pomocí Beautiful Soup nejprve extrahovat text a poté použít řetězcovou metodu `.find()` je někdy jednodušší než práce s regulárními výrazy.\n",
    "\n",
    "Jindy jsou však prvky, které upozorňují na data, která chcete načíst, samotné značky HTML. Možná budete chtít například získat adresy URL všech obrázků na stránce. Tyto odkazy jsou obsaženy v atributu src HTML tagů `<img>`.\n",
    "\n",
    "V tomto případě můžete pomocí `find_all()` vrátit seznam všech instancí této konkrétní značky:"
   ]
  },
  {
   "cell_type": "code",
   "execution_count": 21,
   "metadata": {},
   "outputs": [
    {
     "data": {
      "text/plain": [
       "[<img alt=\"ČVUT\" border=\"0\" height=\"81\" src=\"logo_cvut_white.png\" title=\"ČVUT\" width=\"106\"/>,\n",
       " <img alt=\"Webové rozhraní poštovního serveru\" border=\"0\" height=\"48\" src=\"Mail2.png\" style=\"margin: 0px 3px 6px 3px;\" title=\"Webové rozhraní poštovního serveru\" width=\"72\"/>,\n",
       " <img alt=\"english version\" border=\"0\" height=\"25\" src=\"uk_small.png\" style=\"margin: 3px 3px 12px 3px;\" width=\"50\"/>,\n",
       " <img align=\"right\" alt=\"Logo\" border=\"0\" height=\"81\" src=\"znak_small.png\" usemap=\"#logo\" width=\"120\"/>]"
      ]
     },
     "execution_count": 21,
     "metadata": {},
     "output_type": "execute_result"
    }
   ],
   "source": [
    "soup.find_all(\"img\")"
   ]
  },
  {
   "cell_type": "markdown",
   "metadata": {},
   "source": [
    "Tím se vrátí seznam všech značek `<img>` v dokumentu HTML. Objekty v seznamu vypadají, jako by to mohly být řetězce představující značky, ale ve skutečnosti jsou to instance objektu `Tag`, který poskytuje Beautiful Soup. Objekty značek poskytují jednoduché rozhraní pro práci s informacemi, které obsahují.\n",
    "\n",
    "Můžete to trochu prozkoumat tak, že nejprve rozbalíte objekty značek ze seznamu:"
   ]
  },
  {
   "cell_type": "code",
   "execution_count": 24,
   "metadata": {},
   "outputs": [],
   "source": [
    "image1, image2, image3, image4 = soup.find_all(\"img\")"
   ]
  },
  {
   "cell_type": "markdown",
   "metadata": {},
   "source": [
    "Každý objekt `Tag` má vlastnost `.name`, která vrací řetězec obsahující typ značky HTML:"
   ]
  },
  {
   "cell_type": "code",
   "execution_count": 25,
   "metadata": {},
   "outputs": [
    {
     "data": {
      "text/plain": [
       "'img'"
      ]
     },
     "execution_count": 25,
     "metadata": {},
     "output_type": "execute_result"
    }
   ],
   "source": [
    "image1.name"
   ]
  },
  {
   "cell_type": "markdown",
   "metadata": {},
   "source": [
    "K atributům HTML objektu Tag můžete přistupovat tak, že jejich názvy vložíte do hranatých závorek, stejně jako by atributy byly klíče ve slovníku.\n",
    "\n",
    "Například značka `<img alt=\"ČVUT\" border=\"0\" height=\"81\" src=\"logo_cvut_white.png\" title=\"ČVUT\" width=\"106\"/>` má 5 atributů, např. `src`, s hodnotou `logo_cvut_white.png\"`. \n",
    "\n",
    "Chcete-li získat zdroj obrázků na stránce, získáte přístup k atributu src pomocí výše uvedeného slovníkového zápisu:"
   ]
  },
  {
   "cell_type": "code",
   "execution_count": 27,
   "metadata": {},
   "outputs": [
    {
     "name": "stdout",
     "output_type": "stream",
     "text": [
      "logo_cvut_white.png\n",
      "Mail2.png\n",
      "uk_small.png\n",
      "znak_small.png\n"
     ]
    }
   ],
   "source": [
    "print(image1[\"src\"])\n",
    "print(image2[\"src\"])\n",
    "print(image3[\"src\"])\n",
    "print(image4[\"src\"])"
   ]
  },
  {
   "cell_type": "markdown",
   "metadata": {},
   "source": [
    "K určitým značkám v dokumentech HTML lze přistupovat pomocí vlastností objektu `Tag`. Chcete-li například v dokumentu získat značku `<title>`, můžete použít vlastnost `.title`:"
   ]
  },
  {
   "cell_type": "code",
   "execution_count": 28,
   "metadata": {},
   "outputs": [
    {
     "data": {
      "text/plain": [
       "<title>ČVUT FSv - K101 Matematika</title>"
      ]
     },
     "execution_count": 28,
     "metadata": {},
     "output_type": "execute_result"
    }
   ],
   "source": [
    "soup.title"
   ]
  },
  {
   "cell_type": "markdown",
   "metadata": {},
   "source": [
    "Můžete také načíst pouze řetězec mezi tagy `title` pomocí vlastnosti `.string` objektu `Tag`:"
   ]
  },
  {
   "cell_type": "code",
   "execution_count": 29,
   "metadata": {},
   "outputs": [
    {
     "data": {
      "text/plain": [
       "'ČVUT FSv - K101 Matematika'"
      ]
     },
     "execution_count": 29,
     "metadata": {},
     "output_type": "execute_result"
    }
   ],
   "source": [
    "soup.title.string"
   ]
  },
  {
   "cell_type": "markdown",
   "metadata": {},
   "source": [
    "Jednou z funkcí Beautiful Soup je schopnost vyhledávat konkrétní druhy značek, jejichž atributy odpovídají určitým hodnotám. Pokud například chcete najít všechny značky `<img>`, které mají atribut src rovný hodnotě `logo_cvut_white.png`, můžete pro `.find_all()` zadat následující další argument:"
   ]
  },
  {
   "cell_type": "code",
   "execution_count": 30,
   "metadata": {},
   "outputs": [
    {
     "data": {
      "text/plain": [
       "[<img alt=\"ČVUT\" border=\"0\" height=\"81\" src=\"logo_cvut_white.png\" title=\"ČVUT\" width=\"106\"/>]"
      ]
     },
     "execution_count": 30,
     "metadata": {},
     "output_type": "execute_result"
    }
   ],
   "source": [
    "soup.find_all(\"img\", src=\"logo_cvut_white.png\")"
   ]
  },
  {
   "cell_type": "markdown",
   "metadata": {},
   "source": [
    "Tento příklad je poněkud libovolný a užitečnost této techniky nemusí být z příkladu zřejmá. Pokud strávíte nějaký čas procházením různých webů a prohlížením jejich zdrojů stránek, pak si všimnete, že mnoho webů má extrémně komplikované HTML struktury.\n",
    "\n",
    "Když stahujete data z webů pomocí Pythonu, často vás zajímají konkrétní části stránky. Když strávíte nějaký čas prohlížením dokumentu HTML, můžete identifikovat značky s jedinečnými atributy, které můžete použít k extrahování potřebných dat.\n",
    "\n",
    "Potom místo toho, abyste se spoléhali na komplikované regulární výrazy nebo používali `.find()` k prohledávání dokumentu, můžete přímo přistupovat ke konkrétní značce, která vás zajímá, a extrahovat data, která potřebujete.\n",
    "\n",
    "## Práce s formuláři\n",
    "\n",
    "Modul urllib, se kterým jste dosud pracovali v tomto cvičení, se dobře hodí pro vyžádání obsahu webové stránky. Někdy však potřebujete interakci s webovou stránkou, abyste získali požadovaný obsah. Například budete možná muset odeslat formulář nebo kliknout na tlačítko pro zobrazení skrytého obsahu.\n",
    "\n",
    "Standardní knihovna Pythonu neposkytuje vestavěné prostředky pro interaktivní práci s webovými stránkami, ale z PyPI je k dispozici mnoho balíčků třetích stran. Mezi nimi je [MechanicalSoup](https://mechanicalsoup.readthedocs.io/en/stable/), oblíbený a relativně jednoduchý balíček k použití.\n",
    "\n",
    "```\n",
    "python -m pip install MechanicalSoup\n",
    "```\n",
    "\n",
    "MechanicalSoup v podstatě nainstaluje to, co je známé jako bezhlavý prohlížeč (headless browser), což je webový prohlížeč bez grafického uživatelského rozhraní. Tento prohlížeč je ovládán programově pomocí Pythonu.\n",
    "\n",
    "Objekty `Browser` představují webový prohlížeč bez hlavy."
   ]
  },
  {
   "cell_type": "code",
   "execution_count": 39,
   "metadata": {},
   "outputs": [],
   "source": [
    "import mechanicalsoup\n",
    "browser = mechanicalsoup.Browser()"
   ]
  },
  {
   "cell_type": "markdown",
   "metadata": {},
   "source": [
    "Můžete je použít k vyžádání stránky z internetu předáním adresy URL jejich metodě `.get()`:"
   ]
  },
  {
   "cell_type": "code",
   "execution_count": 41,
   "metadata": {},
   "outputs": [],
   "source": [
    "url = \"https://usermap.cvut.cz/login\"\n",
    "page = browser.get(url)"
   ]
  },
  {
   "cell_type": "markdown",
   "metadata": {},
   "source": [
    "`page` je objekt `Response`, který ukládá odpověď z požadavku na URL z prohlížeče:"
   ]
  },
  {
   "cell_type": "code",
   "execution_count": 42,
   "metadata": {},
   "outputs": [
    {
     "data": {
      "text/plain": [
       "<Response [200]>"
      ]
     },
     "execution_count": 42,
     "metadata": {},
     "output_type": "execute_result"
    }
   ],
   "source": [
    "page"
   ]
  },
  {
   "cell_type": "markdown",
   "metadata": {},
   "source": [
    "Číslo `200` představuje stavový kód vrácený požadavkem. Stavový kód `200` znamená, že požadavek byl úspěšný. U neúspěšného požadavku se může zobrazit stavový kód `404`, pokud adresa URL neexistuje, nebo `500`, pokud při zadávání požadavku došlo k chybě serveru.\n",
    "\n",
    "MechanicalSoup používá Beautiful Soup k analýze HTML z požadavku a stránka má atribut `.soup`, který představuje objekt BeautifulSoup:"
   ]
  },
  {
   "cell_type": "code",
   "execution_count": 36,
   "metadata": {},
   "outputs": [
    {
     "data": {
      "text/plain": [
       "bs4.BeautifulSoup"
      ]
     },
     "execution_count": 36,
     "metadata": {},
     "output_type": "execute_result"
    }
   ],
   "source": [
    "type(page.soup)"
   ]
  },
  {
   "cell_type": "markdown",
   "metadata": {},
   "source": [
    "HTML můžete zobrazit kontrolou atributu .soup:"
   ]
  },
  {
   "cell_type": "code",
   "execution_count": 43,
   "metadata": {},
   "outputs": [
    {
     "data": {
      "text/plain": [
       "<!DOCTYPE html>\n",
       "<html lang=\"cs\">\n",
       "<head>\n",
       "<meta charset=\"utf-8\"/>\n",
       "<meta content=\"IE=edge\" http-equiv=\"X-UA-Compatible\"/>\n",
       "<meta content=\"width=device-width, initial-scale=1\" name=\"viewport\"/>\n",
       "<meta content=\"5a03c153-507c-4cc7-8de6-7070d5024d28\" name=\"_csrf\"/>\n",
       "<meta content=\"X-CSRF-TOKEN\" name=\"_csrf_header\"/>\n",
       "<meta content=\"text/html; charset=utf-8\" http-equiv=\"Content-Type\"/>\n",
       "<meta content=\"ČVUT-VIC, Ing. Petr Karel\" name=\"author\"/>\n",
       "<meta content=\"UserMap - systém pro evidenci a správu uživatelů v rámci IS ČVUT\" name=\"description\"/>\n",
       "<title>Přihlašovací dialog | Usermap</title>\n",
       "<link href=\"/assets/images/favicon-32x32.png\" rel=\"icon\" sizes=\"32x32\" type=\"image/png\"/>\n",
       "<link href=\"/assets/images/favicon-96x96.png\" rel=\"icon\" sizes=\"96x96\" type=\"image/png\"/>\n",
       "<link href=\"/assets/images/favicon-16x16.png\" rel=\"icon\" sizes=\"16x16\" type=\"image/png\"/>\n",
       "<link href=\"/assets/base.bundle.css\" rel=\"stylesheet\"/>\n",
       "<script>\n",
       "            window.APP_CONTEXT = '/';\n",
       "            window.APP_LANG = 'cs';\n",
       "            window.PRINCIPAL_UUID = '12329fb3-ea35-47e4-9cd7-fc1439dd51d8';\n",
       "        </script>\n",
       "<!-- Google tag (gtag.js) -->\n",
       "<script async=\"\" src=\"https://www.googletagmanager.com/gtag/js?id=G-7SVXBV2B5R\"></script>\n",
       "<script>\n",
       "                window.dataLayer = window.dataLayer || [];\n",
       "                function gtag(){dataLayer.push(arguments);}\n",
       "                gtag('js', new Date());\n",
       "                gtag('config', 'G-7SVXBV2B5R');\n",
       "            </script>\n",
       "</head>\n",
       "<body>\n",
       "<div id=\"header\">\n",
       "<nav class=\"navbar navbar-default\">\n",
       "<div class=\"container\">\n",
       "<div class=\"navbar-header\">\n",
       "<button aria-expanded=\"false\" class=\"navbar-toggle collapsed\" data-target=\"#main-menu\" data-toggle=\"collapse\" type=\"button\">\n",
       "<span class=\"sr-only\"> Zobrazit/Skrýt navigaci</span>\n",
       "<span class=\"icon-bar\"></span>\n",
       "<span class=\"icon-bar\"></span>\n",
       "<span class=\"icon-bar\"></span>\n",
       "</button>\n",
       "<a class=\"pull-left navbar-brand\" href=\"/\">\n",
       "<img class=\"img-responsive\" src=\"/assets/images/logo-w.svg\"/>\n",
       "</a>\n",
       "<a class=\"pull-left navbar-brand\" href=\"/\">\n",
       "                USERMAP\n",
       "            </a>\n",
       "</div>\n",
       "<div class=\"collapse navbar-collapse\" id=\"main-menu\">\n",
       "<!-- Left navigation -->\n",
       "<ul class=\"nav navbar-nav navbar-nav-icon\">\n",
       "<li class=\"\">\n",
       "<a href=\"/search\">\n",
       "<i class=\"icon fa fa-fw fa-users\"></i>\n",
       "<span class=\"hidden-sm\">Lidé na ČVUT</span>\n",
       "</a>\n",
       "</li>\n",
       "<li class=\"\">\n",
       "<a href=\"/search/department\">\n",
       "<i class=\"icon fa fa-fw fa-building\"></i>\n",
       "<span class=\"hidden-sm\">Pracoviště</span>\n",
       "</a>\n",
       "</li>\n",
       "</ul>\n",
       "<!-- Right user info -->\n",
       "<ul class=\"nav navbar-nav navbar-nav-icon navbar-right\">\n",
       "<li class=\"active\">\n",
       "<a href=\"/login\">\n",
       "<i class=\"icon fa fa-fw fa-user\"></i>\n",
       "<span class=\"hidden-sm\">Přihlásit</span>\n",
       "</a>\n",
       "</li>\n",
       "<li>\n",
       "<a href=\"?lang=en\">\n",
       "<i class=\"icon fa fa-fw fa-globe\"></i>\n",
       "<span class=\"hidden-sm\">CZ/EN</span>\n",
       "</a>\n",
       "</li>\n",
       "</ul><!-- /.Right user info -->\n",
       "</div><!-- /.navbar-collapse -->\n",
       "</div>\n",
       "</nav>\n",
       "</div>\n",
       "<div class=\"main\" id=\"content\">\n",
       "<div class=\"container\">\n",
       "</div>\n",
       "<div class=\"container\">\n",
       "<form action=\"/login\" method=\"POST\">\n",
       "<input name=\"_csrf\" type=\"hidden\" value=\"5a03c153-507c-4cc7-8de6-7070d5024d28\"/>\n",
       "<div class=\"row\" style=\"margin-top: 2em;\">\n",
       "<div class=\"col-lg-4 col-lg-offset-4 col-md-6 col-md-offset-3 col-sm-8 col-sm-offset-2\">\n",
       "<div class=\"panel panel-default\">\n",
       "<div class=\"panel-heading\">\n",
       "<h1 class=\"panel-title\">Přihlašovací dialog</h1>\n",
       "</div>\n",
       "<div class=\"panel-body\">\n",
       "<div class=\"form-group\">\n",
       "<label class=\"sr-only\" for=\"username\">Uživatelské jméno</label>\n",
       "<div class=\"input-group\">\n",
       "<span class=\"input-group-addon\"><i class=\"fa fa-user\"></i></span>\n",
       "<input autocomplete=\"off\" class=\"form-control\" name=\"username\" placeholder=\"Uživatelské jméno\" type=\"text\"/>\n",
       "</div>\n",
       "</div>\n",
       "<div class=\"form-group\">\n",
       "<label class=\"sr-only\" for=\"password\">Heslo</label>\n",
       "<div class=\"input-group\">\n",
       "<span class=\"input-group-addon\"><i class=\"fa fa-lock\"></i></span>\n",
       "<input autocomplete=\"off\" class=\"form-control\" name=\"password\" placeholder=\"Heslo\" type=\"password\"/>\n",
       "</div>\n",
       "</div>\n",
       "<input class=\"btn btn-primary btn-block\" id=\"btn-login\" type=\"submit\" value=\"Přihlásit\"/>\n",
       "<div style=\"margin-top: 1em;\">\n",
       "<i class=\"icon fa fa-question-circle\" style=\"color: #aaa\"></i>  <a href=\"https://ist.cvut.cz/nase-sluzby/heslo-cvut/\" target=\"_blank\">Nedaří se Vám přihlásit?</a>\n",
       "</div>\n",
       "<div class=\"line-center\"><span>SSO Shibboleth</span></div>\n",
       "<a class=\"btn btn-block btn-default\" href=\"https://usermap.cvut.cz/Shibboleth.sso/Login?target=https://usermap.cvut.cz/shibboleth-sp\" style=\"margin-top: 1em\">Přihlásit SSO</a>\n",
       "</div>\n",
       "</div>\n",
       "</div>\n",
       "</div>\n",
       "</form>\n",
       "</div>\n",
       "</div>\n",
       "<footer id=\"footer\">\n",
       "<div class=\"bar\">\n",
       "<div class=\"text-center\">\n",
       "    Copyright © 2023 ČVUT v Praze        | provozuje ČVUT - Výpočetní a informační centrum\n",
       "        | Hlášení chyb a námětů <a href=\"https://helpdesk.cvut.cz/secure/CreateIssueDetails!init.jspa?pid=13461&amp;issuetype=6&amp;customfield_11400=10500&amp;components=13640&amp;priority=3\" target=\"_blank\">Helpdesk ČVUT</a>\n",
       "</div>\n",
       "</div>\n",
       "</footer>\n",
       "<script src=\"/assets/base.bundle.js\" type=\"text/javascript\"></script>\n",
       "</body>\n",
       "</html>"
      ]
     },
     "execution_count": 43,
     "metadata": {},
     "output_type": "execute_result"
    }
   ],
   "source": [
    "page.soup"
   ]
  },
  {
   "cell_type": "markdown",
   "metadata": {},
   "source": [
    "Všimněte si, že tato stránka obsahuje `<form>` s prvky `<input>` pro uživatelské jméno a heslo.\n",
    "\n",
    "Důležitou částí HTML kódu je přihlašovací formulář – tedy vše uvnitř značek `<form>`. `<form>` na této stránce má atribut name nastaven na přihlášení. Tento formulář obsahuje dva prvky `<input>`, jeden s názvem `username` a druhý s názvem `password`. Třetím prvkem `<input>` je tlačítko `Přihlásit`.\n",
    "\n",
    "Nyní, když znáte základní strukturu přihlašovacího formuláře, stejně jako přihlašovací údaje potřebné k přihlášení, podívejte se na program, který formulář vyplní a odešle."
   ]
  },
  {
   "cell_type": "code",
   "execution_count": 55,
   "metadata": {},
   "outputs": [
    {
     "name": "stdout",
     "output_type": "stream",
     "text": [
      "https://usermap.cvut.cz/search\n"
     ]
    }
   ],
   "source": [
    "# Initialize the browser\n",
    "browser = mechanicalsoup.Browser()\n",
    "url = \"https://usermap.cvut.cz/login\" # replace with the URL of the page containing the form\n",
    "login_page = browser.get(url)\n",
    "login_html = login_page.soup\n",
    "\n",
    "# Select the form using BeautifulSoup's select method\n",
    "form = login_html.select(\"form\")[0]\n",
    "\n",
    "# Fill out the username and password fields\n",
    "form.select(\"input[name=username]\")[0]['value'] = 'username'  # replace with your KOS username\n",
    "form.select(\"input[name=password]\")[0]['value'] = 'pwd'  # replace with your KOS password\n",
    "\n",
    "# Submit the form\n",
    "response = browser.submit(form, login_page.url)"
   ]
  },
  {
   "cell_type": "markdown",
   "metadata": {},
   "source": [
    "Chcete-li potvrdit, že jste se úspěšně přihlásili, zadejte do interaktivního okna následující:"
   ]
  },
  {
   "cell_type": "code",
   "execution_count": 56,
   "metadata": {},
   "outputs": [
    {
     "name": "stdout",
     "output_type": "stream",
     "text": [
      "https://usermap.cvut.cz/search\n"
     ]
    }
   ],
   "source": [
    "print(response.url)"
   ]
  },
  {
   "cell_type": "markdown",
   "metadata": {},
   "source": [
    "Nyní rozeberte výše uvedený příklad:\n",
    "\n",
    "1. Vytvoříte instanci prohlížeče a použijete ji k vyžádání adresy URL https://usermap.cvut.cz/login. HTML obsah stránky přiřadíte proměnné login_html pomocí vlastnosti `.soup`.\n",
    "\n",
    "2. `login_html.select(\"form\")` vrátí seznam všech prvků `<form>` na stránce. Protože stránka obsahuje pouze jeden prvek `<form>`, můžete k formuláři přistupovat načtením prvku na indexu 0 seznamu. Pokud je na stránce pouze jeden formulář, můžete také použít `login_html.form`. Další dva řádky vyberou vstupy uživatelského jména a hesla a nastaví jejich hodnotu na „username“ a „pwd“.\n",
    "\n",
    "3. Formulář odešlete pomocí `browser.submit()`. Všimněte si, že této metodě předáváte dva argumenty, objekt formuláře a URL stránky login_page, ke které přistupujete přes `login_page.url`.\n",
    "\n",
    "**Poznámka**: Hackeři mohou používat automatizované programy, jako je ten výše, k hrubému vynucení přihlášení rychlým zkoušením mnoha různých uživatelských jmen a hesel, dokud nenajdou funkční kombinaci. \n",
    "Kromě toho, že je to vysoce nelegální, téměř všechny webové stránky vás v dnešní době zablokují a nahlásí vaši IP adresu, pokud uvidí, že děláte příliš mnoho neúspěšných požadavků, takže to nezkoušejte!"
   ]
  },
  {
   "cell_type": "markdown",
   "metadata": {},
   "source": [
    "## Získaní odkazů\n",
    "\n",
    "Nyní, když se vrátíme na hlavní stránku katedry, zkusíme získat adresu URL pro každý odkaz na pracovníka katedry.\n",
    "\n",
    "Chcete-li to provést, použijte znovu `.select()`, tentokrát předáním řetězce `\"a\"` k výběru všech kotevních prvků `<a>` na stránce:"
   ]
  },
  {
   "cell_type": "code",
   "execution_count": 68,
   "metadata": {},
   "outputs": [],
   "source": [
    "url = \"https://usermap.cvut.cz/login\"\n",
    "page = browser.get(url)\n",
    "\n",
    "# Select the table with the given attributes\n",
    "table = soup.select_one('table.tab_staff[cellpadding=\"0\"][cellspacing=\"0\"]')\n",
    "\n",
    "# If the table exists, extract all the links\n",
    "if table:\n",
    "    links = table.select('a')\n",
    "else:\n",
    "    print(\"Table not found.\")\n",
    "#links = page.soup.select(\"a\")"
   ]
  },
  {
   "cell_type": "markdown",
   "metadata": {},
   "source": [
    "Nyní můžete iterovat každý odkaz a vytisknout atribut `href`:"
   ]
  },
  {
   "cell_type": "code",
   "execution_count": 72,
   "metadata": {},
   "outputs": [
    {
     "name": "stdout",
     "output_type": "stream",
     "text": [
      "doc. RNDr. Jozef Bobok, CSc.: zamestnanci/detail/1731803\n",
      "doc. RNDr. Jan Chleboun, CSc.: zamestnanci/detail/1717481\n",
      "doc. RNDr. Pavel Krejčí, CSc.: zamestnanci/detail/1297836\n",
      "RNDr. Iva Malechová, CSc.: zamestnanci/detail/1728439\n",
      "Lucie Hančlová: zamestnanci/detail/1375439\n",
      "prof. RNDr. Daniela Jarušková, CSc.: zamestnanci/detail/1731794\n",
      "MSc. Mohammad Al Janaideh, Ph.D.: zamestnanci/detail/1219592\n",
      "doc. RNDr. Jozef Bobok, CSc.: zamestnanci/detail/1731803\n",
      "doc. RNDr. Jan Chleboun, CSc.: zamestnanci/detail/1717481\n",
      "doc. RNDr. Pavel Krejčí, CSc.: zamestnanci/detail/1297836\n",
      "doc. RNDr. Petr Kučera, CSc.: zamestnanci/detail/1731785\n",
      "doc. RNDr. Petr Mayer, Dr.: zamestnanci/detail/1727192\n",
      "doc. RNDr. Aleš Nekvinda, CSc.: zamestnanci/detail/1731779\n",
      "doc. RNDr. Ivana Pultarová, Ph.D.: zamestnanci/detail/1731776\n",
      "doc. RNDr. Zdeněk Skalák, CSc.: zamestnanci/detail/1728447\n",
      "doc. RNDr. Ondřej Zindulka, CSc.: zamestnanci/detail/1731754\n",
      "Ing. Michal Beneš, Ph.D.: zamestnanci/detail/1491754\n",
      "Mgr. Milan Bořík, Ph.D.: zamestnanci/detail/1727730\n",
      "Mgr. Jana Čápová, Ph.D.: zamestnanci/detail/1490834\n",
      "RNDr. Martin Hála, CSc.: zamestnanci/detail/1731798\n",
      "RNDr. Iva Křivková: zamestnanci/detail/1731786\n",
      "Mgr. Hana Lakomá, Ph.D.: zamestnanci/detail/1728178\n",
      "RNDr. Ing. Jan Lamač, Ph.D.: zamestnanci/detail/1377167\n",
      "RNDr. Iva Malechová, CSc.: zamestnanci/detail/1728439\n",
      "Mgr. Yuliya Namlyeyeva, Ph.D.: zamestnanci/detail/1278531\n",
      "RNDr. Dr. Jana Nosková: zamestnanci/detail/1730427\n",
      "Mgr. Monika Rencová, Ph.D.: zamestnanci/detail/1730825\n",
      "RNDr. Iva Slámová: zamestnanci/detail/1731770\n",
      "Ing. Martin Soukenka, Ph.D.: zamestnanci/detail/1490566\n",
      "RNDr. Zdeněk Šibrava, CSc.: zamestnanci/detail/1731765\n",
      "Mgr. Petra Vacková, Ph.D.: zamestnanci/detail/1356685\n",
      "RNDr. Miloslav Vlasák, Ph.D.: zamestnanci/detail/1435643\n",
      "Ing. Martin Ladecký, Ph.D.: zamestnanci/detail/1296435\n",
      "doc. RNDr. František Bubeník, CSc.: zamestnanci/detail/1731801\n",
      "RNDr. Václav Kelar, CSc.: zamestnanci/detail/1731791\n",
      "doc. RNDr. Milada Kočandrlová, CSc.: zamestnanci/detail/1731789\n",
      "Ing. Liya Gaynutdinova: zamestnanci/detail/1283677\n",
      "Ing. Judita Runcziková: zamestnanci/detail/1317901\n",
      "Ing. Stanislav Olivík, Ph.D.: zamestnanci/detail/1490200\n",
      "Lukáš Valda: zamestnanci/detail/1727263\n",
      "SEZNAM VŠECH: zamestnanci/seznam\n"
     ]
    }
   ],
   "source": [
    "for link in links:\n",
    "    address = link[\"href\"]\n",
    "    text = link.text\n",
    "    print(f\"{text}: {address}\")"
   ]
  },
  {
   "cell_type": "markdown",
   "metadata": {},
   "source": [
    "Adresy URL obsažené v každém atributu href jsou relativní adresy URL, které nejsou příliš užitečné, pokud k nim chcete později přejít pomocí MechanicalSoup. Pokud náhodou znáte úplnou adresu URL, můžete přiřadit část potřebnou k vytvoření úplné adresy URL.\n",
    "\n",
    "V tomto případě je základní URL pouze `https://mat.fsv.cvut.cz`. Poté můžete zřetězit základní adresu URL s relativními adresami URL nalezenými v atributu `src`:"
   ]
  },
  {
   "cell_type": "code",
   "execution_count": 73,
   "metadata": {},
   "outputs": [
    {
     "name": "stdout",
     "output_type": "stream",
     "text": [
      "doc. RNDr. Jozef Bobok, CSc.: https://mat.fsv.cvut.cz/zamestnanci/detail/1731803\n",
      "doc. RNDr. Jan Chleboun, CSc.: https://mat.fsv.cvut.cz/zamestnanci/detail/1717481\n",
      "doc. RNDr. Pavel Krejčí, CSc.: https://mat.fsv.cvut.cz/zamestnanci/detail/1297836\n",
      "RNDr. Iva Malechová, CSc.: https://mat.fsv.cvut.cz/zamestnanci/detail/1728439\n",
      "Lucie Hančlová: https://mat.fsv.cvut.cz/zamestnanci/detail/1375439\n",
      "prof. RNDr. Daniela Jarušková, CSc.: https://mat.fsv.cvut.cz/zamestnanci/detail/1731794\n",
      "MSc. Mohammad Al Janaideh, Ph.D.: https://mat.fsv.cvut.cz/zamestnanci/detail/1219592\n",
      "doc. RNDr. Jozef Bobok, CSc.: https://mat.fsv.cvut.cz/zamestnanci/detail/1731803\n",
      "doc. RNDr. Jan Chleboun, CSc.: https://mat.fsv.cvut.cz/zamestnanci/detail/1717481\n",
      "doc. RNDr. Pavel Krejčí, CSc.: https://mat.fsv.cvut.cz/zamestnanci/detail/1297836\n",
      "doc. RNDr. Petr Kučera, CSc.: https://mat.fsv.cvut.cz/zamestnanci/detail/1731785\n",
      "doc. RNDr. Petr Mayer, Dr.: https://mat.fsv.cvut.cz/zamestnanci/detail/1727192\n",
      "doc. RNDr. Aleš Nekvinda, CSc.: https://mat.fsv.cvut.cz/zamestnanci/detail/1731779\n",
      "doc. RNDr. Ivana Pultarová, Ph.D.: https://mat.fsv.cvut.cz/zamestnanci/detail/1731776\n",
      "doc. RNDr. Zdeněk Skalák, CSc.: https://mat.fsv.cvut.cz/zamestnanci/detail/1728447\n",
      "doc. RNDr. Ondřej Zindulka, CSc.: https://mat.fsv.cvut.cz/zamestnanci/detail/1731754\n",
      "Ing. Michal Beneš, Ph.D.: https://mat.fsv.cvut.cz/zamestnanci/detail/1491754\n",
      "Mgr. Milan Bořík, Ph.D.: https://mat.fsv.cvut.cz/zamestnanci/detail/1727730\n",
      "Mgr. Jana Čápová, Ph.D.: https://mat.fsv.cvut.cz/zamestnanci/detail/1490834\n",
      "RNDr. Martin Hála, CSc.: https://mat.fsv.cvut.cz/zamestnanci/detail/1731798\n",
      "RNDr. Iva Křivková: https://mat.fsv.cvut.cz/zamestnanci/detail/1731786\n",
      "Mgr. Hana Lakomá, Ph.D.: https://mat.fsv.cvut.cz/zamestnanci/detail/1728178\n",
      "RNDr. Ing. Jan Lamač, Ph.D.: https://mat.fsv.cvut.cz/zamestnanci/detail/1377167\n",
      "RNDr. Iva Malechová, CSc.: https://mat.fsv.cvut.cz/zamestnanci/detail/1728439\n",
      "Mgr. Yuliya Namlyeyeva, Ph.D.: https://mat.fsv.cvut.cz/zamestnanci/detail/1278531\n",
      "RNDr. Dr. Jana Nosková: https://mat.fsv.cvut.cz/zamestnanci/detail/1730427\n",
      "Mgr. Monika Rencová, Ph.D.: https://mat.fsv.cvut.cz/zamestnanci/detail/1730825\n",
      "RNDr. Iva Slámová: https://mat.fsv.cvut.cz/zamestnanci/detail/1731770\n",
      "Ing. Martin Soukenka, Ph.D.: https://mat.fsv.cvut.cz/zamestnanci/detail/1490566\n",
      "RNDr. Zdeněk Šibrava, CSc.: https://mat.fsv.cvut.cz/zamestnanci/detail/1731765\n",
      "Mgr. Petra Vacková, Ph.D.: https://mat.fsv.cvut.cz/zamestnanci/detail/1356685\n",
      "RNDr. Miloslav Vlasák, Ph.D.: https://mat.fsv.cvut.cz/zamestnanci/detail/1435643\n",
      "Ing. Martin Ladecký, Ph.D.: https://mat.fsv.cvut.cz/zamestnanci/detail/1296435\n",
      "doc. RNDr. František Bubeník, CSc.: https://mat.fsv.cvut.cz/zamestnanci/detail/1731801\n",
      "RNDr. Václav Kelar, CSc.: https://mat.fsv.cvut.cz/zamestnanci/detail/1731791\n",
      "doc. RNDr. Milada Kočandrlová, CSc.: https://mat.fsv.cvut.cz/zamestnanci/detail/1731789\n",
      "Ing. Liya Gaynutdinova: https://mat.fsv.cvut.cz/zamestnanci/detail/1283677\n",
      "Ing. Judita Runcziková: https://mat.fsv.cvut.cz/zamestnanci/detail/1317901\n",
      "Ing. Stanislav Olivík, Ph.D.: https://mat.fsv.cvut.cz/zamestnanci/detail/1490200\n",
      "Lukáš Valda: https://mat.fsv.cvut.cz/zamestnanci/detail/1727263\n",
      "SEZNAM VŠECH: https://mat.fsv.cvut.cz/zamestnanci/seznam\n"
     ]
    }
   ],
   "source": [
    "base_url = \"https://mat.fsv.cvut.cz/\"\n",
    "for link in links:\n",
    "    address = base_url + link[\"href\"]\n",
    "    text = link.text\n",
    "    print(f\"{text}: {address}\")"
   ]
  },
  {
   "cell_type": "markdown",
   "metadata": {},
   "source": [
    "## Komunikace s webovými stránkami v reálném čase\n",
    "ěkdy chcete mít možnost získat data v reálném čase z webové stránky, která nabízí neustále aktualizované informace. Otevřete svůj prohlížeč a přejděte na adresu URL https://www.random.org/dice:\n",
    "\n",
    "Tato stránka simuluje hod šestistěnnou kostkou a aktualizuje výsledek pokaždé, když obnovíte prohlížeč. Níže napíšete program, který opakovaně seškrábe stránku pro nový výsledek.\n",
    "\n",
    "První věc, kterou musíte udělat, je určit, který prvek na stránce obsahuje výsledek hodu kostkou. Udělejte to nyní kliknutím pravým tlačítkem kdekoli na stránce a výběrem `Zobrazit zdroj stránky`. O něco více než v polovině kódu HTML je značka `<h2>`, která vypadá takto:\n",
    "\n",
    "```html\n",
    "<p>You rolled 2 dice:</p>\n",
    "<p>\n",
    "<img src=\"dice3.png\" alt=\"3\" />\n",
    "<img src=\"dice5.png\" alt=\"5\" />\n",
    "</p>\n",
    "<p>Timestamp: 2023-08-30 14:46:20 UTC</p>\n",
    "```"
   ]
  },
  {
   "cell_type": "code",
   "execution_count": 75,
   "metadata": {},
   "outputs": [
    {
     "name": "stdout",
     "output_type": "stream",
     "text": [
      "Roll 1: [6, 1]\n",
      "Roll 2: [1, 2]\n",
      "Roll 3: [5, 6]\n"
     ]
    }
   ],
   "source": [
    "import mechanicalsoup\n",
    "import time\n",
    "\n",
    "def get_dice_roll():\n",
    "    url = \"https://www.random.org/dice/?num=2\"\n",
    "\n",
    "    # Create a browser instance\n",
    "    browser = mechanicalsoup.StatefulBrowser()\n",
    "\n",
    "    # Navigate to the page\n",
    "    response = browser.open(url)\n",
    "\n",
    "    # Parse the page and find the dice images\n",
    "    dice_images = browser.page.find_all(\"img\", alt=True)\n",
    "\n",
    "    # Extract the dice values from the image alt attributes\n",
    "    dice_values = [int(img['alt'][0]) for img in dice_images]\n",
    "\n",
    "    # Close the browser\n",
    "    browser.close()\n",
    "\n",
    "    return dice_values\n",
    "\n",
    "# Roll the dice 3 times with 10-second intervals\n",
    "for i in range(3):\n",
    "    dice_values = get_dice_roll()\n",
    "    print(f\"Roll {i+1}: {dice_values}\")\n",
    "    if i < 2:  # We don't want to wait after the last roll\n",
    "        time.sleep(10)"
   ]
  },
  {
   "cell_type": "markdown",
   "metadata": {},
   "source": [
    "Tento příklad používá metodu `.find_all()` objektu BeautifulSoup k nalezení prvku s `img`.\n",
    "\n",
    "Chcete-li pravidelně získávat nový výsledek, budete muset vytvořit smyčku, která načte stránku v každém kroku. Takže vše pod řádkem `browser = mechanicsoup.Browser()` ve výše uvedeném kódu musí jít do těla smyčky.\n",
    "\n",
    "V tomto příkladu chcete čtyři hody kostkou v desetisekundových intervalech. Chcete-li to provést, musí poslední řádek vašeho kódu říci Pythonu, aby pozastavil běh na deset sekund. Můžete to udělat pomocí `.sleep()` z časového modulu Pythonu. Metoda `.sleep()` přebírá jeden argument, který představuje dobu spánku v sekundách.\n",
    "\n",
    "Zde je příklad, který ilustruje, jak funkce `sleep()` funguje:"
   ]
  },
  {
   "cell_type": "code",
   "execution_count": 76,
   "metadata": {},
   "outputs": [
    {
     "name": "stdout",
     "output_type": "stream",
     "text": [
      "I'm about to wait for five seconds...\n",
      "Done waiting!\n"
     ]
    }
   ],
   "source": [
    "print(\"I'm about to wait for five seconds...\")\n",
    "time.sleep(5)\n",
    "print(\"Done waiting!\")"
   ]
  },
  {
   "cell_type": "markdown",
   "metadata": {},
   "source": [
    "Pomocí technik, jako je tato, můžete získávat data z webových stránek, které pravidelně aktualizují svá data. Měli byste si však být vědomi toho, že žádost o stránku několikrát v rychlém sledu může být považována za podezřelé nebo dokonce škodlivé použití webové stránky.\n",
    "\n",
    "**Důležité**: Většina webových stránek publikuje dokument Podmínky použití. Často na něj najdete odkaz v patičce webu.\n",
    "\n",
    "Než se pokusíte získat data z webové stránky, vždy si přečtěte tento dokument. Pokud nemůžete najít podmínky použití, zkuste kontaktovat vlastníka webu a zeptat se ho, zda má nějaké zásady týkající se objemu požadavků.\n",
    "\n",
    "Nedodržení podmínek použití může mít za následek zablokování vaší IP adresy, takže buďte opatrní!\n",
    "\n",
    "Je dokonce možné zřítit server s nadměrným počtem požadavků, takže si dokážete představit, že mnoho webových stránek má obavy z množství požadavků na svůj server! Při odesílání více žádostí na webovou stránku vždy zkontrolujte Podmínky použití a buďte ohleduplní."
   ]
  }
 ],
 "metadata": {
  "kernelspec": {
   "display_name": "base",
   "language": "python",
   "name": "python3"
  },
  "language_info": {
   "codemirror_mode": {
    "name": "ipython",
    "version": 3
   },
   "file_extension": ".py",
   "mimetype": "text/x-python",
   "name": "python",
   "nbconvert_exporter": "python",
   "pygments_lexer": "ipython3",
   "version": "3.11.3"
  },
  "orig_nbformat": 4
 },
 "nbformat": 4,
 "nbformat_minor": 2
}
