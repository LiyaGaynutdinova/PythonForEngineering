{
 "cells": [
  {
   "cell_type": "markdown",
   "metadata": {},
   "source": [
    "# Domácí úkol: Sestavení modelů strojového učení pro data o nemovitostech\n",
    "\n",
    "Dostali jste soubor dat obsahující informace o různých nemovitostech (RealEstate_California.csv). Vaším úkolem je sestavit dva modely strojového učení:\n",
    "\n",
    "1. **Lineární regresní model**: Předpovídat cenu nemovitosti na základě dalších vlastností.\n",
    "2. **Binární klasifikační model**: K předpovědi, zda nemovitost má či nemá garáž.\n",
    "\n",
    "## Část 1: Lineární regresní model\n",
    "\n",
    "### Úkol 1: Čištění a příprava dat\n",
    "\n",
    "1. Odstraňte všechny řádky s chybějícími nebo nulovými hodnotami ve sloupcích, které plánujete použít pro sestavení modelu.\n",
    "2. Vytvořte matici příznaků `X` s vlastností jako `livingAreaValue`, `yearBuilt`, `bathrooms`, a `bedrooms`.\n",
    "3. Vytvořte cílový vektor `y` obsahující cenu nemovitostí.\n",
    "\n",
    "### Úkol 2: Sestavte model\n",
    "\n",
    "1. Rozdělte datovou sadu na trénovací a testovací množinu.\n",
    "2. Natrénujte lineární regresní model na trénovacích datech.\n",
    "3. Vyhodnoťte model na testovacích datech pomocí metrik, jako je RMSE (Root Mean Square Error).\n",
    "\n",
    "## Část 2: Binární klasifikační model\n",
    "\n",
    "#### Úkol 1: Čištění a příprava dat\n",
    "\n",
    "1. Odstraňte všechny řádky s chybějícími nebo nulovými hodnotami ve sloupcích, které plánujete použít.\n",
    "2. Vytvořte matici příznaků `X` s vlastností jako `price`, `livingAreaValue`, `bathrooms`, and `bedrooms`.\n",
    "3. Vytvořte cílový vektor `y` obsahující binární proměnnou `hasGarage` (1 pro ano, 0 pro ne).\n",
    "\n",
    "#### Úkol 2: Sestavte model\n",
    "\n",
    "1. Rozdělte datovou sadu na trénovací a testovací množinu.\n",
    "2. Natrénujte logistický regresní model na trénovacích datech.\n",
    "3. Vyhodnoťte model na testovacích datech pomocí metrik, jako je přesnost."
   ]
  }
 ],
 "metadata": {
  "language_info": {
   "name": "python"
  },
  "orig_nbformat": 4
 },
 "nbformat": 4,
 "nbformat_minor": 2
}
