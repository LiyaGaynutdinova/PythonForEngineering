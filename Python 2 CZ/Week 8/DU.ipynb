{
 "cells": [
  {
   "cell_type": "markdown",
   "metadata": {},
   "source": [
    "# Domácí úkol: Použití shlukování K-means na data o nemovitostech\n",
    "Vaším cílem je odhalit vzory v nemovitostech pomocí shlukování K-means a snížit dimenzionalitu souboru dat pomocí analýzy hlavních komponent (PCA).\n",
    "\n",
    "## Část 1: Shlukování K-means\n",
    "### Úkol 1: Příprava dat\n",
    "Odstraňte všechny chybějící hodnoty ze sloupců, které budete používat.\n",
    "Vyberte relevantní funkce pro shlukování, například cenu, rok výstavby, hodnotu obytné plochy, koupelny a ložnice.\n",
    "### Úkol 2: Škálování prvků\n",
    "Vybrané funkce škálujte. To je důležité pro správnou funkci algoritmů, jako je K-means."
   ]
  },
  {
   "cell_type": "code",
   "execution_count": null,
   "metadata": {},
   "outputs": [],
   "source": [
    "from sklearn.preprocessing import StandardScaler\n",
    "\n",
    "scaler = StandardScaler()\n",
    "scaled_data = scaler.fit_transform(df[selected_columns])"
   ]
  },
  {
   "cell_type": "markdown",
   "metadata": {},
   "source": [
    "### Úkol 3: Použijte shlukování K-means\n",
    "Použijte algoritmus K-means k seskupení vlastností do shluků.\n",
    "Vyzkoušejte různé počty shluků a vyhodnoťte kvalitu shluků pomocí metrik, jako je setrvačnost nebo skóre siluety."
   ]
  },
  {
   "cell_type": "code",
   "execution_count": null,
   "metadata": {},
   "outputs": [],
   "source": [
    "from sklearn.cluster import KMeans\n",
    "\n",
    "kmeans = KMeans(n_clusters=3)\n",
    "clusters = kmeans.fit_predict(scaled_data)"
   ]
  },
  {
   "cell_type": "markdown",
   "metadata": {},
   "source": [
    "Analyzujte vlastnosti v jednotlivých shlucích a pokuste se najít vzory. K tomu můžete použít vizualizace."
   ]
  }
 ],
 "metadata": {
  "language_info": {
   "name": "python"
  },
  "orig_nbformat": 4
 },
 "nbformat": 4,
 "nbformat_minor": 2
}
