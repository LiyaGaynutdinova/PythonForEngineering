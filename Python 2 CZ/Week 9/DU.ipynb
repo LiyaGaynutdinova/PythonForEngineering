{
 "cells": [
  {
   "cell_type": "markdown",
   "metadata": {},
   "source": [
    "# Domácí úkol: vizualizace dat pomocí Seaborn.\n",
    "\n",
    "Na základě poskytnutého souboru dat o nemovitostech z předchozích cvičení (RealEstate_California) proveďte následující úlohy vizualizace a provonejte je s výsledky za použití Matplotlib:\n",
    "\n",
    "### Úkol 1: Předzpracování dat\n",
    "\n",
    "1. Načtěte datovou sadu do datového rámce Pandas DataFrame.\n",
    "2. Zpracujte všechny chybějící nebo duplicitní hodnoty.\n",
    "\n",
    "### Úkol 2: Jednorozměrná analýza\n",
    "\n",
    "Vytvořte následující grafy, abyste pochopili rozložení jednotlivých proměnných:\n",
    "  \n",
    "1. Histogram pro `price` a `yearBuilt`\n",
    "2. Graf pro `bedrooms` a `bathrooms`.\n",
    "\n",
    "## Úkol 3: Dvourozměrná analýza\n",
    "\n",
    "Proveďte dvourozměrnou analýzu, abyste pochopili vztahy mezi různými dvojicemi proměnných:\n",
    "\n",
    "1. Graf rozptylu mezi hodnotami `price` a `livingAreaValue`.\n",
    "2. Boxplot zobrazující rozdělení `price` mezi různé `homeType`\n",
    "\n",
    "### Úloha 4: Kategoriální vztahy\n",
    "\n",
    "Použijte catplot nebo fasetové mřížky, abyste pochopili, jak souvisí dvě kategoriální proměnné s číselnou proměnnou:\n",
    "\n",
    "1. `price` vs `hasGarage` & `isNewConstruction`\n",
    "\n",
    "### Úkol 5: Teplotní mapa pro korelace\n",
    "\n",
    "Vytvořte teplotní mapu pro pochopení korelací mezi číselnými proměnnými:\n",
    "\n",
    "### Úkol 6:\n",
    "\n",
    "Použijte `pairplot` nebo `pairgrid` k vizualizaci párových vztahů mezi podmnožinou číselných proměnných."
   ]
  }
 ],
 "metadata": {
  "language_info": {
   "name": "python"
  },
  "orig_nbformat": 4
 },
 "nbformat": 4,
 "nbformat_minor": 2
}
