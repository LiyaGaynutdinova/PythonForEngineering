{
 "cells": [
  {
   "attachments": {},
   "cell_type": "markdown",
   "metadata": {},
   "source": [
    "# Week 3. Homework\n",
    "\n",
    "Let's modify our code form the previous homework to include classes. \n",
    "\n",
    "1. Create a `Product` class that has attributes `name`, `price`, and `quantity`. The `__init__()` method of the `Product` class should take these three attributes as arguments and initialize the corresponding attributes.\n",
    "\n",
    "2. Create a `Cart` class that has a list of `Product` objects as an attribute. The `Cart` class should have methods `add_product()` and `remove_product()` that allow the user to add and remove products from the cart, respectively. The `Cart` class should also have a method `total_price()` that calculates the total price of all the products in the cart.\n",
    "\n",
    "3. Create a `Supermarket` class that uses the `Cart` class. The `Supermarket` class should have a method `buy_products()` that allows the user to select products to buy and add them to the cart. When the user is finished selecting products, the `buy_products()` method should call the `total_price()` method of the `Cart` object to calculate the total price of all the products in the cart."
   ]
  },
  {
   "cell_type": "code",
   "execution_count": 1,
   "metadata": {},
   "outputs": [
    {
     "name": "stdout",
     "output_type": "stream",
     "text": [
      "Product List:\n",
      "1 - Apple - $ 1.0 - Quantity: 10\n",
      "2 - Banana - $ 0.5 - Quantity: 20\n",
      "3 - Orange - $ 1.5 - Quantity: 15\n",
      "4 - Mango - $ 2.5 - Quantity: 5\n",
      "5 - Pineapple - $ 3.0 - Quantity: 3\n",
      "Added 2 Apple to cart.\n",
      "Added 5 Orange to cart.\n",
      "Your total is: $ 9.5\n"
     ]
    }
   ],
   "source": [
    "class Product:\n",
    "    def __init__(self, name, price, quantity):\n",
    "        self.name = name\n",
    "        self.price = price\n",
    "        self.quantity = quantity\n",
    "\n",
    "class Cart:\n",
    "    def __init__(self):\n",
    "        self.products = []\n",
    "\n",
    "    def add_product(self, product):\n",
    "        self.products.append(product)\n",
    "\n",
    "    def remove_product(self, product):\n",
    "        self.products.remove(product)\n",
    "\n",
    "    def total_price(self):\n",
    "        total = 0\n",
    "        for product in self.products:\n",
    "            total += product.price * product.quantity\n",
    "        return total\n",
    "\n",
    "class Supermarket:\n",
    "    def __init__(self):\n",
    "        self.products = [Product(\"Apple\", 1.00, 10),\n",
    "                         Product(\"Banana\", 0.50, 20),\n",
    "                         Product(\"Orange\", 1.50, 15),\n",
    "                         Product(\"Mango\", 2.50, 5),\n",
    "                         Product(\"Pineapple\", 3.00, 3)]\n",
    "\n",
    "    def list_products(self):\n",
    "        print(\"Product List:\")\n",
    "        for i, product in enumerate(self.products):\n",
    "            print(i+1, \"-\", product.name, \"- $\", product.price, \"- Quantity:\", product.quantity)\n",
    "\n",
    "    def buy_products(self):\n",
    "        cart = Cart()\n",
    "        self.list_products()\n",
    "        while True:\n",
    "            choice = input(\"Enter product number to add to cart (0 to finish): \")\n",
    "            if choice == \"0\":\n",
    "                break\n",
    "            elif not choice.isdigit() or int(choice) < 1 or int(choice) > len(self.products):\n",
    "                print(\"Invalid choice. Please try again.\")\n",
    "            else:\n",
    "                product = self.products[int(choice)-1]\n",
    "                quantity = int(input(\"Enter quantity to buy: \"))\n",
    "                if quantity > product.quantity:\n",
    "                    print(\"Insufficient quantity. Please try again.\")\n",
    "                else:\n",
    "                    product.quantity -= quantity\n",
    "                    cart.add_product(Product(product.name, product.price, quantity))\n",
    "                    print(\"Added\", quantity, product.name, \"to cart.\")\n",
    "        total = cart.total_price()\n",
    "        print(\"Your total is: $\", total)\n",
    "\n",
    "market = Supermarket()\n",
    "market.buy_products()"
   ]
  }
 ],
 "metadata": {
  "kernelspec": {
   "display_name": "base",
   "language": "python",
   "name": "python3"
  },
  "language_info": {
   "codemirror_mode": {
    "name": "ipython",
    "version": 3
   },
   "file_extension": ".py",
   "mimetype": "text/x-python",
   "name": "python",
   "nbconvert_exporter": "python",
   "pygments_lexer": "ipython3",
   "version": "3.9.13"
  },
  "orig_nbformat": 4
 },
 "nbformat": 4,
 "nbformat_minor": 2
}
