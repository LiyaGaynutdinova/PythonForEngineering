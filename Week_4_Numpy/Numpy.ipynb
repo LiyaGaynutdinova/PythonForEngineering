{
 "cells": [
  {
   "attachments": {},
   "cell_type": "markdown",
   "metadata": {},
   "source": [
    "# Week 4. The Numpy library.\n",
    "Here we will learn the basics of Numpy. If you run in any trouble, you can always refer to the Numpy documentation (https://numpy.org/doc/stable/).\n",
    "## Installation\n",
    "If you haven't installed Numpy yet, you could do it in the following steps. Do only the steps under `Conda` if you use the Anaconda distribution, and otherwise, do the steps under `Pip` if you installed Python 3 directly. Skip all of this if you use Colab.\n",
    "### Conda\n",
    "If you use conda, you can install NumPy by running the following cell:"
   ]
  },
  {
   "cell_type": "code",
   "execution_count": null,
   "metadata": {},
   "outputs": [],
   "source": [
    "# Best practice, use an environment rather than install in the base env. \n",
    "# You can use this 'my-env' environment to install more packages later.\n",
    "!conda create -n my-env\n",
    "!conda activate my-env\n",
    "# If you want to install from conda-forge\n",
    "!conda config --env --add channels conda-forge\n",
    "# The actual install command\n",
    "%conda install numpy"
   ]
  },
  {
   "attachments": {},
   "cell_type": "markdown",
   "metadata": {},
   "source": [
    "### Pip\n",
    "If you use `pip`, you can install NumPy with:"
   ]
  },
  {
   "cell_type": "code",
   "execution_count": null,
   "metadata": {},
   "outputs": [],
   "source": [
    "# Best practice, use an environment rather than install in the base env. \n",
    "# You can use this 'my-env' environment to install more packages later.\n",
    "%pip install virtualenv\n",
    "#Replace '/full/path/to/' with the full path to the folder where you want to create the virtual environment\n",
    "!virtualenv /full/path/to/my-env\n",
    "#Activate the virtual environment, don't forget to change the path:\n",
    "!source /full/path/to/my-env/bin/activate\n",
    "# The actual install command\n",
    "%pip install numpy"
   ]
  },
  {
   "attachments": {},
   "cell_type": "markdown",
   "metadata": {},
   "source": [
    "## Import\n",
    "Now we can run the following code to import the Numpy library. Tthe imported name is shortened to np for better readability. This is a widely adopted convention, so always use `import numpy as np`."
   ]
  },
  {
   "cell_type": "code",
   "execution_count": 1,
   "metadata": {},
   "outputs": [],
   "source": [
    "import numpy as np"
   ]
  },
  {
   "attachments": {},
   "cell_type": "markdown",
   "metadata": {},
   "source": [
    "## Numpy arrays\n",
    "The numpy array, called `ndarray`, is a central class of the NumPy library.  One (but not the only) way we can initialize NumPy arrays is from Python lists or tuples:"
   ]
  },
  {
   "cell_type": "code",
   "execution_count": 13,
   "metadata": {},
   "outputs": [
    {
     "data": {
      "text/plain": [
       "array([1., 2., 3.])"
      ]
     },
     "execution_count": 13,
     "metadata": {},
     "output_type": "execute_result"
    }
   ],
   "source": [
    "#Write the desired array as a list\n",
    "vector_as_list = [1., 2., 3.]\n",
    "#Convert the list into the Numpy array\n",
    "vector_as_array = np.array(vector_as_list)\n",
    "vector_as_array"
   ]
  },
  {
   "attachments": {},
   "cell_type": "markdown",
   "metadata": {},
   "source": [
    "We can, of course, write the list directly into the `np.array()` function. See how we can initialize a 3x2 matrix, which is a list of lists:"
   ]
  },
  {
   "cell_type": "code",
   "execution_count": 14,
   "metadata": {},
   "outputs": [
    {
     "data": {
      "text/plain": [
       "array([[1., 2., 3.],\n",
       "       [4., 5., 6.]])"
      ]
     },
     "execution_count": 14,
     "metadata": {},
     "output_type": "execute_result"
    }
   ],
   "source": [
    "matrix = np.array([[1., 2., 3.], [4., 5., 6.]])\n",
    "matrix"
   ]
  },
  {
   "attachments": {},
   "cell_type": "markdown",
   "metadata": {},
   "source": [
    "You can create placeholder arrays filled with ones, zeros, or diagonal ($I$) ones."
   ]
  },
  {
   "cell_type": "code",
   "execution_count": 8,
   "metadata": {},
   "outputs": [
    {
     "data": {
      "text/plain": [
       "array([[0., 0.],\n",
       "       [0., 0.],\n",
       "       [0., 0.]])"
      ]
     },
     "execution_count": 8,
     "metadata": {},
     "output_type": "execute_result"
    }
   ],
   "source": [
    "#Create a 3x2 array filled with zeros\n",
    "np.zeros((3, 2))"
   ]
  },
  {
   "cell_type": "code",
   "execution_count": 19,
   "metadata": {},
   "outputs": [
    {
     "data": {
      "text/plain": [
       "array([[[1, 1, 1],\n",
       "        [1, 1, 1],\n",
       "        [1, 1, 1]],\n",
       "\n",
       "       [[1, 1, 1],\n",
       "        [1, 1, 1],\n",
       "        [1, 1, 1]]], dtype=int16)"
      ]
     },
     "execution_count": 19,
     "metadata": {},
     "output_type": "execute_result"
    }
   ],
   "source": [
    "#Create a 3d 2x3x3 array filled with ones of integer type\n",
    "np.ones((2, 3, 3), dtype=np.int16)"
   ]
  },
  {
   "cell_type": "code",
   "execution_count": 15,
   "metadata": {},
   "outputs": [
    {
     "data": {
      "text/plain": [
       "array([[1., 0., 0., 0., 0.],\n",
       "       [0., 1., 0., 0., 0.],\n",
       "       [0., 0., 1., 0., 0.],\n",
       "       [0., 0., 0., 1., 0.],\n",
       "       [0., 0., 0., 0., 1.]])"
      ]
     },
     "execution_count": 15,
     "metadata": {},
     "output_type": "execute_result"
    }
   ],
   "source": [
    "#Create an eye matrix\n",
    "np.eye(5)"
   ]
  },
  {
   "cell_type": "code",
   "execution_count": 16,
   "metadata": {},
   "outputs": [
    {
     "data": {
      "text/plain": [
       "array([ 5, 10, 15, 20, 25])"
      ]
     },
     "execution_count": 16,
     "metadata": {},
     "output_type": "execute_result"
    }
   ],
   "source": [
    "#Create an array as a sequence of numbers\n",
    "np.arange(5, 30, 5)"
   ]
  },
  {
   "cell_type": "code",
   "execution_count": 17,
   "metadata": {},
   "outputs": [
    {
     "data": {
      "text/plain": [
       "array([0.  , 0.25, 0.5 , 0.75, 1.  , 1.25, 1.5 , 1.75, 2.  ])"
      ]
     },
     "execution_count": 17,
     "metadata": {},
     "output_type": "execute_result"
    }
   ],
   "source": [
    "#Create an array as a sequence of numbers with a predefined number of steps\n",
    "np.linspace(0, 2, 9)"
   ]
  },
  {
   "attachments": {},
   "cell_type": "markdown",
   "metadata": {},
   "source": [
    "You can also the `reshape()` method to change the dimension of your array, make sure that the total number of elements is the same:"
   ]
  },
  {
   "cell_type": "code",
   "execution_count": 21,
   "metadata": {},
   "outputs": [
    {
     "data": {
      "text/plain": [
       "array([[1.   , 1.125, 1.25 ],\n",
       "       [1.375, 1.5  , 1.625],\n",
       "       [1.75 , 1.875, 2.   ]])"
      ]
     },
     "execution_count": 21,
     "metadata": {},
     "output_type": "execute_result"
    }
   ],
   "source": [
    "np.linspace(1, 2, 9).reshape(3, 3)"
   ]
  },
  {
   "attachments": {},
   "cell_type": "markdown",
   "metadata": {},
   "source": [
    "## Indexing\n",
    "One-dimensional arrays are be indexed and sliced the same as Python lists:"
   ]
  },
  {
   "cell_type": "code",
   "execution_count": 25,
   "metadata": {},
   "outputs": [
    {
     "name": "stdout",
     "output_type": "stream",
     "text": [
      "[0 1 2 3 4 5 6 7 8 9]\n",
      "2\n",
      "[2 3 4]\n",
      "8\n"
     ]
    }
   ],
   "source": [
    "a = np.arange(10)\n",
    "print(a)\n",
    "print(a[2])\n",
    "print(a[2:5])\n",
    "print(a[-2])"
   ]
  },
  {
   "attachments": {},
   "cell_type": "markdown",
   "metadata": {},
   "source": [
    "Multidimensional arrays can have one index per axis. These indices are separated by commas:"
   ]
  },
  {
   "cell_type": "code",
   "execution_count": 45,
   "metadata": {},
   "outputs": [
    {
     "name": "stdout",
     "output_type": "stream",
     "text": [
      "[[ 1.  2.  3.  4.]\n",
      " [ 5.  6.  7.  8.]\n",
      " [ 9. 10. 11. 12.]\n",
      " [13. 14. 15. 16.]] \n",
      "\n",
      "12.0 \n",
      "\n",
      "[ 2.  6. 10. 14.] \n",
      "\n",
      "[ 2.  6. 10. 14.] \n",
      "\n",
      "[[ 5.  6.  7.  8.]\n",
      " [ 9. 10. 11. 12.]] \n",
      "\n",
      "[13. 14. 15. 16.] \n",
      "\n",
      "15.0\n"
     ]
    }
   ],
   "source": [
    "b = np.linspace(1, 16, 16).reshape(4, 4)\n",
    "print(b, '\\n')\n",
    "\n",
    "print(b[2, 3], '\\n')    # the element of b in the 3rd row, 4th column\n",
    "print(b[0:4, 1], '\\n')  # each row in the second column of b\n",
    "print(b[:, 1], '\\n')    # equivalent to the previous example\n",
    "print(b[1:3, :], '\\n')  # each column in the second and third row of b\n",
    "print(b[-1], '\\n')      # the last row. Equivalent to b[-1, :]\n",
    "print(b.flat[14])       # the 15th element of the matrix"
   ]
  },
  {
   "attachments": {},
   "cell_type": "markdown",
   "metadata": {},
   "source": [
    "## Basic operations\n",
    "Arithmetic operators on arrays apply **elementwise**. "
   ]
  },
  {
   "cell_type": "code",
   "execution_count": 44,
   "metadata": {},
   "outputs": [
    {
     "name": "stdout",
     "output_type": "stream",
     "text": [
      "[10 20 30 40] \n",
      "\n",
      "[0 1 2 3] \n",
      "\n",
      "[10 21 32 43] \n",
      "\n",
      "[0 1 4 9] \n",
      "\n",
      "[-5.44021111  9.12945251 -9.88031624  7.4511316 ] \n",
      "\n",
      "[ True  True  True False]\n"
     ]
    }
   ],
   "source": [
    "a = np.array([10, 20, 30, 40])\n",
    "b = np.arange(4)\n",
    "print(a, '\\n')\n",
    "print(b, '\\n')\n",
    "\n",
    "c = a + b       #add the arrays elementwise\n",
    "print(c, '\\n')\n",
    "\n",
    "d = b ** 2      #square all the elements of b\n",
    "print(d, '\\n')\n",
    "\n",
    "e = 10 * np.sin(a)\n",
    "print(e, '\\n')\n",
    "\n",
    "f = a < 35\n",
    "print(f)"
   ]
  },
  {
   "attachments": {},
   "cell_type": "markdown",
   "metadata": {},
   "source": [
    "The product operator `*` also operates elementwise in NumPy arrays (unlike in MATLAB). The matrix product can be performed using the `@` operator or the `dot()` function or method:"
   ]
  },
  {
   "cell_type": "code",
   "execution_count": 47,
   "metadata": {},
   "outputs": [
    {
     "name": "stdout",
     "output_type": "stream",
     "text": [
      "[[2 0]\n",
      " [0 4]] \n",
      "\n",
      "[[2 3]\n",
      " [2 7]] \n",
      "\n",
      "[[2 3]\n",
      " [2 7]] \n",
      "\n",
      "[[2 3]\n",
      " [2 7]]\n"
     ]
    }
   ],
   "source": [
    "A = np.array([[1, 0],\n",
    "              [1, 1]])\n",
    "\n",
    "B = np.array([[2, 3],\n",
    "              [0, 4]])\n",
    "\n",
    "C = A * B         # elementwise product\n",
    "print(C, '\\n')\n",
    "\n",
    "D = A @ B         # matrix product\n",
    "print(D, '\\n')\n",
    "\n",
    "E = np.dot(A, B)  # function for the matrix product\n",
    "print(E, '\\n')\n",
    "\n",
    "F = A.dot(B)      # method for the matrix product\n",
    "print(F)"
   ]
  },
  {
   "attachments": {},
   "cell_type": "markdown",
   "metadata": {},
   "source": [
    "## Universal Functions\n",
    "NumPy provides mathematical functions such as `sin`, `cos`, and `exp`. These functions operate elementwise on an array, producing an array as output."
   ]
  },
  {
   "cell_type": "code",
   "execution_count": 48,
   "metadata": {},
   "outputs": [
    {
     "name": "stdout",
     "output_type": "stream",
     "text": [
      "[0 1 2] \n",
      "\n",
      "[1.         2.71828183 7.3890561 ] \n",
      "\n",
      "[3.16227766 4.58257569 5.65685425 6.55743852] \n",
      "\n",
      "[-0.99978607 -0.129449    0.8101836   0.96262772] \n",
      "\n"
     ]
    }
   ],
   "source": [
    "a = np.arange(3)\n",
    "print(a, '\\n')\n",
    "\n",
    "b = np.exp(a)\n",
    "print(b, '\\n')\n",
    "\n",
    "c = np.sqrt(c)\n",
    "print(c, '\\n')\n",
    "\n",
    "d = np.cos(c)\n",
    "print(d, '\\n')"
   ]
  }
 ],
 "metadata": {
  "kernelspec": {
   "display_name": "base",
   "language": "python",
   "name": "python3"
  },
  "language_info": {
   "codemirror_mode": {
    "name": "ipython",
    "version": 3
   },
   "file_extension": ".py",
   "mimetype": "text/x-python",
   "name": "python",
   "nbconvert_exporter": "python",
   "pygments_lexer": "ipython3",
   "version": "3.9.13"
  },
  "orig_nbformat": 4
 },
 "nbformat": 4,
 "nbformat_minor": 2
}
